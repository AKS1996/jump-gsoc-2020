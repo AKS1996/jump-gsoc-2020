{
 "cells": [
  {
   "cell_type": "code",
   "execution_count": 61,
   "metadata": {},
   "outputs": [],
   "source": [
    "import numpy as np\n",
    "import cvxpy as cp\n",
    "from scipy import sparse\n",
    "import diffcp"
   ]
  },
  {
   "cell_type": "code",
   "execution_count": 86,
   "metadata": {},
   "outputs": [],
   "source": [
    "A = sparse.csc_matrix((4,3), dtype=np.float64)\n",
    "A[1, 0]  =  -1.0\n",
    "A[0, 1]  =  -1.0\n",
    "A[2, 1]  =  -1.41421\n",
    "A[3, 2]  =  -1.0"
   ]
  },
  {
   "cell_type": "code",
   "execution_count": 87,
   "metadata": {
    "scrolled": false
   },
   "outputs": [
    {
     "name": "stdout",
     "output_type": "stream",
     "text": [
      "[0.99999748 1.         0.99999748]\n",
      "[8.37535865e-17 9.99997481e-01 1.41421000e+00 9.99997481e-01]\n",
      "[ 1.99999496  1.         -1.41421356  1.        ]\n",
      "[2.58577489 1.99999496 2.58577489]\n",
      "[2.37506913e-16 5.85779924e-01 8.28417913e-01 5.85779924e-01]\n",
      "[10.75732613  3.5857814  -5.07106069  3.5857814 ]\n"
     ]
    }
   ],
   "source": [
    "# equivalent to https://github.com/jump-dev/MathOptInterface.jl/blob/master/src/Test/contconic.jl#L2417\n",
    "\n",
    "cone_dict = {\n",
    "    diffcp.PSD: [2],\n",
    "    diffcp.ZERO: 1\n",
    "}\n",
    "\n",
    "b = np.array([-1.0, 0.0, 0.0, 0.0])\n",
    "c = np.array([1.0, 0.0, 1.0])\n",
    "\n",
    "x, y, s, D, DT = diffcp.solve_and_derivative(A, b, c, cone_dict)\n",
    "print(x) # MOI.VariablePrimal\n",
    "print(s) # MOI.ConstraintPrimal\n",
    "print(y) # MOI.ConstraintDual\n",
    "\n",
    "\n",
    "dx, dy, ds = D(sparse.csc_matrix(np.ones((4,3))), np.ones(4), np.ones(3))\n",
    "print(dx)\n",
    "print(ds)\n",
    "print(dy)"
   ]
  },
  {
   "cell_type": "code",
   "execution_count": null,
   "metadata": {},
   "outputs": [],
   "source": []
  }
 ],
 "metadata": {
  "kernelspec": {
   "display_name": "Python 3.6.9 64-bit ('procol': venv)",
   "language": "python",
   "name": "python36964bitprocolvenv3d5a78e847ac487da652a96deb972468"
  },
  "language_info": {
   "codemirror_mode": {
    "name": "ipython",
    "version": 3
   },
   "file_extension": ".py",
   "mimetype": "text/x-python",
   "name": "python",
   "nbconvert_exporter": "python",
   "pygments_lexer": "ipython3",
   "version": "3.6.9"
  }
 },
 "nbformat": 4,
 "nbformat_minor": 2
}
