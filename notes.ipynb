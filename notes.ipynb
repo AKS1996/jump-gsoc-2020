{
 "cells": [
  {
   "cell_type": "markdown",
   "metadata": {},
   "source": [
    "## 31 May 2020"
   ]
  },
  {
   "cell_type": "markdown",
   "metadata": {},
   "source": [
    "N.B. in backprop of linear regression we differentiate like\n",
    "$$ W \\leftarrow W - \\alpha*\\frac{dProb}{dW} $$\n",
    "since $$\\text{W is optimal for the Prob} \\implies \\frac{dProb}{dW} = 0$$"
   ]
  },
  {
   "cell_type": "markdown",
   "metadata": {},
   "source": [
    "in some reverse AD texts, $$ \\frac{dProb}{dW} = \\partial W$$ called the **adjoint** of the derivative (refer https://rufflewind.com/2016-12-30/reverse-mode-automatic-differentiation). Specifically,\n",
    "- find derivative = take input dW, use saved values of x,w  and compute dx\n",
    "- find adjoint derivative = take input dx, use saved values of x,w  and compute dW"
   ]
  },
  {
   "cell_type": "markdown",
   "metadata": {},
   "source": [
    "but overall it makes sense as we're differentiating wrt prob data such as (A,b,c...) to compute $$ \\frac{dProb}{dA}, \\frac{dProb}{db}, \\frac{dProb}{dG} $$\n",
    "$$\\text{or, } \\partial A, \\partial b, \\partial G $$"
   ]
  },
  {
   "cell_type": "markdown",
   "metadata": {},
   "source": [
    "which are called **sensivities or perturbations** too"
   ]
  },
  {
   "cell_type": "markdown",
   "metadata": {},
   "source": [
    "**slack variables** are just used to remodel constraints, for ex\n",
    "$$ Ax \\leq b  \\leftrightarrow Ax-b=s; s \\in R_-$$"
   ]
  },
  {
   "cell_type": "code",
   "execution_count": null,
   "metadata": {},
   "outputs": [],
   "source": []
  }
 ],
 "metadata": {
  "kernelspec": {
   "display_name": "Python 3.6.9 64-bit ('procol': venv)",
   "language": "python",
   "name": "python36964bitprocolvenv3d5a78e847ac487da652a96deb972468"
  },
  "language_info": {
   "codemirror_mode": {
    "name": "ipython",
    "version": 3
   },
   "file_extension": ".py",
   "mimetype": "text/x-python",
   "name": "python",
   "nbconvert_exporter": "python",
   "pygments_lexer": "ipython3",
   "version": "3.6.9"
  }
 },
 "nbformat": 4,
 "nbformat_minor": 2
}
