{
 "cells": [
  {
   "cell_type": "code",
   "execution_count": 230,
   "metadata": {},
   "outputs": [
    {
     "data": {
      "text/plain": [
       "create_LHS_matrix (generic function with 2 methods)"
      ]
     },
     "execution_count": 230,
     "metadata": {},
     "output_type": "execute_result"
    }
   ],
   "source": [
    "function create_LHS_matrix(z,λ,Q,G,h,A=nothing)\n",
    "    if A == nothing || size(A)[1] == 0\n",
    "        return [Q                G';\n",
    "                Diagonal(λ)*G    Diagonal(G*z - h)]\n",
    "    else\n",
    "        @assert size(A)[2] == size(G)[2]\n",
    "        p, n = size(A)\n",
    "        m    = size(G)[1]\n",
    "        return [Q                G'                  A';  \n",
    "                Diagonal(λ)*G    Diagonal(G*z - h)   zeros(m,p);\n",
    "                A                zeros(p,m)          zeros(p,p)]\n",
    "    end\n",
    "end"
   ]
  },
  {
   "cell_type": "code",
   "execution_count": 231,
   "metadata": {},
   "outputs": [
    {
     "data": {
      "text/plain": [
       "create_RHS_matrix (generic function with 4 methods)"
      ]
     },
     "execution_count": 231,
     "metadata": {},
     "output_type": "execute_result"
    }
   ],
   "source": [
    "function create_RHS_matrix(z,dQ,dq,λ,dG,dh,ν=nothing,dA=nothing,db=nothing)\n",
    "    if dA == nothing || size(dA)[1] == 0\n",
    "        return -[dQ*z + dq + dG'*λ;\n",
    "                 Diagonal(λ)*(dG*z - dh)]\n",
    "    else\n",
    "        return -[dQ*z + dq + dG'*λ + dA'*ν;\n",
    "                 Diagonal(λ)*(dG*z - dh);\n",
    "                 dA*z - db]\n",
    "    end\n",
    "end"
   ]
  },
  {
   "cell_type": "code",
   "execution_count": 11,
   "metadata": {
    "scrolled": true
   },
   "outputs": [
    {
     "data": {
      "text/plain": [
       "4×1 Array{Float64,2}:\n",
       " -0.0 \n",
       " -0.0 \n",
       "  0.25\n",
       "  0.0 "
      ]
     },
     "execution_count": 11,
     "metadata": {},
     "output_type": "execute_result"
    }
   ],
   "source": [
    "create_RHS_matrix(z,zeros(2,2),zeros(2,1),λ,zeros(2,2),ones(2,1))"
   ]
  },
  {
   "cell_type": "code",
   "execution_count": 244,
   "metadata": {},
   "outputs": [
    {
     "data": {
      "text/plain": [
       "get_problem_data"
      ]
     },
     "execution_count": 244,
     "metadata": {},
     "output_type": "execute_result"
    }
   ],
   "source": [
    "coefficient(t::MOI.ScalarAffineTerm) = t.coefficient\n",
    "\n",
    "\"\"\"\n",
    "    Return problem parameters as matrices and other info\n",
    "\"\"\"\n",
    "function get_problem_data(model::MOI.AbstractOptimizer)\n",
    "    var_idx = MOI.get(model, MOI.ListOfVariableIndices())\n",
    "    nz = size(var_idx)[1]\n",
    "\n",
    "    # handle inequality constraints\n",
    "    ineq_con_idx = MOI.get(\n",
    "                        model, \n",
    "                        MOI.ListOfConstraintIndices{\n",
    "                            MOI.ScalarAffineFunction{Float64}, \n",
    "                            MOI.LessThan{Float64}\n",
    "                        }())\n",
    "    nineq = size(ineq_con_idx)[1]\n",
    "\n",
    "    G = zeros(nineq, nz)\n",
    "    h = zeros(nineq)\n",
    "\n",
    "    for i in 1:nineq\n",
    "        con = ineq_con_idx[i]\n",
    "\n",
    "        func = MOI.get(model, MOI.ConstraintFunction(), con)\n",
    "        set = MOI.get(model, MOI.ConstraintSet(), con)\n",
    "\n",
    "        G[i, :] = coefficient.(func.terms)'\n",
    "        h[i] = set.upper - func.constant\n",
    "    end\n",
    "    \n",
    "    # handle equality constraints\n",
    "    eq_con_idx   = MOI.get(\n",
    "                        model, \n",
    "                        MOI.ListOfConstraintIndices{\n",
    "                            MOI.ScalarAffineFunction{Float64}, \n",
    "                            MOI.EqualTo{Float64}\n",
    "                        }())\n",
    "    neq   = size(eq_con_idx)[1]\n",
    "    \n",
    "    if neq > 0\n",
    "        A = zeros(neq, nz)\n",
    "        b = zeros(neq)\n",
    "        \n",
    "        for i in 1:neq\n",
    "            con = eq_con_idx[i]\n",
    "\n",
    "            func = MOI.get(model, MOI.ConstraintFunction(), con)\n",
    "            set = MOI.get(model, MOI.ConstraintSet(), con)\n",
    "\n",
    "            A[i, :] = coefficient.(func.terms)'\n",
    "            b[i]    = set.value - func.constant\n",
    "        end\n",
    "    else\n",
    "        A = nothing\n",
    "        b = nothing\n",
    "    end\n",
    "    \n",
    "    # handle objective\n",
    "    # works both for affine and quadratic objective functions\n",
    "    objective_function = MOI.get(model, MOI.ObjectiveFunction{MOI.ScalarQuadraticFunction{Float64}}())\n",
    "    Q = zeros(nz,nz)\n",
    "    \n",
    "    if typeof(objective_function) == MathOptInterface.ScalarAffineFunction{Float64}\n",
    "        q = coefficient.(objective_function.terms)\n",
    "    elseif typeof(objective_function) == MathOptInterface.ScalarQuadraticFunction{Float64}\n",
    "        @assert size(objective_function.quadratic_terms)[1] == (nz*(nz+1))/2    \n",
    "        \n",
    "        var_to_id = Dict(var_idx .=> 1:nz)\n",
    "        \n",
    "        for quad in objective_function.quadratic_terms\n",
    "            i = var_to_id[quad.variable_index_1]\n",
    "            j = var_to_id[quad.variable_index_2]\n",
    "            Q[i,j] = quad.coefficient\n",
    "            Q[j,i] = quad.coefficient\n",
    "        end\n",
    "        \n",
    "        q = coefficient.(objective_function.affine_terms)\n",
    "    end\n",
    "    \n",
    "    return Q, q, G, h, A, b, nz, var_idx, nineq, ineq_con_idx, neq, eq_con_idx\n",
    "end"
   ]
  },
  {
   "cell_type": "code",
   "execution_count": 245,
   "metadata": {},
   "outputs": [
    {
     "data": {
      "text/plain": [
       "DiffOpt (generic function with 1 method)"
      ]
     },
     "execution_count": 245,
     "metadata": {},
     "output_type": "execute_result"
    }
   ],
   "source": [
    "function DiffOpt(_model::MOI.AbstractOptimizer)\n",
    "    model = deepcopy(_model)\n",
    "    \n",
    "    Q, q, G, h, A, b, nz, var_idx, nineq, ineq_con_idx, neq, eq_con_idx = get_problem_data(model)\n",
    "    \n",
    "    z = zeros(0) # solution\n",
    "    λ = zeros(0) # lagrangian variables\n",
    "    ν = zeros(0)\n",
    "    \n",
    "    \n",
    "    \"\"\"\n",
    "        Solving the convex optimization problem in forward pass\n",
    "    \"\"\"\n",
    "    function forward()\n",
    "        # solve the model\n",
    "        MOI.optimize!(model)\n",
    "        \n",
    "        # check status\n",
    "        @assert MOI.get(model, MOI.TerminationStatus()) in [MOI.LOCALLY_SOLVED, MOI.OPTIMAL]\n",
    "        \n",
    "        # get and save the solution\n",
    "        z = MOI.get(model, MOI.VariablePrimal(), var_idx)\n",
    "        \n",
    "        # get and save dual variables\n",
    "        λ = MOI.get(model, MOI.ConstraintDual(), ineq_con_idx)\n",
    "    \n",
    "        if neq > 0\n",
    "            ν = MOI.get(model, MOI.ConstraintDual(), eq_con_idx)\n",
    "        end\n",
    "    \n",
    "        return z\n",
    "    end\n",
    "    \n",
    "    \"\"\"\n",
    "        Method to differentiate and obtain gradients/jacobians\n",
    "        of z, λ, ν  with respect to the parameters specified in\n",
    "        in argument\n",
    "    \"\"\"\n",
    "    function backward(params::Array{String})\n",
    "        grads = Array{Float64}[]\n",
    "        LHS = create_LHS_matrix(z, λ, Q, G, h, A)\n",
    "        for param in params\n",
    "            if param == \"h\"\n",
    "                RHS = create_RHS_matrix(z, zeros(nz, nz), zeros(nz, 1), \n",
    "                                        λ, zeros(nineq, nz), ones(nineq,1),\n",
    "                                        ν, zeros(neq, nz), zeros(neq, 1))\n",
    "                push!(grads, LHS \\ RHS)\n",
    "            elseif param == \"Q\"\n",
    "                RHS = create_RHS_matrix(z, ones(nz, nz), zeros(nz, 1),\n",
    "                                        λ, zeros(nineq, nz), zeros(nineq,1),\n",
    "                                        ν, zeros(neq, nz), zeros(neq, 1))\n",
    "                push!(grads, LHS \\ RHS)\n",
    "            else\n",
    "                push!(grads, [])\n",
    "            end\n",
    "        end\n",
    "        return grads\n",
    "    end\n",
    "    \n",
    "    () -> (forward, backward)\n",
    "end"
   ]
  },
  {
   "cell_type": "code",
   "execution_count": 31,
   "metadata": {},
   "outputs": [],
   "source": [
    "using MathOptInterface\n",
    "using Ipopt\n",
    "using OSQP\n",
    "using LinearAlgebra\n",
    "\n",
    "const MOI = MathOptInterface\n",
    "const MOIU = MathOptInterface.Utilities;"
   ]
  },
  {
   "cell_type": "code",
   "execution_count": 32,
   "metadata": {},
   "outputs": [],
   "source": [
    "n = 2 # variable dimension\n",
    "m = 6; # no of inequality constraints"
   ]
  },
  {
   "cell_type": "code",
   "execution_count": 33,
   "metadata": {},
   "outputs": [],
   "source": [
    "# using example on https://osqp.org/docs/examples/setup-and-solve.html\n",
    "Q = [4. 1.;1. 2.]\n",
    "q = [1.; 1.]\n",
    "G = [1. 1.;\n",
    "    1. 0.;\n",
    "    0. 1.;\n",
    "    -1. -1.;\n",
    "    -1. 0.;\n",
    "    0. -1.]\n",
    "h = [1.;\n",
    "    0.7;\n",
    "    0.7; \n",
    "    -1.;\n",
    "    0.;\n",
    "    0.];"
   ]
  },
  {
   "cell_type": "code",
   "execution_count": 34,
   "metadata": {},
   "outputs": [],
   "source": [
    "# model = MOI.instantiate(OSQP.Optimizer, with_bridge_type=Float64)\n",
    "# x = MOI.add_variables(model, n);"
   ]
  },
  {
   "cell_type": "code",
   "execution_count": 130,
   "metadata": {},
   "outputs": [
    {
     "name": "stderr",
     "output_type": "stream",
     "text": [
      "WARNING: redefining constant IPO_OPTIMIZER\n",
      "WARNING: redefining constant IPO_CACHE\n"
     ]
    }
   ],
   "source": [
    "const IPO_OPTIMIZER = Ipopt.Optimizer(print_level=0)\n",
    "MOI.set(IPO_OPTIMIZER, MOI.Silent(), true)\n",
    "const IPO_CACHE = MOIU.UniversalFallback(MOIU.Model{Float64}())\n",
    "model = MOIU.CachingOptimizer(IPO_CACHE, IPO_OPTIMIZER)\n",
    "\n",
    "x = MOI.add_variables(model, n);"
   ]
  },
  {
   "cell_type": "code",
   "execution_count": 131,
   "metadata": {},
   "outputs": [
    {
     "data": {
      "text/plain": [
       "MIN_SENSE::OptimizationSense = 0"
      ]
     },
     "execution_count": 131,
     "metadata": {},
     "output_type": "execute_result"
    }
   ],
   "source": [
    "# define objective\n",
    "\n",
    "quad_terms = MOI.ScalarQuadraticTerm{Float64}[]\n",
    "for i in 1:n\n",
    "    for j in i:n # indexes (i,j), (j,i) will be mirrored. specify only one kind\n",
    "        push!(quad_terms, MOI.ScalarQuadraticTerm(Q[i,j],x[i],x[j]))\n",
    "    end\n",
    "end\n",
    "\n",
    "objective_function = MOI.ScalarQuadraticFunction(MOI.ScalarAffineTerm.(q, x),quad_terms,0.)\n",
    "MOI.set(model, MOI.ObjectiveFunction{MOI.ScalarQuadraticFunction{Float64}}(), objective_function)\n",
    "MOI.set(model, MOI.ObjectiveSense(), MOI.MIN_SENSE)"
   ]
  },
  {
   "cell_type": "code",
   "execution_count": 132,
   "metadata": {},
   "outputs": [],
   "source": [
    "# add constraints\n",
    "for i in 1:m\n",
    "    MOI.add_constraint(\n",
    "        model,\n",
    "        MOI.ScalarAffineFunction(MOI.ScalarAffineTerm.(G[i,:], x), 0.),\n",
    "        MOI.LessThan(h[i])\n",
    "    )\n",
    "end"
   ]
  },
  {
   "cell_type": "code",
   "execution_count": 246,
   "metadata": {},
   "outputs": [
    {
     "data": {
      "text/plain": [
       "#79 (generic function with 1 method)"
      ]
     },
     "execution_count": 246,
     "metadata": {},
     "output_type": "execute_result"
    }
   ],
   "source": [
    "dd = DiffOpt(model)"
   ]
  },
  {
   "cell_type": "code",
   "execution_count": 247,
   "metadata": {},
   "outputs": [
    {
     "data": {
      "text/plain": [
       "2-element Array{Float64,1}:\n",
       " 0.29999998486705753\n",
       " 0.7000000054542964 "
      ]
     },
     "execution_count": 247,
     "metadata": {},
     "output_type": "execute_result"
    }
   ],
   "source": [
    "pp = dd.forward()"
   ]
  },
  {
   "cell_type": "code",
   "execution_count": 248,
   "metadata": {},
   "outputs": [
    {
     "data": {
      "text/plain": [
       "1-element Array{Array{Float64,N} where N,1}:\n",
       " [-3.33746e-9; -3.04801e-16; … ; -3.37117e-17; -5.74678e-25]"
      ]
     },
     "execution_count": 248,
     "metadata": {},
     "output_type": "execute_result"
    }
   ],
   "source": [
    "grads = dd.backward([\"Q\"])"
   ]
  },
  {
   "cell_type": "code",
   "execution_count": null,
   "metadata": {},
   "outputs": [],
   "source": []
  }
 ],
 "metadata": {
  "kernelspec": {
   "display_name": "Julia 1.0.5",
   "language": "julia",
   "name": "julia-1.0"
  },
  "language_info": {
   "file_extension": ".jl",
   "mimetype": "application/julia",
   "name": "julia",
   "version": "1.0.5"
  }
 },
 "nbformat": 4,
 "nbformat_minor": 2
}
