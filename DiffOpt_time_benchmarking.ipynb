{
 "cells": [
  {
   "cell_type": "code",
   "execution_count": 13,
   "metadata": {},
   "outputs": [],
   "source": [
    "using Random\n",
    "using SCS\n",
    "using Test\n",
    "using BenchmarkTools\n",
    "using MathOptInterface\n",
    "using SparseArrays\n",
    "using MatrixOptInterface\n",
    "using DiffOpt\n",
    "\n",
    "const MOI  = MathOptInterface\n",
    "const MatOI = MatrixOptInterface\n",
    "const MOIU = MathOptInterface.Utilities;\n",
    "\n",
    "const ATOL=1e-3\n",
    "const RTOL=1e-3;"
   ]
  },
  {
   "cell_type": "code",
   "execution_count": 14,
   "metadata": {},
   "outputs": [],
   "source": [
    "# starting w/ a simple LP\n",
    "\n",
    "D = 50  # variable dimension\n",
    "M = 50  # no of equality constraints\n",
    "N = 60; # no of inequality constraints"
   ]
  },
  {
   "cell_type": "code",
   "execution_count": 15,
   "metadata": {},
   "outputs": [],
   "source": [
    "x̂ = rand(D) # solution\n",
    "\n",
    "c = rand(D) # objective coeffs\n",
    "\n",
    "A = rand(M, D) # equality part\n",
    "b = A*x̂\n",
    "\n",
    "G = rand(N, D) # inequality part\n",
    "h = G*x̂ .+ rand(N);"
   ]
  },
  {
   "cell_type": "code",
   "execution_count": 16,
   "metadata": {},
   "outputs": [],
   "source": [
    "model = diff_optimizer(SCS.Optimizer)\n",
    "x = MOI.add_variables(model, D)\n",
    "\n",
    "# define objective\n",
    "objective_function = MOI.ScalarAffineFunction(MOI.ScalarAffineTerm.(c, x), 0.0)\n",
    "MOI.set(model, MOI.ObjectiveFunction{MOI.ScalarAffineFunction{Float64}}(), objective_function)\n",
    "MOI.set(model, MOI.ObjectiveSense(), MOI.MIN_SENSE)\n",
    "\n",
    "# set equality constraints\n",
    "# # push!(constraint_indices, MOI.add_constraint(model,MOI.ScalarAffineFunction(MOI.ScalarAffineTerm.(A[i,:], x), 0.),MOI.LessThan(b[i])))\n",
    "ceq = [ \n",
    "    MOI.add_constraint(\n",
    "        model,\n",
    "        MOI.VectorAffineFunction(\n",
    "            MOI.VectorAffineTerm.(1:1, MOI.ScalarAffineTerm.(A[i,:], x)),\n",
    "            [-b[i]]\n",
    "        ),\n",
    "        MOI.Zeros(1)\n",
    "    ) for i in 1:M   \n",
    "]\n",
    "\n",
    "# set inequality constraints\n",
    "cineq = [ \n",
    "    MOI.add_constraint(\n",
    "        model,\n",
    "        MOI.VectorAffineFunction(\n",
    "            MOI.VectorAffineTerm.(1:1, MOI.ScalarAffineTerm.(-G[i,:], x)),\n",
    "            [h[i]]\n",
    "        ),\n",
    "        MOI.Nonnegatives(1)\n",
    "    ) for i in 1:N   \n",
    "]\n",
    "\n",
    "MOI.set(model, MOI.Silent(), true)\n",
    "MOI.optimize!(model)\n",
    "\n",
    "x̄ = MOI.get(model, MOI.VariablePrimal(), x);  # solution"
   ]
  },
  {
   "cell_type": "code",
   "execution_count": 17,
   "metadata": {
    "scrolled": false
   },
   "outputs": [
    {
     "data": {
      "text/plain": [
       "\u001b[32m\u001b[1mTest Passed\u001b[22m\u001b[39m"
      ]
     },
     "execution_count": 17,
     "metadata": {},
     "output_type": "execute_result"
    }
   ],
   "source": [
    "# testing solution validity\n",
    "@test (c'x̄ <= c'x̂) || c' * (x̄ - x̂) <= ATOL  \n",
    "@test A*x̄ ≈ b atol=ATOL rtol=RTOL\n",
    "@test G*x̄ <= h"
   ]
  },
  {
   "cell_type": "code",
   "execution_count": 18,
   "metadata": {},
   "outputs": [],
   "source": [
    "# dA = zeros(11,5)\n",
    "db = zeros(110)\n",
    "dc = zeros(50);"
   ]
  },
  {
   "cell_type": "code",
   "execution_count": 20,
   "metadata": {},
   "outputs": [
    {
     "data": {
      "text/plain": [
       "BenchmarkTools.Trial: \n",
       "  memory estimate:  151.44 MiB\n",
       "  allocs estimate:  187285\n",
       "  --------------\n",
       "  minimum time:     117.138 ms (14.92% GC)\n",
       "  median time:      130.666 ms (15.70% GC)\n",
       "  mean time:        137.346 ms (18.12% GC)\n",
       "  maximum time:     275.103 ms (64.13% GC)\n",
       "  --------------\n",
       "  samples:          37\n",
       "  evals/sample:     1"
      ]
     },
     "execution_count": 20,
     "metadata": {},
     "output_type": "execute_result"
    }
   ],
   "source": [
    "@benchmark backward_conic!($model, dA, $db, $dc) setup=(dA=rand(110,50))"
   ]
  },
  {
   "cell_type": "code",
   "execution_count": 28,
   "metadata": {
    "scrolled": false
   },
   "outputs": [],
   "source": [
    "# # might slow down computation\n",
    "# # need to find a faster way\n",
    "# function CSRToCSC(B::MatOI.SparseMatrixCSRtoCSC{Int64})\n",
    "#     A = sparse(zeros(B.m, B.n))\n",
    "#     last = 0\n",
    "#     for i in 1:B.n\n",
    "#         rnge = (last+1):B.colptr[i]\n",
    "#         A[(1 .+ B.rowval[rnge]), i] = B.nzval[rnge]\n",
    "#         last = B.colptr[i]\n",
    "#     end\n",
    "#     return A\n",
    "# end\n",
    "\n",
    "# conic_form = MatOI.get_conic_form(Float64, model.optimizer, model.con_idx)\n",
    "# # print(Array(CSRToCSC(conic_form.A)))\n",
    "# # print(conic_form.b)\n",
    "# # print(conic_form.c)"
   ]
  },
  {
   "cell_type": "code",
   "execution_count": null,
   "metadata": {},
   "outputs": [],
   "source": []
  }
 ],
 "metadata": {
  "kernelspec": {
   "display_name": "Julia 1.0.2",
   "language": "julia",
   "name": "julia-1.0"
  },
  "language_info": {
   "file_extension": ".jl",
   "mimetype": "application/julia",
   "name": "julia",
   "version": "1.0.5"
  }
 },
 "nbformat": 4,
 "nbformat_minor": 2
}
