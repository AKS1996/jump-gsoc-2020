{
 "cells": [
  {
   "cell_type": "code",
   "execution_count": 1,
   "metadata": {},
   "outputs": [
    {
     "name": "stderr",
     "output_type": "stream",
     "text": [
      "┌ Info: Recompiling stale cache file /home/pika/.julia/compiled/v1.0/SCS/uaibp.ji for SCS [c946c3f1-0d1f-5ce8-9dea-7daa1f7e2d13]\n",
      "└ @ Base loading.jl:1190\n",
      "┌ Info: Recompiling stale cache file /home/pika/.julia/compiled/v1.0/MatrixOptInterface/TIqsU.ji for MatrixOptInterface [2f4eb8e6-3e35-4ae4-8c7a-f3d7d9bf20ed]\n",
      "└ @ Base loading.jl:1190\n",
      "┌ Info: Recompiling stale cache file /home/pika/.julia/compiled/v1.0/DiffOpt/xRKO7.ji for DiffOpt [930fe3bc-9c6b-11ea-2d94-6184641e85e7]\n",
      "└ @ Base loading.jl:1190\n"
     ]
    }
   ],
   "source": [
    "using Random\n",
    "using SCS\n",
    "using Test\n",
    "using BenchmarkTools\n",
    "using MathOptInterface\n",
    "using SparseArrays\n",
    "using MatrixOptInterface\n",
    "using DiffOpt\n",
    "\n",
    "const MOI  = MathOptInterface\n",
    "const MatOI = MatrixOptInterface\n",
    "const MOIU = MathOptInterface.Utilities;\n",
    "\n",
    "const ATOL=1e-3\n",
    "const RTOL=1e-3;"
   ]
  },
  {
   "cell_type": "code",
   "execution_count": 2,
   "metadata": {},
   "outputs": [],
   "source": [
    "# starting w/ a simple LP\n",
    "\n",
    "D = 10  # variable dimension\n",
    "M = 50  # no of equality constraints\n",
    "N = 200; # no of inequality constraints"
   ]
  },
  {
   "cell_type": "code",
   "execution_count": 3,
   "metadata": {},
   "outputs": [],
   "source": [
    "x̂ = rand(D) # solution\n",
    "\n",
    "c = rand(D) # objective coeffs\n",
    "\n",
    "A = rand(M, D) # equality part\n",
    "b = A*x̂\n",
    "\n",
    "G = rand(N, D) # inequality part\n",
    "h = G*x̂ .+ rand(N);"
   ]
  },
  {
   "cell_type": "code",
   "execution_count": 4,
   "metadata": {},
   "outputs": [],
   "source": [
    "model = diff_optimizer(SCS.Optimizer)\n",
    "x = MOI.add_variables(model, D)\n",
    "\n",
    "# define objective\n",
    "objective_function = MOI.ScalarAffineFunction(MOI.ScalarAffineTerm.(c, x), 0.0)\n",
    "MOI.set(model, MOI.ObjectiveFunction{MOI.ScalarAffineFunction{Float64}}(), objective_function)\n",
    "MOI.set(model, MOI.ObjectiveSense(), MOI.MIN_SENSE)\n",
    "\n",
    "# set equality constraints\n",
    "# # push!(constraint_indices, MOI.add_constraint(model,MOI.ScalarAffineFunction(MOI.ScalarAffineTerm.(A[i,:], x), 0.),MOI.LessThan(b[i])))\n",
    "ceq = [ \n",
    "    MOI.add_constraint(\n",
    "        model,\n",
    "        MOI.VectorAffineFunction(\n",
    "            MOI.VectorAffineTerm.(1:1, MOI.ScalarAffineTerm.(A[i,:], x)),\n",
    "            [-b[i]]\n",
    "        ),\n",
    "        MOI.Zeros(1)\n",
    "    ) for i in 1:M   \n",
    "]\n",
    "\n",
    "# set inequality constraints\n",
    "cineq = [ \n",
    "    MOI.add_constraint(\n",
    "        model,\n",
    "        MOI.VectorAffineFunction(\n",
    "            MOI.VectorAffineTerm.(1:1, MOI.ScalarAffineTerm.(-G[i,:], x)),\n",
    "            [h[i]]\n",
    "        ),\n",
    "        MOI.Nonnegatives(1)\n",
    "    ) for i in 1:N   \n",
    "]\n",
    "\n",
    "MOI.set(model, MOI.Silent(), true)\n",
    "MOI.optimize!(model)\n",
    "\n",
    "x̄ = MOI.get(model, MOI.VariablePrimal(), x);  # solution"
   ]
  },
  {
   "cell_type": "code",
   "execution_count": 5,
   "metadata": {
    "scrolled": false
   },
   "outputs": [
    {
     "data": {
      "text/plain": [
       "\u001b[32m\u001b[1mTest Passed\u001b[22m\u001b[39m"
      ]
     },
     "execution_count": 5,
     "metadata": {},
     "output_type": "execute_result"
    }
   ],
   "source": [
    "# testing solution validity\n",
    "@test (c'x̄ <= c'x̂) || c' * (x̄ - x̂) <= ATOL  \n",
    "@test A*x̄ ≈ b atol=ATOL rtol=RTOL\n",
    "@test G*x̄ <= h"
   ]
  },
  {
   "cell_type": "code",
   "execution_count": 6,
   "metadata": {},
   "outputs": [
    {
     "data": {
      "text/plain": [
       "BenchmarkTools.Trial: \n",
       "  memory estimate:  468.66 KiB\n",
       "  allocs estimate:  1694\n",
       "  --------------\n",
       "  minimum time:     868.454 μs (0.00% GC)\n",
       "  median time:      1.021 ms (0.00% GC)\n",
       "  mean time:        1.392 ms (15.63% GC)\n",
       "  maximum time:     6.461 ms (65.58% GC)\n",
       "  --------------\n",
       "  samples:          3574\n",
       "  evals/sample:     1"
      ]
     },
     "execution_count": 6,
     "metadata": {},
     "output_type": "execute_result"
    }
   ],
   "source": [
    "dA = A #ones(M, D)\n",
    "db = b #ones(M)\n",
    "\n",
    "for i in 1:M\n",
    "    for j in 1:D\n",
    "        MOI.set(\n",
    "            model,\n",
    "            DiffOpt.ForwardIn{DiffOpt.ConstraintCoefficient}(),\n",
    "            x[j],\n",
    "            ceq[i],\n",
    "            [dA[i, j]]\n",
    "        )\n",
    "    end\n",
    "    MOI.set(\n",
    "        model,\n",
    "        DiffOpt.ForwardIn{DiffOpt.ConstraintConstant}(),\n",
    "        ceq[i],\n",
    "        [db[i]]\n",
    "    )\n",
    "end\n",
    "\n",
    "@benchmark DiffOpt.forward(model)"
   ]
  },
  {
   "cell_type": "code",
   "execution_count": null,
   "metadata": {},
   "outputs": [],
   "source": [
    "dx = MOI.get.(\n",
    "    model,\n",
    "    DiffOpt.ForwardOut{MOI.VariablePrimal}(),\n",
    "    x\n",
    ")"
   ]
  }
 ],
 "metadata": {
  "kernelspec": {
   "display_name": "Julia 1.0.4",
   "language": "julia",
   "name": "julia-1.0"
  },
  "language_info": {
   "file_extension": ".jl",
   "mimetype": "application/julia",
   "name": "julia",
   "version": "1.0.4"
  }
 },
 "nbformat": 4,
 "nbformat_minor": 2
}
