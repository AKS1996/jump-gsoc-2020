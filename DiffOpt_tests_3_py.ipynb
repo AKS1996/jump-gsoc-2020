{
 "cells": [
  {
   "cell_type": "code",
   "execution_count": 139,
   "metadata": {},
   "outputs": [],
   "source": [
    "from qpth.qp import QPFunction\n",
    "import torch\n",
    "import numpy as np\n",
    "from torch.autograd import Variable"
   ]
  },
  {
   "cell_type": "code",
   "execution_count": 140,
   "metadata": {},
   "outputs": [],
   "source": [
    "nz = 10\n",
    "nineq = 25\n",
    "neq = 10"
   ]
  },
  {
   "cell_type": "code",
   "execution_count": 141,
   "metadata": {},
   "outputs": [],
   "source": [
    "# script to create and save non random trivial QP\n",
    "\n",
    "import numpy.random as npr\n",
    "\n",
    "Q = npr.rand(nz, nz)\n",
    "Q = np.matmul(Q, Q.T)\n",
    "G = npr.randn(nineq, nz)\n",
    "z0 = npr.randn(nz)\n",
    "s0 = npr.rand(nineq)\n",
    "q = npr.randn(nz)\n",
    "h = np.matmul(G, z0) + s0\n",
    "A = npr.randn(neq, nz)\n",
    "b = np.matmul(A,z0)\n",
    "\n",
    "names = [\"Q\", \"q\", \"G\", \"h\", \"A\", \"b\"]\n",
    "matrices = [Q, q, G, h, A, b]\n",
    "\n",
    "for i in range(len(names)):\n",
    "    mat = np.matrix(matrices[i])\n",
    "    with open(names[i]+'.txt','wb') as fi:\n",
    "        for line in mat:\n",
    "            np.savetxt(fi, line, fmt='%.9f')"
   ]
  },
  {
   "cell_type": "code",
   "execution_count": 142,
   "metadata": {},
   "outputs": [],
   "source": [
    "# read matrices from files\n",
    "names = [\"Q\", \"q\", \"G\", \"h\", \"A\", \"b\"]\n",
    "matrices = []\n",
    "\n",
    "for name in names:\n",
    "    with open(name+'.txt','rb') as fi:\n",
    "        matrices.append(np.loadtxt(name+'.txt'))\n",
    "    \n",
    "Q, q, G, h, A, b = matrices"
   ]
  },
  {
   "cell_type": "code",
   "execution_count": 143,
   "metadata": {},
   "outputs": [],
   "source": [
    "q, Q, G, h, A, b = [torch.Tensor(x) for x in [q, Q, G, h, A, b]]\n",
    "\n",
    "q, Q, G, h, A, b = [Variable(x) for x in [q, Q, G, h, A, b]]\n",
    "Q.requires_grad = True\n",
    "q.requires_grad = True\n",
    "G.requires_grad = True\n",
    "h.requires_grad = True\n",
    "A.requires_grad = True\n",
    "b.requires_grad = True"
   ]
  },
  {
   "cell_type": "code",
   "execution_count": 144,
   "metadata": {},
   "outputs": [],
   "source": [
    "qpf = QPFunction()\n",
    "z_hat = qpf(Q, q, G, h, A, b)"
   ]
  },
  {
   "cell_type": "code",
   "execution_count": 145,
   "metadata": {},
   "outputs": [
    {
     "data": {
      "text/plain": [
       "array([-1.501465  , -1.4053086 ,  0.59770143, -0.23384869,  0.8757396 ,\n",
       "       -0.14110026,  0.04140254, -0.9955775 ,  0.7384028 ,  0.5887077 ],\n",
       "      dtype=float32)"
      ]
     },
     "execution_count": 145,
     "metadata": {},
     "output_type": "execute_result"
    }
   ],
   "source": [
    "z = z_hat.detach().numpy()[0]\n",
    "z # solution"
   ]
  },
  {
   "cell_type": "code",
   "execution_count": 146,
   "metadata": {},
   "outputs": [],
   "source": [
    "z_hat.backward(torch.ones(1, nz))"
   ]
  },
  {
   "cell_type": "code",
   "execution_count": 147,
   "metadata": {},
   "outputs": [],
   "source": [
    "grads = [x.grad.data.squeeze(0).cpu().numpy() for x in [Q, q, G, h, A, b]]"
   ]
  },
  {
   "cell_type": "code",
   "execution_count": 154,
   "metadata": {},
   "outputs": [],
   "source": [
    "# saving gradients to file\n",
    "names = [\"dQ\", \"dq\", \"dG\", \"dh\", \"dA\", \"db\"]\n",
    "\n",
    "for i in range(len(names)):\n",
    "    mat = np.matrix(grads[i])\n",
    "    with open(names[i]+'.txt','wb') as fi:\n",
    "        for line in mat:\n",
    "            np.savetxt(fi, line, fmt='%.9f')"
   ]
  },
  {
   "cell_type": "code",
   "execution_count": null,
   "metadata": {},
   "outputs": [],
   "source": []
  }
 ],
 "metadata": {
  "kernelspec": {
   "display_name": "Python 3.6.9 64-bit ('procol': venv)",
   "language": "python",
   "name": "python36964bitprocolvenv3d5a78e847ac487da652a96deb972468"
  },
  "language_info": {
   "codemirror_mode": {
    "name": "ipython",
    "version": 3
   },
   "file_extension": ".py",
   "mimetype": "text/x-python",
   "name": "python",
   "nbconvert_exporter": "python",
   "pygments_lexer": "ipython3",
   "version": "3.6.9"
  }
 },
 "nbformat": 4,
 "nbformat_minor": 2
}
