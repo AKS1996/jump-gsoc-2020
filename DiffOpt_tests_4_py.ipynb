{
 "cells": [
  {
   "cell_type": "code",
   "execution_count": 1,
   "metadata": {},
   "outputs": [],
   "source": [
    "from qpth.qp import QPFunction\n",
    "import torch\n",
    "import numpy as np\n",
    "from torch.autograd import Variable"
   ]
  },
  {
   "cell_type": "code",
   "execution_count": 2,
   "metadata": {},
   "outputs": [],
   "source": [
    "nz = 3\n",
    "nineq = 6\n",
    "neq = 1"
   ]
  },
  {
   "cell_type": "code",
   "execution_count": 13,
   "metadata": {},
   "outputs": [],
   "source": [
    "Q=np.array([[1.0,-1.0,1.0],\n",
    "           [-1.0,2.0,-2.0],\n",
    "           [1.0,-2.0,4.0]])\n",
    "q=np.array([2.0,-3.0,1.0])\n",
    "G=np.array([[0.0,0.0,1.0],[0.0,1.0,0.0],[1.0,0.0,0.0],[0.0,0.0,-1.0],[0.0,-1.0,0.0],[-1.0,0.0,0.0]])\n",
    "h=np.array([1.0,1.0,1.0,0.0,0.0,0.0])\n",
    "A=np.array([[1.0,1.0,1.0]])\n",
    "b=np.array([0.5])"
   ]
  },
  {
   "cell_type": "code",
   "execution_count": 14,
   "metadata": {},
   "outputs": [],
   "source": [
    "q, Q, G, h, A, b = [torch.Tensor(x) for x in [q, Q, G, h, A, b]]\n",
    "\n",
    "q, Q, G, h, A, b = [Variable(x) for x in [q, Q, G, h, A, b]]\n",
    "Q.requires_grad = True\n",
    "q.requires_grad = True\n",
    "G.requires_grad = True\n",
    "h.requires_grad = True\n",
    "A.requires_grad = True\n",
    "b.requires_grad = True"
   ]
  },
  {
   "cell_type": "code",
   "execution_count": 15,
   "metadata": {},
   "outputs": [],
   "source": [
    "qpf = QPFunction()\n",
    "z_hat = qpf(Q, q, G, h, A, b)"
   ]
  },
  {
   "cell_type": "code",
   "execution_count": 16,
   "metadata": {},
   "outputs": [
    {
     "data": {
      "text/plain": [
       "array([2.9083935e-10, 5.0000000e-01, 1.4169018e-08], dtype=float32)"
      ]
     },
     "execution_count": 16,
     "metadata": {},
     "output_type": "execute_result"
    }
   ],
   "source": [
    "z = z_hat.detach().numpy()[0]\n",
    "z # solution"
   ]
  },
  {
   "cell_type": "code",
   "execution_count": 17,
   "metadata": {},
   "outputs": [],
   "source": [
    "z_hat.backward(torch.ones(1, nz))"
   ]
  },
  {
   "cell_type": "code",
   "execution_count": 18,
   "metadata": {},
   "outputs": [],
   "source": [
    "grads = [x.grad.data.squeeze(0).cpu().numpy() for x in [Q, q, G, h, A, b]]"
   ]
  },
  {
   "cell_type": "code",
   "execution_count": 19,
   "metadata": {},
   "outputs": [
    {
     "name": "stdout",
     "output_type": "stream",
     "text": [
      "dQ [[-1.0401226e-16 -8.9406967e-08 -2.5422855e-15]\n",
      " [-8.9406967e-08  8.9406967e-08 -1.4901160e-08]\n",
      " [-2.5422855e-15 -1.4901160e-08 -8.4453928e-16]]\n",
      "dq [[-3.5762787e-07  1.7881393e-07 -5.9604645e-08]]\n",
      "dG [[-2.0045814e-15  1.0271260e-15 -3.3409690e-16]\n",
      " [-7.4753029e-16  5.5395023e-15 -1.2458824e-16]\n",
      " [-4.0345331e-15  2.0172666e-15 -6.7242219e-16]\n",
      " [-7.1525585e-07 -5.5631000e-07 -1.1920933e-07]\n",
      " [-1.5949481e-14 -1.3291236e-14 -2.6582475e-15]\n",
      " [-1.2516974e-06 -8.9407081e-08 -2.0861626e-07]]\n",
      "dh [[-4.9670588e-17 -1.0331474e-14 -1.5268376e-22  1.8278758e-06\n",
      "   4.2531954e-14  1.4305116e-06]]\n",
      "dA [[-7.1554655e-07 -5.0000006e-01 -1.3337831e-07]]\n",
      "db [[1.0000008]]\n"
     ]
    }
   ],
   "source": [
    "# saving gradients to file\n",
    "names = [\"dQ\", \"dq\", \"dG\", \"dh\", \"dA\", \"db\"]\n",
    "\n",
    "for i in range(len(names)):\n",
    "    print(names[i], np.matrix(grads[i]))"
   ]
  },
  {
   "cell_type": "code",
   "execution_count": null,
   "metadata": {},
   "outputs": [],
   "source": []
  }
 ],
 "metadata": {
  "kernelspec": {
   "display_name": "Python 3.6.9 64-bit ('procol': venv)",
   "language": "python",
   "name": "python36964bitprocolvenv3d5a78e847ac487da652a96deb972468"
  },
  "language_info": {
   "codemirror_mode": {
    "name": "ipython",
    "version": 3
   },
   "file_extension": ".py",
   "mimetype": "text/x-python",
   "name": "python",
   "nbconvert_exporter": "python",
   "pygments_lexer": "ipython3",
   "version": "3.6.9"
  }
 },
 "nbformat": 4,
 "nbformat_minor": 2
}
