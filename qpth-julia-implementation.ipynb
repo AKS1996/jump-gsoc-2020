{
 "cells": [
  {
   "cell_type": "markdown",
   "metadata": {},
   "source": [
    "## qpth Julia implementation\n",
    "\n",
    "- A solver for QP of form\n",
    " - min z'Qz/2 + q'z\n",
    " - s.t. A z = b, G z <= h"
   ]
  },
  {
   "cell_type": "code",
   "execution_count": 55,
   "metadata": {},
   "outputs": [],
   "source": [
    "using LinearAlgebra;\n",
    "using Test;"
   ]
  },
  {
   "cell_type": "code",
   "execution_count": 48,
   "metadata": {},
   "outputs": [
    {
     "data": {
      "text/plain": [
       "get_sizes (generic function with 2 methods)"
      ]
     },
     "execution_count": 48,
     "metadata": {},
     "output_type": "execute_result"
    }
   ],
   "source": [
    "function get_sizes(G,A=Nothing)\n",
    "    if ndims(G) == 2\n",
    "        nineq, nz = size(G)\n",
    "        nBatch = 1\n",
    "    elseif ndims(G) == 3\n",
    "        nBatch, nineq, nz = size(G)\n",
    "    end\n",
    "    \n",
    "    if A != Nothing\n",
    "        if length(A) > 0 && ndims(A) >= 2 \n",
    "            neq = size(A)[2]\n",
    "        else \n",
    "            neq = 0\n",
    "        end\n",
    "    else\n",
    "        neq = Nothing\n",
    "    end\n",
    "    \n",
    "    return nineq, nz, neq, nBatch\n",
    "end"
   ]
  },
  {
   "cell_type": "code",
   "execution_count": 50,
   "metadata": {},
   "outputs": [
    {
     "data": {
      "text/plain": [
       "\u001b[32m\u001b[1mTest Passed\u001b[22m\u001b[39m"
      ]
     },
     "execution_count": 50,
     "metadata": {},
     "output_type": "execute_result"
    }
   ],
   "source": [
    "@test get_sizes(ones(4,3), ones(2,1)) == (4,3,1,1)\n",
    "@test get_sizes(ones(4,3))            == (4, 3, Nothing, 1)\n",
    "@test get_sizes(ones(4,3,2))          == (3, 2, Nothing, 4)\n",
    "@test get_sizes(ones(4,3,2),ones(2,1))== (3, 2, 1, 4)\n",
    "@test get_sizes(ones(4,3,2),[])       == (3, 2, 0, 4)"
   ]
  },
  {
   "cell_type": "code",
   "execution_count": 216,
   "metadata": {},
   "outputs": [
    {
     "data": {
      "text/plain": [
       "pre_factor_kkt (generic function with 1 method)"
      ]
     },
     "execution_count": 216,
     "metadata": {},
     "output_type": "execute_result"
    }
   ],
   "source": [
    "function pre_factor_kkt(Q,G,A)\n",
    "    nineq, nz, neq, _ = get_sizes(G, A)\n",
    "    \n",
    "    # S = [ A Q^{-1} A^T    A Q^{-1} G^T         ]\n",
    "    #     [ G Q^{-1} A^T    G Q^{-1} G^T + D^{-1}]\n",
    "    \n",
    "    U_Q = cholesky(Q)  # NOTE: U_Q will have .U, .L fields (upper and lower traingular)\n",
    "    \n",
    "    U_S = zeros(neq + nineq, neq + nineq) # TODO: append .type_as(Q)\n",
    "    \n",
    "    G_invQ_GT = G*(inv(U_Q.L*U_Q.L')*G')\n",
    "    R = G_invQ_GT\n",
    "    \n",
    "    if neq > 0\n",
    "        invQ_AT = inv(U_Q.L*U_Q.L')*A'\n",
    "        A_invQ_AT = A*invQ_AT\n",
    "        G_invQ_AT = G*invQ_AT\n",
    "\n",
    "        U11 = cholesky(A_invQ_AT)\n",
    "        U12 =  U11.L' \\ G_invQ_AT'\n",
    "        U_S[1:neq,1:neq] = ones(neq,neq)*U11.L[1]\n",
    "        U_S[1:neq,neq:neq+nineq] = ones(neq,nineq+1)*U12[1]\n",
    "        R = R - U12'*U12\n",
    "    end\n",
    "    \n",
    "    return U_Q.L, U_S, R\n",
    "end "
   ]
  },
  {
   "cell_type": "code",
   "execution_count": 217,
   "metadata": {},
   "outputs": [
    {
     "data": {
      "text/plain": [
       "([1.41421 0.0 0.0; -0.707107 1.22474 0.0; 0.0 -0.816497 1.1547], [1.65831 1.65831 1.20605 1.20605; 1.65831 1.65831 1.20605 1.20605; 1.65831 1.65831 1.20605 1.20605; 0.0 0.0 0.0 0.0], [8.54545])"
      ]
     },
     "execution_count": 217,
     "metadata": {},
     "output_type": "execute_result"
    }
   ],
   "source": [
    "Q = [[2.0,-1.0,0.0] [-1.0,2.0,-1.0] [0.0,-1.0,2.0]]\n",
    "G = [1.0 2.0 1.0]\n",
    "A = [2.0 0.0 -1.0]\n",
    "pre_factor_kkt(Q,G,A)"
   ]
  },
  {
   "cell_type": "markdown",
   "metadata": {},
   "source": [
    "## Solve a QP using JuMP"
   ]
  },
  {
   "cell_type": "code",
   "execution_count": 2,
   "metadata": {},
   "outputs": [
    {
     "name": "stderr",
     "output_type": "stream",
     "text": [
      "┌ Info: Precompiling Ipopt [b6b21f68-93f8-5de0-b562-5493be1d77c9]\n",
      "└ @ Base loading.jl:1192\n"
     ]
    }
   ],
   "source": [
    "using JuMP, Ipopt;"
   ]
  },
  {
   "cell_type": "code",
   "execution_count": 3,
   "metadata": {},
   "outputs": [],
   "source": [
    "model = Model(Ipopt.Optimizer);"
   ]
  },
  {
   "cell_type": "code",
   "execution_count": 4,
   "metadata": {},
   "outputs": [],
   "source": [
    "@variable(model, x[1:2]);"
   ]
  },
  {
   "cell_type": "code",
   "execution_count": 5,
   "metadata": {},
   "outputs": [],
   "source": [
    "Q = [6 4; 0 2];\n",
    "q = [1; 6];\n",
    "G = [-2 -3; -1 0; 0 -1];\n",
    "h = [-4; 0; 0];\n",
    "# ignoring equality constraint variables A, b for now"
   ]
  },
  {
   "cell_type": "code",
   "execution_count": 6,
   "metadata": {},
   "outputs": [],
   "source": [
    "obj_expr = x'*Q*x/2 + q'*x;"
   ]
  },
  {
   "cell_type": "code",
   "execution_count": 7,
   "metadata": {},
   "outputs": [
    {
     "data": {
      "text/latex": [
       "$$ 3 x_{1}^2 + 2 x_{2}\\times x_{1} + x_{2}^2 + x_{1} + 6 x_{2} $$"
      ],
      "text/plain": [
       "3 x[1]² + 2 x[2]*x[1] + x[2]² + x[1] + 6 x[2]"
      ]
     },
     "execution_count": 7,
     "metadata": {},
     "output_type": "execute_result"
    }
   ],
   "source": [
    "@objective(model, Min, obj_expr)"
   ]
  },
  {
   "cell_type": "code",
   "execution_count": 8,
   "metadata": {},
   "outputs": [
    {
     "data": {
      "text/plain": [
       "3-element Array{ConstraintRef{Model,MathOptInterface.ConstraintIndex{MathOptInterface.ScalarAffineFunction{Float64},MathOptInterface.LessThan{Float64}},ScalarShape},1}:\n",
       " -2 x[1] - 3 x[2] ≤ -4.0\n",
       " -x[1] ≤ 0.0            \n",
       " -x[2] ≤ 0.0            "
      ]
     },
     "execution_count": 8,
     "metadata": {},
     "output_type": "execute_result"
    }
   ],
   "source": [
    "@constraint(model, G*x .<= h)"
   ]
  },
  {
   "cell_type": "code",
   "execution_count": 9,
   "metadata": {},
   "outputs": [
    {
     "name": "stdout",
     "output_type": "stream",
     "text": [
      "\n",
      "******************************************************************************\n",
      "This program contains Ipopt, a library for large-scale nonlinear optimization.\n",
      " Ipopt is released as open source code under the Eclipse Public License (EPL).\n",
      "         For more information visit http://projects.coin-or.org/Ipopt\n",
      "******************************************************************************\n",
      "\n",
      "This is Ipopt version 3.12.10, running with linear solver mumps.\n",
      "NOTE: Other linear solvers might be more efficient (see Ipopt documentation).\n",
      "\n",
      "Number of nonzeros in equality constraint Jacobian...:        0\n",
      "Number of nonzeros in inequality constraint Jacobian.:        4\n",
      "Number of nonzeros in Lagrangian Hessian.............:        3\n",
      "\n",
      "Total number of variables............................:        2\n",
      "                     variables with only lower bounds:        0\n",
      "                variables with lower and upper bounds:        0\n",
      "                     variables with only upper bounds:        0\n",
      "Total number of equality constraints.................:        0\n",
      "Total number of inequality constraints...............:        3\n",
      "        inequality constraints with only lower bounds:        0\n",
      "   inequality constraints with lower and upper bounds:        0\n",
      "        inequality constraints with only upper bounds:        3\n",
      "\n",
      "iter    objective    inf_pr   inf_du lg(mu)  ||d||  lg(rg) alpha_du alpha_pr  ls\n",
      "   0  0.0000000e+00 4.00e+00 1.13e+00  -1.0 0.00e+00    -  0.00e+00 0.00e+00   0\n",
      "   1  2.3635082e-01 3.85e+00 2.41e+00  -1.0 8.31e-01    -  1.59e-02 4.77e-02h  1\n",
      "   2  9.5637821e+00 0.00e+00 1.00e-06  -1.0 1.13e+00    -  1.00e+00 1.00e+00h  1\n",
      "   3  9.3260907e+00 0.00e+00 1.00e-06  -1.0 1.77e-01    -  1.00e+00 1.00e+00f  1\n",
      "   4  9.2682282e+00 0.00e+00 2.00e-07  -1.7 4.02e-02    -  1.00e+00 1.00e+00f  1\n",
      "   5  9.2501045e+00 0.00e+00 1.50e-09  -3.8 6.03e-03    -  1.00e+00 1.00e+00f  1\n",
      "   6  9.2500017e+00 0.00e+00 1.84e-11  -5.7 1.14e-04    -  1.00e+00 1.00e+00f  1\n",
      "   7  9.2499999e+00 0.00e+00 2.51e-14  -8.6 6.14e-07    -  1.00e+00 1.00e+00f  1\n",
      "\n",
      "Number of Iterations....: 7\n",
      "\n",
      "                                   (scaled)                 (unscaled)\n",
      "Objective...............:   9.2499998825056924e+00    9.2499998825056924e+00\n",
      "Dual infeasibility......:   2.5059035640133008e-14    2.5059035640133008e-14\n",
      "Constraint violation....:   0.0000000000000000e+00    0.0000000000000000e+00\n",
      "Complementarity.........:   2.5081254413764753e-09    2.5081254413764753e-09\n",
      "Overall NLP error.......:   2.5081254413764753e-09    2.5081254413764753e-09\n",
      "\n",
      "\n",
      "Number of objective function evaluations             = 8\n",
      "Number of objective gradient evaluations             = 8\n",
      "Number of equality constraint evaluations            = 0\n",
      "Number of inequality constraint evaluations          = 8\n",
      "Number of equality constraint Jacobian evaluations   = 0\n",
      "Number of inequality constraint Jacobian evaluations = 1\n",
      "Number of Lagrangian Hessian evaluations             = 1\n",
      "Total CPU secs in IPOPT (w/o function evaluations)   =      2.937\n",
      "Total CPU secs in NLP function evaluations           =      0.982\n",
      "\n",
      "EXIT: Optimal Solution Found.\n"
     ]
    }
   ],
   "source": [
    "optimize!(model)"
   ]
  },
  {
   "cell_type": "code",
   "execution_count": 10,
   "metadata": {},
   "outputs": [
    {
     "data": {
      "text/plain": [
       "2-element Array{Float64,1}:\n",
       " 0.5000000028537452\n",
       " 0.99999998504258  "
      ]
     },
     "execution_count": 10,
     "metadata": {},
     "output_type": "execute_result"
    }
   ],
   "source": [
    "value.(x)"
   ]
  },
  {
   "cell_type": "code",
   "execution_count": null,
   "metadata": {},
   "outputs": [],
   "source": []
  }
 ],
 "metadata": {
  "kernelspec": {
   "display_name": "Julia 1.0.5",
   "language": "julia",
   "name": "julia-1.0"
  },
  "language_info": {
   "file_extension": ".jl",
   "mimetype": "application/julia",
   "name": "julia",
   "version": "1.0.5"
  }
 },
 "nbformat": 4,
 "nbformat_minor": 2
}
