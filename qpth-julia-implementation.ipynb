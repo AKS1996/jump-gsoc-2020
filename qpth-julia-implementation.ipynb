{
 "cells": [
  {
   "cell_type": "markdown",
   "metadata": {},
   "source": [
    "## qpth Julia implementation\n",
    "\n",
    "- A solver for QP of form\n",
    " - min z'Qz/2 + q'z\n",
    " - s.t. A z = b, G z <= h"
   ]
  },
  {
   "cell_type": "code",
   "execution_count": 55,
   "metadata": {},
   "outputs": [],
   "source": [
    "using LinearAlgebra;\n",
    "using Test;"
   ]
  },
  {
   "cell_type": "code",
   "execution_count": 48,
   "metadata": {},
   "outputs": [
    {
     "data": {
      "text/plain": [
       "get_sizes (generic function with 2 methods)"
      ]
     },
     "execution_count": 48,
     "metadata": {},
     "output_type": "execute_result"
    }
   ],
   "source": [
    "function get_sizes(G,A=Nothing)\n",
    "    if ndims(G) == 2\n",
    "        nineq, nz = size(G)\n",
    "        nBatch = 1\n",
    "    elseif ndims(G) == 3\n",
    "        nBatch, nineq, nz = size(G)\n",
    "    end\n",
    "    \n",
    "    if A != Nothing\n",
    "        if length(A) > 0 && ndims(A) >= 2 \n",
    "            neq = size(A)[2]\n",
    "        else \n",
    "            neq = 0\n",
    "        end\n",
    "    else\n",
    "        neq = Nothing\n",
    "    end\n",
    "    \n",
    "    return nineq, nz, neq, nBatch\n",
    "end"
   ]
  },
  {
   "cell_type": "code",
   "execution_count": 50,
   "metadata": {},
   "outputs": [
    {
     "data": {
      "text/plain": [
       "\u001b[32m\u001b[1mTest Passed\u001b[22m\u001b[39m"
      ]
     },
     "execution_count": 50,
     "metadata": {},
     "output_type": "execute_result"
    }
   ],
   "source": [
    "@test get_sizes(ones(4,3), ones(2,1)) == (4,3,1,1)\n",
    "@test get_sizes(ones(4,3))            == (4, 3, Nothing, 1)\n",
    "@test get_sizes(ones(4,3,2))          == (3, 2, Nothing, 4)\n",
    "@test get_sizes(ones(4,3,2),ones(2,1))== (3, 2, 1, 4)\n",
    "@test get_sizes(ones(4,3,2),[])       == (3, 2, 0, 4)"
   ]
  },
  {
   "cell_type": "code",
   "execution_count": 216,
   "metadata": {},
   "outputs": [
    {
     "data": {
      "text/plain": [
       "pre_factor_kkt (generic function with 1 method)"
      ]
     },
     "execution_count": 216,
     "metadata": {},
     "output_type": "execute_result"
    }
   ],
   "source": [
    "function pre_factor_kkt(Q,G,A)\n",
    "    nineq, nz, neq, _ = get_sizes(G, A)\n",
    "    \n",
    "    # S = [ A Q^{-1} A^T    A Q^{-1} G^T         ]\n",
    "    #     [ G Q^{-1} A^T    G Q^{-1} G^T + D^{-1}]\n",
    "    \n",
    "    U_Q = cholesky(Q)  # NOTE: U_Q will have .U, .L fields (upper and lower traingular)\n",
    "    \n",
    "    U_S = zeros(neq + nineq, neq + nineq) # TODO: append .type_as(Q)\n",
    "    \n",
    "    G_invQ_GT = G*(inv(U_Q.L*U_Q.L')*G')\n",
    "    R = G_invQ_GT\n",
    "    \n",
    "    if neq > 0\n",
    "        invQ_AT = inv(U_Q.L*U_Q.L')*A'\n",
    "        A_invQ_AT = A*invQ_AT\n",
    "        G_invQ_AT = G*invQ_AT\n",
    "\n",
    "        U11 = cholesky(A_invQ_AT)\n",
    "        U12 =  U11.L' \\ G_invQ_AT'\n",
    "        U_S[1:neq,1:neq] = ones(neq,neq)*U11.L[1]\n",
    "        U_S[1:neq,neq:neq+nineq] = ones(neq,nineq+1)*U12[1]\n",
    "        R = R - U12'*U12\n",
    "    end\n",
    "    \n",
    "    return U_Q.L, U_S, R\n",
    "end "
   ]
  },
  {
   "cell_type": "code",
   "execution_count": 217,
   "metadata": {},
   "outputs": [
    {
     "data": {
      "text/plain": [
       "([1.41421 0.0 0.0; -0.707107 1.22474 0.0; 0.0 -0.816497 1.1547], [1.65831 1.65831 1.20605 1.20605; 1.65831 1.65831 1.20605 1.20605; 1.65831 1.65831 1.20605 1.20605; 0.0 0.0 0.0 0.0], [8.54545])"
      ]
     },
     "execution_count": 217,
     "metadata": {},
     "output_type": "execute_result"
    }
   ],
   "source": [
    "Q = [[2.0,-1.0,0.0] [-1.0,2.0,-1.0] [0.0,-1.0,2.0]]\n",
    "G = [1.0 2.0 1.0]\n",
    "A = [2.0 0.0 -1.0]\n",
    "pre_factor_kkt(Q,G,A)"
   ]
  },
  {
   "cell_type": "code",
   "execution_count": null,
   "metadata": {},
   "outputs": [],
   "source": []
  }
 ],
 "metadata": {
  "kernelspec": {
   "display_name": "Julia 1.0.5",
   "language": "julia",
   "name": "julia-1.0"
  },
  "language_info": {
   "file_extension": ".jl",
   "mimetype": "application/julia",
   "name": "julia",
   "version": "1.0.5"
  }
 },
 "nbformat": 4,
 "nbformat_minor": 2
}
