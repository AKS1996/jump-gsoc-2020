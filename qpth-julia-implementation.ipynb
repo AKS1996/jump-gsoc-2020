{
 "cells": [
  {
   "cell_type": "markdown",
   "metadata": {},
   "source": [
    "## qpth Julia implementation\n",
    "\n",
    "- A solver for QP of form\n",
    " - min z'Qz/2 + q'z\n",
    " - s.t. A z = b, G z <= h"
   ]
  },
  {
   "cell_type": "code",
   "execution_count": 9,
   "metadata": {},
   "outputs": [],
   "source": [
    "using LinearAlgebra;\n",
    "using Test;"
   ]
  },
  {
   "cell_type": "code",
   "execution_count": 2,
   "metadata": {},
   "outputs": [
    {
     "data": {
      "text/plain": [
       "get_sizes (generic function with 2 methods)"
      ]
     },
     "execution_count": 2,
     "metadata": {},
     "output_type": "execute_result"
    }
   ],
   "source": [
    "function get_sizes(G,A=Nothing)\n",
    "    nineq, nz = size(G)\n",
    "    \n",
    "    if A != Nothing\n",
    "        if length(A) > 0 \n",
    "            neq = size(A)[1]\n",
    "        else \n",
    "            neq = 0\n",
    "        end\n",
    "    else\n",
    "        neq = Nothing\n",
    "    end\n",
    "    \n",
    "    return nineq, nz, neq\n",
    "end"
   ]
  },
  {
   "cell_type": "code",
   "execution_count": 6,
   "metadata": {},
   "outputs": [
    {
     "data": {
      "text/plain": [
       "\u001b[32m\u001b[1mTest Passed\u001b[22m\u001b[39m"
      ]
     },
     "execution_count": 6,
     "metadata": {},
     "output_type": "execute_result"
    }
   ],
   "source": [
    "@test get_sizes(ones(4,3), ones(2,2)) == (4,3,2)\n",
    "@test get_sizes(ones(4,3))            == (4, 3, Nothing)\n",
    "@test get_sizes(ones(3,2),[])         == (3, 2, 0)"
   ]
  },
  {
   "cell_type": "code",
   "execution_count": 81,
   "metadata": {},
   "outputs": [
    {
     "data": {
      "text/plain": [
       "lu_hack (generic function with 1 method)"
      ]
     },
     "execution_count": 81,
     "metadata": {},
     "output_type": "execute_result"
    }
   ],
   "source": [
    "function lu_hack(X)\n",
    "    # wasnt getting same pivoted LU decomposition as torch\n",
    "    # using native implementation for now\n",
    "    X_copy = copy(X)\n",
    "    data, pivots = LAPACK.getrf!(X_copy) # mutates the matrix\n",
    "    return data, pivots\n",
    "end"
   ]
  },
  {
   "cell_type": "code",
   "execution_count": 87,
   "metadata": {},
   "outputs": [
    {
     "data": {
      "text/plain": [
       "\u001b[32m\u001b[1mTest Passed\u001b[22m\u001b[39m"
      ]
     },
     "execution_count": 87,
     "metadata": {},
     "output_type": "execute_result"
    }
   ],
   "source": [
    "@test lu_hack([[1.,2.] [2.,2.]]) == ([[2., .5] [2., 1.]], [2,2])"
   ]
  },
  {
   "cell_type": "code",
   "execution_count": 91,
   "metadata": {},
   "outputs": [
    {
     "data": {
      "text/plain": [
       "pre_factor_kkt (generic function with 1 method)"
      ]
     },
     "execution_count": 91,
     "metadata": {},
     "output_type": "execute_result"
    }
   ],
   "source": [
    "function pre_factor_kkt(Q,G,A)\n",
    "    nineq, nz, neq = get_sizes(G, A)\n",
    "    \n",
    "    # S = [ A Q^{-1} A^T    A Q^{-1} G^T         ]\n",
    "    #     [ G Q^{-1} A^T    G Q^{-1} G^T + D^{-1}]\n",
    "    # First find inv(D)\n",
    "    # Then compute a partial LU decomposition of S\n",
    "    \n",
    "    # pivoted LU decomposition; will work for non singular matrices too\n",
    "    Q_LU = lu_hack(Q)  \n",
    "    \n",
    "#     U_S = zeros(neq + nineq, neq + nineq) # TODO: append .type_as(Q)\n",
    "    \n",
    "#     G_invQ_GT = G*(inv(U_Q.L*U_Q.L')*G')\n",
    "#     R = G_invQ_GT\n",
    "    \n",
    "#     if neq > 0\n",
    "#         invQ_AT = inv(U_Q.L*U_Q.L')*A'\n",
    "#         A_invQ_AT = A*invQ_AT\n",
    "#         G_invQ_AT = G*invQ_AT\n",
    "\n",
    "#         U11 = cholesky(A_invQ_AT)\n",
    "#         U12 =  U11.L' \\ G_invQ_AT'\n",
    "#         U_S[1:neq,1:neq] = ones(neq,neq)*U11.L[1]\n",
    "#         U_S[1:neq,neq:neq+nineq] = ones(neq,nineq+1)*U12[1]\n",
    "#         R = R - U12'*U12\n",
    "#     end\n",
    "    \n",
    "#     return U_Q.L, U_S, R\n",
    "    return Q_LU\n",
    "end "
   ]
  },
  {
   "cell_type": "code",
   "execution_count": 126,
   "metadata": {},
   "outputs": [
    {
     "ename": "DimensionMismatch",
     "evalue": "DimensionMismatch(\"A has dimensions (2,3) but B has dimensions (2,3)\")",
     "output_type": "error",
     "traceback": [
      "DimensionMismatch(\"A has dimensions (2,3) but B has dimensions (2,3)\")",
      "",
      "Stacktrace:",
      " [1] gemm_wrapper!(::Array{Float64,2}, ::Char, ::Char, ::Array{Float64,2}, ::Array{Float64,2}) at /buildworker/worker/package_linux64/build/usr/share/julia/stdlib/v1.0/LinearAlgebra/src/matmul.jl:442",
      " [2] mul! at /buildworker/worker/package_linux64/build/usr/share/julia/stdlib/v1.0/LinearAlgebra/src/matmul.jl:225 [inlined]",
      " [3] *(::Adjoint{Float64,Array{Float64,2}}, ::Array{Float64,2}) at /buildworker/worker/package_linux64/build/usr/share/julia/stdlib/v1.0/LinearAlgebra/src/matmul.jl:143",
      " [4] top-level scope at In[126]:4"
     ]
    }
   ],
   "source": [
    "Q = [[2.0,-1.0,0.0] [-1.0,2.0,-1.0] [0.0,-1.0,2.0]]'\n",
    "G = [[1.0, 2.0, 1.0] [1.0, 2.0, 1.0]]'\n",
    "A = [[2.0 0.0 -1.0]]'\n",
    "# pre_factor_kkt(Q,G,A)\n",
    "G * (G' \\ Q)"
   ]
  },
  {
   "cell_type": "markdown",
   "metadata": {},
   "source": [
    "## Solve a QP using JuMP"
   ]
  },
  {
   "cell_type": "code",
   "execution_count": 8,
   "metadata": {},
   "outputs": [],
   "source": [
    "using JuMP, Ipopt;"
   ]
  },
  {
   "cell_type": "code",
   "execution_count": 9,
   "metadata": {},
   "outputs": [],
   "source": [
    "model = Model(Ipopt.Optimizer);\n",
    "\n",
    "# suppressing verbose logs for Ipopt\n",
    "MOI.set(model, MOI.RawParameter(\"print_level\"), 1);"
   ]
  },
  {
   "cell_type": "code",
   "execution_count": 10,
   "metadata": {},
   "outputs": [],
   "source": [
    "@variable(model, x[1:2]);"
   ]
  },
  {
   "cell_type": "code",
   "execution_count": 11,
   "metadata": {},
   "outputs": [],
   "source": [
    "Q = [6 4; 0 2];\n",
    "q = [1; 6];\n",
    "G = [-2 -3; -1 0; 0 -1];\n",
    "h = [-4; 0; 0];\n",
    "# ignoring equality constraint variables A, b for now"
   ]
  },
  {
   "cell_type": "code",
   "execution_count": 12,
   "metadata": {},
   "outputs": [],
   "source": [
    "obj_expr = x'*Q*x/2 + q'*x;"
   ]
  },
  {
   "cell_type": "code",
   "execution_count": 13,
   "metadata": {},
   "outputs": [
    {
     "data": {
      "text/latex": [
       "$$ 3 x_{1}^2 + 2 x_{2}\\times x_{1} + x_{2}^2 + x_{1} + 6 x_{2} $$"
      ],
      "text/plain": [
       "3 x[1]² + 2 x[2]*x[1] + x[2]² + x[1] + 6 x[2]"
      ]
     },
     "execution_count": 13,
     "metadata": {},
     "output_type": "execute_result"
    }
   ],
   "source": [
    "@objective(model, Min, obj_expr)"
   ]
  },
  {
   "cell_type": "code",
   "execution_count": 14,
   "metadata": {},
   "outputs": [
    {
     "data": {
      "text/plain": [
       "3-element Array{ConstraintRef{Model,MathOptInterface.ConstraintIndex{MathOptInterface.ScalarAffineFunction{Float64},MathOptInterface.LessThan{Float64}},ScalarShape},1}:\n",
       " -2 x[1] - 3 x[2] ≤ -4.0\n",
       " -x[1] ≤ 0.0            \n",
       " -x[2] ≤ 0.0            "
      ]
     },
     "execution_count": 14,
     "metadata": {},
     "output_type": "execute_result"
    }
   ],
   "source": [
    "@constraint(model, G*x .<= h)"
   ]
  },
  {
   "cell_type": "code",
   "execution_count": 15,
   "metadata": {},
   "outputs": [
    {
     "name": "stdout",
     "output_type": "stream",
     "text": [
      "\n",
      "******************************************************************************\n",
      "This program contains Ipopt, a library for large-scale nonlinear optimization.\n",
      " Ipopt is released as open source code under the Eclipse Public License (EPL).\n",
      "         For more information visit http://projects.coin-or.org/Ipopt\n",
      "******************************************************************************\n",
      "\n"
     ]
    }
   ],
   "source": [
    "optimize!(model)"
   ]
  },
  {
   "cell_type": "code",
   "execution_count": 16,
   "metadata": {},
   "outputs": [
    {
     "data": {
      "text/plain": [
       "2-element Array{Float64,1}:\n",
       " 0.5000000028537452\n",
       " 0.99999998504258  "
      ]
     },
     "execution_count": 16,
     "metadata": {},
     "output_type": "execute_result"
    }
   ],
   "source": [
    "value.(x)"
   ]
  },
  {
   "cell_type": "markdown",
   "metadata": {},
   "source": [
    "## General Construct to solve a QP\n",
    "Using JuMP with Ipopt solver\n",
    "\n",
    "\n",
    " min | `z'Qz/2 + q'z` \n",
    "--------|------------\n",
    "s.t. | `A z = b`\n",
    "     | `G z <= h`"
   ]
  },
  {
   "cell_type": "code",
   "execution_count": 68,
   "metadata": {},
   "outputs": [],
   "source": [
    "nz = 10  # no of variables\n",
    "nineq = 10  # no of inequalities\n",
    "neq = 0; # no of equalities"
   ]
  },
  {
   "cell_type": "code",
   "execution_count": 69,
   "metadata": {},
   "outputs": [],
   "source": [
    "# generate the matrices\n",
    "L = rand(nz, nz)\n",
    "Q = L*L' .+ 1e-3*Matrix{Float64}(I, nz, nz) \n",
    "G = randn(nineq, nz)\n",
    "z0 = randn(nz)\n",
    "s0 = rand(nineq)\n",
    "p = randn(nz)\n",
    "h = G*z0 + s0\n",
    "A = randn(neq, nz)\n",
    "b = A*z0;"
   ]
  },
  {
   "cell_type": "code",
   "execution_count": 112,
   "metadata": {},
   "outputs": [
    {
     "data": {
      "text/plain": [
       "forward_single_np (generic function with 1 method)"
      ]
     },
     "execution_count": 112,
     "metadata": {},
     "output_type": "execute_result"
    }
   ],
   "source": [
    "using JuMP, Ipopt;\n",
    "\n",
    "function forward_single_np(Q, p, G, h, A, b)\n",
    "    nz, neq, nineq = size(p)[1], size(A)[1], size(G)[1]\n",
    "\n",
    "    model = Model(Ipopt.Optimizer)\n",
    "    MOI.set(model, MOI.RawParameter(\"print_level\"), 1) # suppress logs for Ipopt\n",
    "\n",
    "    @variable(model, z_[1:nz])\n",
    "    \n",
    "    obj_expr = z_'*Q*z_/2 + p'*z_\n",
    "    \n",
    "    @objective(model, Min, obj_expr)\n",
    "    \n",
    "    \n",
    "    # donno whether Jump supports adding slack variables\n",
    "    # adding them manually\n",
    "    if nineq > 0\n",
    "        @variable(model, slacks[1:nineq])\n",
    "        @constraint(model, ineqCon, G*z_ + slacks .== h)\n",
    "        @constraint(model, slackCon, slacks .>= 0)\n",
    "    end\n",
    "    \n",
    "    if neq > 0\n",
    "        @constraint(model, eqCon, A*z_ .== b)\n",
    "    end\n",
    "    \n",
    "    optimize!(model)\n",
    "    @assert termination_status(model) in [MOI.OPTIMAL, MOI.LOCALLY_SOLVED]\n",
    "    \n",
    "    zhat = value.(z_)\n",
    "    \n",
    "    if nineq > 0\n",
    "        lam = dual.(ineqCon)\n",
    "        slacks = value.(slacks)\n",
    "    else\n",
    "        lam, slacks = Nothing, Nothing\n",
    "    end\n",
    "    \n",
    "    if neq > 0\n",
    "        nu = dual.(eqCon)\n",
    "    else\n",
    "        nu = Nothing\n",
    "    end\n",
    "    \n",
    "    return objective_value(model), zhat, nu, lam, slacks\n",
    "end"
   ]
  },
  {
   "cell_type": "code",
   "execution_count": 113,
   "metadata": {},
   "outputs": [
    {
     "data": {
      "text/plain": [
       "(-7.2757870156567686, [-3.87251, 0.775252, 0.539828, 1.13569, -2.10715, 2.11295, -1.03799, 3.77436, -1.04709, 0.790716], Nothing, [-0.337616, -4.17226e-10, -0.234188, -1.4937e-10, -8.06203e-11, -0.0983343, -2.59631e-9, -0.27987, -0.28547, -1.21266e-10], [-7.30732e-9, 2.17884, -6.11811e-9, 6.08581, 11.2749, -7.55055e-10, 0.350146, -6.75174e-9, -6.81546e-9, 7.4961])"
      ]
     },
     "execution_count": 113,
     "metadata": {},
     "output_type": "execute_result"
    }
   ],
   "source": [
    "forward_single_np(Q, p, G, h, A, b)"
   ]
  }
 ],
 "metadata": {
  "kernelspec": {
   "display_name": "Julia 1.0.5",
   "language": "julia",
   "name": "julia-1.0"
  },
  "language_info": {
   "file_extension": ".jl",
   "mimetype": "application/julia",
   "name": "julia",
   "version": "1.0.5"
  }
 },
 "nbformat": 4,
 "nbformat_minor": 2
}
