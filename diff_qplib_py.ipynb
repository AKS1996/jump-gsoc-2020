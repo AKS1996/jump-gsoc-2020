{
 "cells": [
  {
   "cell_type": "code",
   "execution_count": 2,
   "metadata": {},
   "outputs": [],
   "source": [
    "import numpy as np\n",
    "import numpy.random as npr\n",
    "import cvxpy as cp\n",
    "import tensorflow as tf\n",
    "from cvxpylayers.tensorflow import CvxpyLayer"
   ]
  },
  {
   "cell_type": "code",
   "execution_count": 63,
   "metadata": {},
   "outputs": [],
   "source": [
    "n, m, p = 20, 10, 10\n",
    "\n",
    "# construct an QP\n",
    "_x = npr.rand(n)\n",
    "Q = npr.rand(n,n) \n",
    "Q = np.dot(Q.T, Q) # ensure PSD\n",
    "q = npr.rand(n)\n",
    "__G = npr.rand(m,n)\n",
    "h = __G@_x + npr.rand(m)\n",
    "A = npr.rand(p,n)\n",
    "b = A@_x\n",
    "\n",
    "x = cp.Variable(n)    # define variable\n",
    "G = cp.Parameter((m,n)) # define params\n",
    "\n",
    "constraints = [G@x <= h, A@x == b]\n",
    "objective = cp.Minimize(0.5*cp.quad_form(x, Q) + q.T @ x)\n",
    "problem = cp.Problem(objective, constraints)\n",
    "assert problem.is_dpp()"
   ]
  },
  {
   "cell_type": "code",
   "execution_count": 64,
   "metadata": {},
   "outputs": [],
   "source": [
    "cvxpylayer = CvxpyLayer(problem, parameters=[G], variables=[x])\n",
    "\n",
    "_G = tf.Variable(__G)\n",
    "\n",
    "with tf.GradientTape() as tape:\n",
    "  # solve the problem\n",
    "  solution, = cvxpylayer(_G)\n",
    "    \n",
    "  summed_solution = tf.math.reduce_sum(solution)\n",
    "\n",
    "# compute the gradient of the summed solution with respect to params\n",
    "gradh = tape.gradient(summed_solution, [_G])"
   ]
  },
  {
   "cell_type": "code",
   "execution_count": 65,
   "metadata": {},
   "outputs": [
    {
     "data": {
      "text/plain": [
       "<tf.Tensor: shape=(20,), dtype=float64, numpy=\n",
       "array([-2.46594574,  3.79540751, -0.42787383, -5.40518841,  4.16340034,\n",
       "       -3.21156128,  3.57073269,  4.04120549, -1.80894942,  1.47101546,\n",
       "       -3.34872721,  2.1831713 ,  0.96126981, -2.85702765, -0.48223582,\n",
       "       -7.75541162, -0.14466602, -1.04196598,  9.21881514,  1.48823202])>"
      ]
     },
     "execution_count": 65,
     "metadata": {},
     "output_type": "execute_result"
    }
   ],
   "source": [
    "solution"
   ]
  },
  {
   "cell_type": "code",
   "execution_count": 77,
   "metadata": {},
   "outputs": [],
   "source": [
    "collective = np.array([Q,q,__G,h,A,b,gradh[0].numpy()])"
   ]
  },
  {
   "cell_type": "code",
   "execution_count": null,
   "metadata": {},
   "outputs": [],
   "source": []
  }
 ],
 "metadata": {
  "kernelspec": {
   "display_name": "Python 3.6.9 64-bit ('procol': venv)",
   "language": "python",
   "name": "python36964bitprocolvenv3d5a78e847ac487da652a96deb972468"
  },
  "language_info": {
   "codemirror_mode": {
    "name": "ipython",
    "version": 3
   },
   "file_extension": ".py",
   "mimetype": "text/x-python",
   "name": "python",
   "nbconvert_exporter": "python",
   "pygments_lexer": "ipython3",
   "version": "3.6.9"
  }
 },
 "nbformat": 4,
 "nbformat_minor": 2
}
