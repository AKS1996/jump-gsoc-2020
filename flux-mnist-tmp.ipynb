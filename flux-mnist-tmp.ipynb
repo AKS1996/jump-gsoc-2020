{
 "cells": [
  {
   "cell_type": "code",
   "execution_count": 1,
   "metadata": {},
   "outputs": [],
   "source": [
    "using Statistics\n",
    "using ChainRules\n",
    "using DiffOpt\n",
    "using MathOptInterface\n",
    "using Flux\n",
    "using Flux: onehotbatch, onecold, crossentropy, throttle\n",
    "using Base.Iterators: repeated\n",
    "using OSQP\n",
    "\n",
    "const MOI = MathOptInterface;"
   ]
  },
  {
   "cell_type": "code",
   "execution_count": 2,
   "metadata": {},
   "outputs": [],
   "source": [
    "imgs = Flux.Data.MNIST.images()\n",
    "labels = Flux.Data.MNIST.labels();"
   ]
  },
  {
   "cell_type": "code",
   "execution_count": 25,
   "metadata": {},
   "outputs": [],
   "source": [
    "## prepare data\n",
    "# Preprocessing\n",
    "X = hcat(float.(reshape.(imgs, :))...) #stack all the images\n",
    "Y = onehotbatch(labels, 0:9); # just a common way to encode categorical variables\n",
    "\n",
    "test_X = hcat(float.(reshape.(Flux.Data.MNIST.images(:test), :))...)\n",
    "test_Y = onehotbatch(Flux.Data.MNIST.labels(:test), 0:9);"
   ]
  },
  {
   "cell_type": "code",
   "execution_count": 33,
   "metadata": {},
   "outputs": [
    {
     "data": {
      "text/plain": [
       "Chain(Dense(784, 32, NNlib.relu), Dense(32, 10), NNlib.softmax)"
      ]
     },
     "execution_count": 33,
     "metadata": {},
     "output_type": "execute_result"
    }
   ],
   "source": [
    "# define the NN\n",
    "m = Chain(\n",
    "  Dense(28^2, 32, relu),\n",
    "  Dense(32, 10),\n",
    "  softmax\n",
    ")"
   ]
  },
  {
   "cell_type": "code",
   "execution_count": 34,
   "metadata": {},
   "outputs": [
    {
     "data": {
      "text/plain": [
       "#11 (generic function with 1 method)"
      ]
     },
     "execution_count": 34,
     "metadata": {},
     "output_type": "execute_result"
    }
   ],
   "source": [
    "loss(x, y) = crossentropy(m(x), y) \n",
    "opt = ADAM(); # popular stochastic gradient descent variant\n",
    "\n",
    "accuracy(x, y) = mean(onecold(m(x)) .== onecold(y)) # cute way to find average of correct guesses\n",
    "\n",
    "dataset = repeated((X,Y), 20) # repeat the data set\n",
    "evalcb = () -> @show(loss(X, Y)) # callback to show loss"
   ]
  },
  {
   "cell_type": "code",
   "execution_count": 35,
   "metadata": {},
   "outputs": [
    {
     "name": "stdout",
     "output_type": "stream",
     "text": [
      "loss(X, Y) = 2.270676f0 (tracked)\n",
      "loss(X, Y) = 1.9413667f0 (tracked)\n",
      "loss(X, Y) = 1.6438714f0 (tracked)\n",
      "loss(X, Y) = 1.384434f0 (tracked)\n"
     ]
    }
   ],
   "source": [
    "Flux.train!(loss, params(m), dataset, opt, cb = throttle(evalcb, 5)); #took me ~5 minutes to train on CPU"
   ]
  },
  {
   "cell_type": "code",
   "execution_count": 36,
   "metadata": {},
   "outputs": [
    {
     "name": "stdout",
     "output_type": "stream",
     "text": [
      "accuracy(X, Y) = 0.6924\n",
      "accuracy(test_X, test_Y) = 0.696\n"
     ]
    }
   ],
   "source": [
    "@show accuracy(X,Y)\n",
    "@show accuracy(test_X, test_Y);"
   ]
  },
  {
   "cell_type": "code",
   "execution_count": 2,
   "metadata": {},
   "outputs": [
    {
     "data": {
      "text/plain": [
       "msin (generic function with 1 method)"
      ]
     },
     "execution_count": 2,
     "metadata": {},
     "output_type": "execute_result"
    }
   ],
   "source": [
    "function msin(x)\n",
    "    return sin(x)\n",
    "end"
   ]
  },
  {
   "cell_type": "code",
   "execution_count": 3,
   "metadata": {},
   "outputs": [
    {
     "data": {
      "text/plain": [
       "1.0"
      ]
     },
     "execution_count": 3,
     "metadata": {},
     "output_type": "execute_result"
    }
   ],
   "source": [
    "msin(π/2)"
   ]
  },
  {
   "cell_type": "code",
   "execution_count": 41,
   "metadata": {},
   "outputs": [
    {
     "data": {
      "text/plain": [
       "rrule (generic function with 1 method)"
      ]
     },
     "execution_count": 41,
     "metadata": {},
     "output_type": "execute_result"
    }
   ],
   "source": [
    "function rrule(::typeof(msin), x)\n",
    "    y = msin(x)\n",
    "    function msin_backward(ȳ)\n",
    "        return asin(ȳ)\n",
    "    end\n",
    "    function msin_pullback(ȳ)\n",
    "        return NO_FIELDS, msin_backward(ȳ)\n",
    "    end\n",
    "    return Y, msin_pullback\n",
    "end"
   ]
  },
  {
   "cell_type": "code",
   "execution_count": 4,
   "metadata": {},
   "outputs": [
    {
     "data": {
      "text/plain": [
       "∇msin (generic function with 1 method)"
      ]
     },
     "execution_count": 4,
     "metadata": {},
     "output_type": "execute_result"
    }
   ],
   "source": [
    "∇msin(x) = Flux.gradient(msin, x)[1]"
   ]
  },
  {
   "cell_type": "code",
   "execution_count": 5,
   "metadata": {},
   "outputs": [
    {
     "data": {
      "text/plain": [
       "-1.0 (tracked)"
      ]
     },
     "execution_count": 5,
     "metadata": {},
     "output_type": "execute_result"
    }
   ],
   "source": [
    "∇msin(π) "
   ]
  },
  {
   "cell_type": "markdown",
   "metadata": {},
   "source": [
    "## Simple logistic regression example"
   ]
  },
  {
   "cell_type": "code",
   "execution_count": 66,
   "metadata": {},
   "outputs": [
    {
     "data": {
      "text/plain": [
       "8.71916280814926"
      ]
     },
     "execution_count": 66,
     "metadata": {},
     "output_type": "execute_result"
    }
   ],
   "source": [
    "W = rand(2, 5)\n",
    "b = rand(2)\n",
    "\n",
    "predict(x) = W*x .+ b\n",
    "\n",
    "function loss(x, y)\n",
    "  ŷ = predict(x)\n",
    "  sum((y .- ŷ).^2)\n",
    "end\n",
    "\n",
    "x, y = rand(5), rand(2) # Dummy data\n",
    "loss(x, y)"
   ]
  },
  {
   "cell_type": "code",
   "execution_count": 67,
   "metadata": {},
   "outputs": [
    {
     "data": {
      "text/plain": [
       "Grads(...)\n"
      ]
     },
     "execution_count": 67,
     "metadata": {},
     "output_type": "execute_result"
    }
   ],
   "source": [
    "using Flux.Tracker\n",
    "\n",
    "W = param(W)\n",
    "b = param(b)\n",
    "\n",
    "gs = Tracker.gradient(() -> loss(x, y), params(W))"
   ]
  },
  {
   "cell_type": "code",
   "execution_count": 68,
   "metadata": {},
   "outputs": [
    {
     "data": {
      "text/plain": [
       "3.1199540483701917 (tracked)"
      ]
     },
     "execution_count": 68,
     "metadata": {},
     "output_type": "execute_result"
    }
   ],
   "source": [
    "using Flux.Tracker: update!\n",
    "\n",
    "Δ = gs[W]\n",
    "\n",
    "# Update the parameter and reset the gradient\n",
    "update!(W, -0.1Δ)\n",
    "\n",
    "loss(x, y) # ~ 2.5"
   ]
  },
  {
   "cell_type": "markdown",
   "metadata": {},
   "source": [
    "## DiffOpt and Flux"
   ]
  },
  {
   "cell_type": "code",
   "execution_count": 72,
   "metadata": {},
   "outputs": [
    {
     "data": {
      "text/plain": [
       "myLayer (generic function with 1 method)"
      ]
     },
     "execution_count": 72,
     "metadata": {},
     "output_type": "execute_result"
    }
   ],
   "source": [
    "n = 2 # variable dimension\n",
    "m = 1; # no of inequality constraints\n",
    "\n",
    "Q = [4. 1.;1. 2.]\n",
    "q = [1.; 1.]\n",
    "G = [1. 1.;]\n",
    "h = [-1.;]   # initial values set\n",
    "\n",
    "function myLayer(n,m,Q,q,G,h)\n",
    "    # create the optimizer\n",
    "    model = diff_optimizer(OSQP.Optimizer)\n",
    "    x = MOI.add_variables(model, n);\n",
    "\n",
    "    # define objective\n",
    "    quad_terms = MOI.ScalarQuadraticTerm{Float64}[]\n",
    "    for i in 1:n\n",
    "        for j in i:n # indexes (i,j), (j,i) will be mirrored. specify only one kind\n",
    "            push!(quad_terms, MOI.ScalarQuadraticTerm(Q[i,j],x[i],x[j]))\n",
    "        end\n",
    "    end\n",
    "\n",
    "    objective_function = MOI.ScalarQuadraticFunction(MOI.ScalarAffineTerm.(q, x),quad_terms,0.)\n",
    "    MOI.set(model, MOI.ObjectiveFunction{MOI.ScalarQuadraticFunction{Float64}}(), objective_function)\n",
    "    MOI.set(model, MOI.ObjectiveSense(), MOI.MIN_SENSE)\n",
    "\n",
    "    # add constraint\n",
    "    MOI.add_constraint(\n",
    "        model,\n",
    "        MOI.ScalarAffineFunction(MOI.ScalarAffineTerm.(G[1,:], x), 0.),\n",
    "        MOI.LessThan(h[1])\n",
    "    )\n",
    "\n",
    "    # solve\n",
    "    MOI.optimize!(model)\n",
    "\n",
    "    # sanity-check\n",
    "    @assert MOI.get(model, MOI.TerminationStatus()) in [MOI.LOCALLY_SOLVED, MOI.OPTIMAL]\n",
    "\n",
    "    x̄ = MOI.get(model, MOI.VariablePrimal(), x)\n",
    "    return model, x̄\n",
    "end"
   ]
  },
  {
   "cell_type": "code",
   "execution_count": 61,
   "metadata": {},
   "outputs": [
    {
     "name": "stdout",
     "output_type": "stream",
     "text": [
      "-----------------------------------------------------------------\n",
      "           OSQP v0.6.2  -  Operator Splitting QP Solver\n",
      "              (c) Bartolomeo Stellato,  Goran Banjac\n",
      "        University of Oxford  -  Stanford University 2021\n",
      "-----------------------------------------------------------------\n",
      "problem:  variables n = 2, constraints m = 1\n",
      "          nnz(P) + nnz(A) = 5\n",
      "settings: linear system solver = qdldl,\n",
      "          eps_abs = 1.0e-03, eps_rel = 1.0e-03,\n",
      "          eps_prim_inf = 1.0e-04, eps_dual_inf = 1.0e-04,\n",
      "          rho = 1.00e-01 (adaptive),\n",
      "          sigma = 1.00e-06, alpha = 1.60, max_iter = 4000\n",
      "          check_termination: on (interval 25),\n",
      "          scaling: on, scaled_termination: off\n",
      "          warm start: on, polish: off, time_limit: off\n",
      "\n",
      "iter   objective    pri res    dua res    rho        time\n",
      "   1  -2.3138e-01   1.79e-01   4.00e-01   1.00e-01   2.44e-05s\n",
      "  50  -1.2500e-01   3.03e-13   5.59e-12   7.14e+00   4.26e-05s\n",
      "\n",
      "status:               solved\n",
      "number of iterations: 50\n",
      "optimal objective:    -0.1250\n",
      "run time:             4.63e-05s\n",
      "optimal rho estimate: 2.20e+00\n",
      "\n"
     ]
    },
    {
     "data": {
      "text/plain": [
       "(Optimizer{MOIB.LazyBridgeOptimizer{MOIU.CachingOptimizer{OSQP.MOIOSQP.Optimizer,MOIU.UniversalFallback{MOIU.Model{Float64}}}}}, [-0.25, -0.75])"
      ]
     },
     "execution_count": 61,
     "metadata": {},
     "output_type": "execute_result"
    }
   ],
   "source": [
    "model, x̄ = myLayer(n,m,Q,q,G,h)"
   ]
  },
  {
   "cell_type": "code",
   "execution_count": 76,
   "metadata": {},
   "outputs": [
    {
     "ename": "MethodError",
     "evalue": "MethodError: no method matching (::getfield(Main, Symbol(\"##37#38\")))(::Tracker.TrackedReal{Float64})\nClosest candidates are:\n  #37() at In[76]:2",
     "output_type": "error",
     "traceback": [
      "MethodError: no method matching (::getfield(Main, Symbol(\"##37#38\")))(::Tracker.TrackedReal{Float64})\nClosest candidates are:\n  #37() at In[76]:2",
      "",
      "Stacktrace:",
      " [1] gradient_(::Function, ::Float64) at /home/pika/.julia/packages/Tracker/cpxco/src/back.jl:90",
      " [2] #gradient#24 at /home/pika/.julia/packages/Tracker/cpxco/src/back.jl:164 [inlined]",
      " [3] gradient(::Function, ::Float64) at /home/pika/.julia/packages/Tracker/cpxco/src/back.jl:164",
      " [4] top-level scope at In[76]:2"
     ]
    }
   ],
   "source": [
    "loss(x̄) = x̄'*Q*x̄/2 + q'*x̄\n",
    "Tracker.gradient(() -> loss(x̄), h[1])"
   ]
  },
  {
   "cell_type": "code",
   "execution_count": 69,
   "metadata": {},
   "outputs": [
    {
     "data": {
      "text/plain": [
       "rrule (generic function with 1 method)"
      ]
     },
     "execution_count": 69,
     "metadata": {},
     "output_type": "execute_result"
    }
   ],
   "source": [
    "function rrule(::typeof(myLayer), dA, db, dc)\n",
    "    y = msin(x)\n",
    "    function msin_backward(ȳ)\n",
    "        return asin(ȳ)\n",
    "    end\n",
    "    function msin_pullback(ȳ)\n",
    "        return NO_FIELDS, msin_backward(ȳ)\n",
    "    end\n",
    "    return Y, msin_pullback\n",
    "end"
   ]
  },
  {
   "cell_type": "code",
   "execution_count": null,
   "metadata": {},
   "outputs": [],
   "source": []
  }
 ],
 "metadata": {
  "kernelspec": {
   "display_name": "Julia 1.0.4",
   "language": "julia",
   "name": "julia-1.0"
  },
  "language_info": {
   "file_extension": ".jl",
   "mimetype": "application/julia",
   "name": "julia",
   "version": "1.0.4"
  }
 },
 "nbformat": 4,
 "nbformat_minor": 4
}
