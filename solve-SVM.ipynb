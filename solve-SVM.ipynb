{
 "cells": [
  {
   "cell_type": "code",
   "execution_count": 259,
   "metadata": {},
   "outputs": [],
   "source": [
    "import Random\n",
    "import MathOptInterface\n",
    "import SCS\n",
    "using LinearAlgebra\n",
    "import Plots\n",
    "using DiffOpt\n",
    "\n",
    "const MOI = MathOptInterface;"
   ]
  },
  {
   "cell_type": "code",
   "execution_count": 260,
   "metadata": {},
   "outputs": [],
   "source": [
    "Random.seed!(42)\n",
    "X = vcat(randn(20, 2), randn(30,2) .+ [3.0,1.5]')\n",
    "y = append!(ones(20), -ones(30));"
   ]
  },
  {
   "cell_type": "code",
   "execution_count": 261,
   "metadata": {},
   "outputs": [
    {
     "data": {
      "text/plain": [
       "5.0"
      ]
     },
     "execution_count": 261,
     "metadata": {},
     "output_type": "execute_result"
    }
   ],
   "source": [
    "penalty = 5.0"
   ]
  },
  {
   "cell_type": "code",
   "execution_count": 262,
   "metadata": {},
   "outputs": [
    {
     "data": {
      "text/plain": [
       "(50, 2)"
      ]
     },
     "execution_count": 262,
     "metadata": {},
     "output_type": "execute_result"
    }
   ],
   "source": [
    "(nobs, nfeat) = size(X)"
   ]
  },
  {
   "cell_type": "code",
   "execution_count": 263,
   "metadata": {},
   "outputs": [
    {
     "data": {
      "text/plain": [
       "Optimizer{MOIB.LazyBridgeOptimizer{MOIU.CachingOptimizer{SCS.Optimizer,MOIU.UniversalFallback{MOIU.Model{Float64}}}}}"
      ]
     },
     "execution_count": 263,
     "metadata": {},
     "output_type": "execute_result"
    }
   ],
   "source": [
    "model = diff_optimizer(SCS.Optimizer) \n",
    "# model = MOI.instantiate(SCS.Optimizer, with_bridge_type=Float64)"
   ]
  },
  {
   "cell_type": "code",
   "execution_count": 264,
   "metadata": {},
   "outputs": [
    {
     "data": {
      "text/plain": [
       "MathOptInterface.VariableIndex(54)"
      ]
     },
     "execution_count": 264,
     "metadata": {},
     "output_type": "execute_result"
    }
   ],
   "source": [
    "l = MOI.add_variables(model, nobs)\n",
    "w = MOI.add_variables(model, nfeat)\n",
    "b = MOI.add_variable(model)\n",
    "\n",
    "t = MOI.add_variable(model)  # extra variable for the SOC constraint"
   ]
  },
  {
   "cell_type": "code",
   "execution_count": 265,
   "metadata": {},
   "outputs": [
    {
     "data": {
      "text/plain": [
       "MathOptInterface.ConstraintIndex{MathOptInterface.VectorAffineFunction{Float64},MathOptInterface.Nonnegatives}(1)"
      ]
     },
     "execution_count": 265,
     "metadata": {},
     "output_type": "execute_result"
    }
   ],
   "source": [
    "MOI.add_constraint(\n",
    "    model,\n",
    "    MOI.VectorAffineFunction(\n",
    "        MOI.VectorAffineTerm.(1:nobs, MOI.ScalarAffineTerm.(1.0, l)), zeros(nobs)\n",
    "    ), \n",
    "    MOI.Nonnegatives(nobs)\n",
    ")"
   ]
  },
  {
   "cell_type": "code",
   "execution_count": 266,
   "metadata": {},
   "outputs": [
    {
     "data": {
      "text/plain": [
       "MathOptInterface.ConstraintIndex{MathOptInterface.VectorAffineFunction{Float64},MathOptInterface.SecondOrderCone}(3)"
      ]
     },
     "execution_count": 266,
     "metadata": {},
     "output_type": "execute_result"
    }
   ],
   "source": [
    "MOI.add_constraint(\n",
    "    model,\n",
    "    MOI.VectorAffineFunction([MOI.VectorAffineTerm(1, MOI.ScalarAffineTerm(-1.0, t))], [√penalty]),\n",
    "    MOI.Zeros(1)\n",
    ")\n",
    "\n",
    "pen_const = MOI.add_constraint(\n",
    "    model, \n",
    "    MOI.VectorAffineFunction(MOI.VectorAffineTerm.(1:(nfeat+2), MOI.ScalarAffineTerm.(1.0, vcat(t, w,b))), zeros(nfeat+2)), \n",
    "    MOI.SecondOrderCone(nfeat + 2)\n",
    ")"
   ]
  },
  {
   "cell_type": "code",
   "execution_count": 267,
   "metadata": {},
   "outputs": [],
   "source": [
    "for i in 1:nobs\n",
    "    MOI.add_constraint(\n",
    "        model,\n",
    "        MOI.ScalarAffineFunction(MOI.ScalarAffineTerm.([1.0; y[i]*X[i,:]; y[i]], [l[i]; w; b]), 0.0),\n",
    "        MOI.GreaterThan(1.0)\n",
    "    )\n",
    "end"
   ]
  },
  {
   "cell_type": "code",
   "execution_count": 268,
   "metadata": {},
   "outputs": [],
   "source": [
    "objective_function = MOI.ScalarAffineFunction(\n",
    "                        MOI.ScalarAffineTerm.(ones(nobs), l),\n",
    "                        0.0\n",
    "                    )\n",
    "MOI.set(model, MOI.ObjectiveFunction{MOI.ScalarQuadraticFunction{Float64}}(), objective_function)\n",
    "MOI.set(model, MOI.ObjectiveSense(), MOI.MIN_SENSE)"
   ]
  },
  {
   "cell_type": "code",
   "execution_count": 269,
   "metadata": {},
   "outputs": [
    {
     "name": "stdout",
     "output_type": "stream",
     "text": [
      "----------------------------------------------------------------------------\n",
      "\tSCS v2.1.2 - Splitting Conic Solver\n",
      "\t(c) Brendan O'Donoghue, Stanford University, 2012\n",
      "----------------------------------------------------------------------------\n",
      "Lin-sys: sparse-indirect, nnz in A = 255, CG tol ~ 1/iter^(2.00)\n",
      "eps = 1.00e-005, alpha = 1.50, max_iters = 5000, normalize = 1, scale = 1.00\n",
      "acceleration_lookback = 10, rho_x = 1.00e-003\n",
      "Variables n = 54, constraints m = 105\n",
      "Cones:\tprimal zero / dual free vars: 1\n",
      "\tlinear vars: 100\n",
      "\tsoc vars: 4, soc blks: 1\n",
      "Setup time: 1.52e-004s\n",
      "----------------------------------------------------------------------------\n",
      " Iter | pri res | dua res | rel gap | pri obj | dua obj | kap/tau | time (s)\n",
      "----------------------------------------------------------------------------\n",
      "     0|5.13e+019 1.64e+020 1.00e+000 -1.69e+021 2.57e+021 1.08e+021 6.16e-005 \n",
      "    80|2.29e-006 3.92e-006 1.09e-006 5.58e+000 5.58e+000 1.02e-015 2.15e-003 \n",
      "----------------------------------------------------------------------------\n",
      "Status: Solved\n",
      "Timing: Solve time: 2.15e-003s\n",
      "\tLin-sys: avg # CG iterations: 4.74, avg solve time: 7.42e-006s\n",
      "\tCones: avg projection time: 1.90e-007s\n",
      "\tAcceleration: avg step time: 1.58e-005s\n",
      "----------------------------------------------------------------------------\n",
      "Error metrics:\n",
      "dist(s, K) = 8.9002e-017, dist(y, K*) = 0.0000e+000, s'y/|s||y| = 0.0000e+000\n",
      "primal res: |Ax + s - b|_2 / (1 + |b|_2) = 2.2864e-006\n",
      "dual res:   |A'y + c|_2 / (1 + |c|_2) = 3.9150e-006\n",
      "rel gap:    |c'x + b'y| / (1 + |c'x| + |b'y|) = 1.0884e-006\n",
      "----------------------------------------------------------------------------\n",
      "c'x = 5.5827, -b'y = 5.5827\n",
      "============================================================================\n"
     ]
    }
   ],
   "source": [
    "MOI.optimize!(model)"
   ]
  },
  {
   "cell_type": "code",
   "execution_count": 270,
   "metadata": {},
   "outputs": [
    {
     "data": {
      "text/plain": [
       "1.7465540072946883"
      ]
     },
     "execution_count": 270,
     "metadata": {},
     "output_type": "execute_result"
    }
   ],
   "source": [
    "loss = MOI.get(model, MOI.ObjectiveValue())\n",
    "λ = MOI.get(model, MOI.ConstraintDual(), pen_const)[1]\n",
    "wv = MOI.get(model, MOI.VariablePrimal(), w)\n",
    "bv = MOI.get(model, MOI.VariablePrimal(), b)"
   ]
  },
  {
   "cell_type": "code",
   "execution_count": 271,
   "metadata": {},
   "outputs": [
    {
     "data": {
      "image/svg+xml": [
       "<?xml version=\"1.0\" encoding=\"utf-8\"?>\n",
       "<svg xmlns=\"http://www.w3.org/2000/svg\" xmlns:xlink=\"http://www.w3.org/1999/xlink\" width=\"600\" height=\"400\" viewBox=\"0 0 2400 1600\">\n",
       "<defs>\n",
       "  <clipPath id=\"clip170\">\n",
       "    <rect x=\"0\" y=\"0\" width=\"2400\" height=\"1600\"/>\n",
       "  </clipPath>\n",
       "</defs>\n",
       "<path clip-path=\"url(#clip170)\" d=\"\n",
       "M0 1600 L2400 1600 L2400 0 L0 0  Z\n",
       "  \" fill=\"#ffffff\" fill-rule=\"evenodd\" fill-opacity=\"1\"/>\n",
       "<defs>\n",
       "  <clipPath id=\"clip171\">\n",
       "    <rect x=\"480\" y=\"0\" width=\"1681\" height=\"1600\"/>\n",
       "  </clipPath>\n",
       "</defs>\n",
       "<path clip-path=\"url(#clip170)\" d=\"\n",
       "M125.256 1486.45 L2352.76 1486.45 L2352.76 47.2441 L125.256 47.2441  Z\n",
       "  \" fill=\"#ffffff\" fill-rule=\"evenodd\" fill-opacity=\"1\"/>\n",
       "<defs>\n",
       "  <clipPath id=\"clip172\">\n",
       "    <rect x=\"125\" y=\"47\" width=\"2229\" height=\"1440\"/>\n",
       "  </clipPath>\n",
       "</defs>\n",
       "<polyline clip-path=\"url(#clip172)\" style=\"stroke:#000000; stroke-width:2; stroke-opacity:0.1; fill:none\" points=\"\n",
       "  369.109,1486.45 369.109,47.2441 \n",
       "  \"/>\n",
       "<polyline clip-path=\"url(#clip172)\" style=\"stroke:#000000; stroke-width:2; stroke-opacity:0.1; fill:none\" points=\"\n",
       "  932.39,1486.45 932.39,47.2441 \n",
       "  \"/>\n",
       "<polyline clip-path=\"url(#clip172)\" style=\"stroke:#000000; stroke-width:2; stroke-opacity:0.1; fill:none\" points=\"\n",
       "  1495.67,1486.45 1495.67,47.2441 \n",
       "  \"/>\n",
       "<polyline clip-path=\"url(#clip172)\" style=\"stroke:#000000; stroke-width:2; stroke-opacity:0.1; fill:none\" points=\"\n",
       "  2058.95,1486.45 2058.95,47.2441 \n",
       "  \"/>\n",
       "<polyline clip-path=\"url(#clip172)\" style=\"stroke:#000000; stroke-width:2; stroke-opacity:0.1; fill:none\" points=\"\n",
       "  125.256,1486.45 2352.76,1486.45 \n",
       "  \"/>\n",
       "<polyline clip-path=\"url(#clip172)\" style=\"stroke:#000000; stroke-width:2; stroke-opacity:0.1; fill:none\" points=\"\n",
       "  125.256,1265.03 2352.76,1265.03 \n",
       "  \"/>\n",
       "<polyline clip-path=\"url(#clip172)\" style=\"stroke:#000000; stroke-width:2; stroke-opacity:0.1; fill:none\" points=\"\n",
       "  125.256,1043.62 2352.76,1043.62 \n",
       "  \"/>\n",
       "<polyline clip-path=\"url(#clip172)\" style=\"stroke:#000000; stroke-width:2; stroke-opacity:0.1; fill:none\" points=\"\n",
       "  125.256,822.2 2352.76,822.2 \n",
       "  \"/>\n",
       "<polyline clip-path=\"url(#clip172)\" style=\"stroke:#000000; stroke-width:2; stroke-opacity:0.1; fill:none\" points=\"\n",
       "  125.256,600.784 2352.76,600.784 \n",
       "  \"/>\n",
       "<polyline clip-path=\"url(#clip172)\" style=\"stroke:#000000; stroke-width:2; stroke-opacity:0.1; fill:none\" points=\"\n",
       "  125.256,379.368 2352.76,379.368 \n",
       "  \"/>\n",
       "<polyline clip-path=\"url(#clip172)\" style=\"stroke:#000000; stroke-width:2; stroke-opacity:0.1; fill:none\" points=\"\n",
       "  125.256,157.952 2352.76,157.952 \n",
       "  \"/>\n",
       "<polyline clip-path=\"url(#clip170)\" style=\"stroke:#000000; stroke-width:4; stroke-opacity:1; fill:none\" points=\"\n",
       "  125.256,1486.45 2352.76,1486.45 \n",
       "  \"/>\n",
       "<polyline clip-path=\"url(#clip170)\" style=\"stroke:#000000; stroke-width:4; stroke-opacity:1; fill:none\" points=\"\n",
       "  125.256,1486.45 125.256,47.2441 \n",
       "  \"/>\n",
       "<polyline clip-path=\"url(#clip170)\" style=\"stroke:#000000; stroke-width:4; stroke-opacity:1; fill:none\" points=\"\n",
       "  369.109,1486.45 369.109,1469.18 \n",
       "  \"/>\n",
       "<polyline clip-path=\"url(#clip170)\" style=\"stroke:#000000; stroke-width:4; stroke-opacity:1; fill:none\" points=\"\n",
       "  932.39,1486.45 932.39,1469.18 \n",
       "  \"/>\n",
       "<polyline clip-path=\"url(#clip170)\" style=\"stroke:#000000; stroke-width:4; stroke-opacity:1; fill:none\" points=\"\n",
       "  1495.67,1486.45 1495.67,1469.18 \n",
       "  \"/>\n",
       "<polyline clip-path=\"url(#clip170)\" style=\"stroke:#000000; stroke-width:4; stroke-opacity:1; fill:none\" points=\"\n",
       "  2058.95,1486.45 2058.95,1469.18 \n",
       "  \"/>\n",
       "<polyline clip-path=\"url(#clip170)\" style=\"stroke:#000000; stroke-width:4; stroke-opacity:1; fill:none\" points=\"\n",
       "  125.256,1486.45 151.986,1486.45 \n",
       "  \"/>\n",
       "<polyline clip-path=\"url(#clip170)\" style=\"stroke:#000000; stroke-width:4; stroke-opacity:1; fill:none\" points=\"\n",
       "  125.256,1265.03 151.986,1265.03 \n",
       "  \"/>\n",
       "<polyline clip-path=\"url(#clip170)\" style=\"stroke:#000000; stroke-width:4; stroke-opacity:1; fill:none\" points=\"\n",
       "  125.256,1043.62 151.986,1043.62 \n",
       "  \"/>\n",
       "<polyline clip-path=\"url(#clip170)\" style=\"stroke:#000000; stroke-width:4; stroke-opacity:1; fill:none\" points=\"\n",
       "  125.256,822.2 151.986,822.2 \n",
       "  \"/>\n",
       "<polyline clip-path=\"url(#clip170)\" style=\"stroke:#000000; stroke-width:4; stroke-opacity:1; fill:none\" points=\"\n",
       "  125.256,600.784 151.986,600.784 \n",
       "  \"/>\n",
       "<polyline clip-path=\"url(#clip170)\" style=\"stroke:#000000; stroke-width:4; stroke-opacity:1; fill:none\" points=\"\n",
       "  125.256,379.368 151.986,379.368 \n",
       "  \"/>\n",
       "<polyline clip-path=\"url(#clip170)\" style=\"stroke:#000000; stroke-width:4; stroke-opacity:1; fill:none\" points=\"\n",
       "  125.256,157.952 151.986,157.952 \n",
       "  \"/>\n",
       "<path clip-path=\"url(#clip170)\" d=\"M 0 0 M350.162 1525.04 L362.639 1525.04 L362.639 1528.83 L350.162 1528.83 L350.162 1525.04 Z\" fill=\"#000000\" fill-rule=\"evenodd\" fill-opacity=\"1\" /><path clip-path=\"url(#clip170)\" d=\"M 0 0 M371.736 1535.98 L388.056 1535.98 L388.056 1539.92 L366.111 1539.92 L366.111 1535.98 Q368.773 1533.23 373.357 1528.6 Q377.963 1523.95 379.144 1522.61 Q381.389 1520.08 382.269 1518.35 Q383.171 1516.59 383.171 1514.9 Q383.171 1512.14 381.227 1510.41 Q379.306 1508.67 376.204 1508.67 Q374.005 1508.67 371.551 1509.43 Q369.12 1510.2 366.343 1511.75 L366.343 1507.03 Q369.167 1505.89 371.62 1505.31 Q374.074 1504.73 376.111 1504.73 Q381.482 1504.73 384.676 1507.42 Q387.87 1510.11 387.87 1514.6 Q387.87 1516.73 387.06 1518.65 Q386.273 1520.54 384.167 1523.14 Q383.588 1523.81 380.486 1527.03 Q377.384 1530.22 371.736 1535.98 Z\" fill=\"#000000\" fill-rule=\"evenodd\" fill-opacity=\"1\" /><path clip-path=\"url(#clip170)\" d=\"M 0 0 M932.39 1508.44 Q928.779 1508.44 926.95 1512 Q925.145 1515.55 925.145 1522.67 Q925.145 1529.78 926.95 1533.35 Q928.779 1536.89 932.39 1536.89 Q936.024 1536.89 937.83 1533.35 Q939.658 1529.78 939.658 1522.67 Q939.658 1515.55 937.83 1512 Q936.024 1508.44 932.39 1508.44 M932.39 1504.73 Q938.2 1504.73 941.256 1509.34 Q944.334 1513.92 944.334 1522.67 Q944.334 1531.4 941.256 1536.01 Q938.2 1540.59 932.39 1540.59 Q926.58 1540.59 923.501 1536.01 Q920.445 1531.4 920.445 1522.67 Q920.445 1513.92 923.501 1509.34 Q926.58 1504.73 932.39 1504.73 Z\" fill=\"#000000\" fill-rule=\"evenodd\" fill-opacity=\"1\" /><path clip-path=\"url(#clip170)\" d=\"M 0 0 M1490.32 1535.98 L1506.64 1535.98 L1506.64 1539.92 L1484.7 1539.92 L1484.7 1535.98 Q1487.36 1533.23 1491.94 1528.6 Q1496.55 1523.95 1497.73 1522.61 Q1499.98 1520.08 1500.86 1518.35 Q1501.76 1516.59 1501.76 1514.9 Q1501.76 1512.14 1499.81 1510.41 Q1497.89 1508.67 1494.79 1508.67 Q1492.59 1508.67 1490.14 1509.43 Q1487.71 1510.2 1484.93 1511.75 L1484.93 1507.03 Q1487.75 1505.89 1490.21 1505.31 Q1492.66 1504.73 1494.7 1504.73 Q1500.07 1504.73 1503.26 1507.42 Q1506.46 1510.11 1506.46 1514.6 Q1506.46 1516.73 1505.65 1518.65 Q1504.86 1520.54 1502.75 1523.14 Q1502.18 1523.81 1499.07 1527.03 Q1495.97 1530.22 1490.32 1535.98 Z\" fill=\"#000000\" fill-rule=\"evenodd\" fill-opacity=\"1\" /><path clip-path=\"url(#clip170)\" d=\"M 0 0 M2061.96 1509.43 L2050.16 1527.88 L2061.96 1527.88 L2061.96 1509.43 M2060.73 1505.36 L2066.61 1505.36 L2066.61 1527.88 L2071.54 1527.88 L2071.54 1531.77 L2066.61 1531.77 L2066.61 1539.92 L2061.96 1539.92 L2061.96 1531.77 L2046.36 1531.77 L2046.36 1527.26 L2060.73 1505.36 Z\" fill=\"#000000\" fill-rule=\"evenodd\" fill-opacity=\"1\" /><path clip-path=\"url(#clip170)\" d=\"M 0 0 M63.3625 1488.84 L75.8393 1488.84 L75.8393 1492.64 L63.3625 1492.64 L63.3625 1488.84 Z\" fill=\"#000000\" fill-rule=\"evenodd\" fill-opacity=\"1\" /><path clip-path=\"url(#clip170)\" d=\"M 0 0 M84.9365 1499.79 L101.256 1499.79 L101.256 1503.73 L79.3115 1503.73 L79.3115 1499.79 Q81.9735 1497.04 86.5568 1492.41 Q91.1633 1487.76 92.3438 1486.41 Q94.5892 1483.89 95.4688 1482.15 Q96.3716 1480.39 96.3716 1478.7 Q96.3716 1475.95 94.4271 1474.21 Q92.5059 1472.48 89.404 1472.48 Q87.205 1472.48 84.7513 1473.24 Q82.3207 1474.01 79.543 1475.56 L79.543 1470.83 Q82.367 1469.7 84.8207 1469.12 Q87.2744 1468.54 89.3114 1468.54 Q94.6818 1468.54 97.8762 1471.23 Q101.071 1473.91 101.071 1478.4 Q101.071 1480.53 100.26 1482.45 Q99.4734 1484.35 97.3669 1486.95 Q96.7882 1487.62 93.6864 1490.83 Q90.5846 1494.03 84.9365 1499.79 Z\" fill=\"#000000\" fill-rule=\"evenodd\" fill-opacity=\"1\" /><path clip-path=\"url(#clip170)\" d=\"M 0 0 M62.9921 1267.43 L75.4689 1267.43 L75.4689 1271.22 L62.9921 1271.22 L62.9921 1267.43 Z\" fill=\"#000000\" fill-rule=\"evenodd\" fill-opacity=\"1\" /><path clip-path=\"url(#clip170)\" d=\"M 0 0 M81.3485 1278.38 L88.9874 1278.38 L88.9874 1252.01 L80.6772 1253.68 L80.6772 1249.42 L88.9411 1247.75 L93.617 1247.75 L93.617 1278.38 L101.256 1278.38 L101.256 1282.31 L81.3485 1282.31 L81.3485 1278.38 Z\" fill=\"#000000\" fill-rule=\"evenodd\" fill-opacity=\"1\" /><path clip-path=\"url(#clip170)\" d=\"M 0 0 M89.3114 1029.41 Q85.7003 1029.41 83.8716 1032.98 Q82.0661 1036.52 82.0661 1043.65 Q82.0661 1050.76 83.8716 1054.32 Q85.7003 1057.86 89.3114 1057.86 Q92.9457 1057.86 94.7512 1054.32 Q96.5799 1050.76 96.5799 1043.65 Q96.5799 1036.52 94.7512 1032.98 Q92.9457 1029.41 89.3114 1029.41 M89.3114 1025.71 Q95.1216 1025.71 98.1771 1030.32 Q101.256 1034.9 101.256 1043.65 Q101.256 1052.38 98.1771 1056.98 Q95.1216 1061.57 89.3114 1061.57 Q83.5013 1061.57 80.4226 1056.98 Q77.367 1052.38 77.367 1043.65 Q77.367 1034.9 80.4226 1030.32 Q83.5013 1025.71 89.3114 1025.71 Z\" fill=\"#000000\" fill-rule=\"evenodd\" fill-opacity=\"1\" /><path clip-path=\"url(#clip170)\" d=\"M 0 0 M81.3485 835.545 L88.9874 835.545 L88.9874 809.179 L80.6772 810.846 L80.6772 806.587 L88.9411 804.92 L93.617 804.92 L93.617 835.545 L101.256 835.545 L101.256 839.48 L81.3485 839.48 L81.3485 835.545 Z\" fill=\"#000000\" fill-rule=\"evenodd\" fill-opacity=\"1\" /><path clip-path=\"url(#clip170)\" d=\"M 0 0 M84.9365 614.129 L101.256 614.129 L101.256 618.064 L79.3115 618.064 L79.3115 614.129 Q81.9735 611.374 86.5568 606.745 Q91.1633 602.092 92.3438 600.749 Q94.5892 598.226 95.4688 596.49 Q96.3716 594.731 96.3716 593.041 Q96.3716 590.286 94.4271 588.55 Q92.5059 586.814 89.404 586.814 Q87.205 586.814 84.7513 587.578 Q82.3207 588.342 79.543 589.893 L79.543 585.171 Q82.367 584.036 84.8207 583.458 Q87.2744 582.879 89.3114 582.879 Q94.6818 582.879 97.8762 585.564 Q101.071 588.249 101.071 592.74 Q101.071 594.87 100.26 596.791 Q99.4734 598.689 97.3669 601.282 Q96.7882 601.953 93.6864 605.171 Q90.5846 608.365 84.9365 614.129 Z\" fill=\"#000000\" fill-rule=\"evenodd\" fill-opacity=\"1\" /><path clip-path=\"url(#clip170)\" d=\"M 0 0 M94.1262 378.014 Q97.4827 378.731 99.3577 381 Q101.256 383.268 101.256 386.602 Q101.256 391.718 97.7373 394.518 Q94.2188 397.319 87.7374 397.319 Q85.5614 397.319 83.2466 396.88 Q80.955 396.463 78.5013 395.606 L78.5013 391.093 Q80.4457 392.227 82.7605 392.805 Q85.0753 393.384 87.5985 393.384 Q91.9966 393.384 94.2883 391.648 Q96.6031 389.912 96.6031 386.602 Q96.6031 383.546 94.4503 381.833 Q92.3207 380.097 88.5012 380.097 L84.4735 380.097 L84.4735 376.255 L88.6864 376.255 Q92.1355 376.255 93.9642 374.889 Q95.7929 373.5 95.7929 370.907 Q95.7929 368.245 93.8947 366.833 Q92.0197 365.398 88.5012 365.398 Q86.58 365.398 84.3809 365.815 Q82.1818 366.232 79.543 367.111 L79.543 362.945 Q82.205 362.204 84.5198 361.833 Q86.8577 361.463 88.9179 361.463 Q94.242 361.463 97.3438 363.894 Q100.446 366.301 100.446 370.421 Q100.446 373.292 98.8021 375.282 Q97.1586 377.25 94.1262 378.014 Z\" fill=\"#000000\" fill-rule=\"evenodd\" fill-opacity=\"1\" /><path clip-path=\"url(#clip170)\" d=\"M 0 0 M91.6725 144.746 L79.867 163.195 L91.6725 163.195 L91.6725 144.746 M90.4457 140.672 L96.3253 140.672 L96.3253 163.195 L101.256 163.195 L101.256 167.084 L96.3253 167.084 L96.3253 175.232 L91.6725 175.232 L91.6725 167.084 L76.0708 167.084 L76.0708 162.57 L90.4457 140.672 Z\" fill=\"#000000\" fill-rule=\"evenodd\" fill-opacity=\"1\" /><circle clip-path=\"url(#clip172)\" cx=\"775.79\" cy=\"1276.32\" r=\"14\" fill=\"#ff0000\" fill-rule=\"evenodd\" fill-opacity=\"1\" stroke=\"#000000\" stroke-opacity=\"1\" stroke-width=\"3.2\"/>\n",
       "<circle clip-path=\"url(#clip172)\" cx=\"807.234\" cy=\"932.448\" r=\"14\" fill=\"#ff0000\" fill-rule=\"evenodd\" fill-opacity=\"1\" stroke=\"#000000\" stroke-opacity=\"1\" stroke-width=\"3.2\"/>\n",
       "<circle clip-path=\"url(#clip172)\" cx=\"940.038\" cy=\"1091.5\" r=\"14\" fill=\"#ff0000\" fill-rule=\"evenodd\" fill-opacity=\"1\" stroke=\"#000000\" stroke-opacity=\"1\" stroke-width=\"3.2\"/>\n",
       "<circle clip-path=\"url(#clip172)\" cx=\"848.043\" cy=\"1200.03\" r=\"14\" fill=\"#ff0000\" fill-rule=\"evenodd\" fill-opacity=\"1\" stroke=\"#000000\" stroke-opacity=\"1\" stroke-width=\"3.2\"/>\n",
       "<circle clip-path=\"url(#clip172)\" cx=\"609.939\" cy=\"917.447\" r=\"14\" fill=\"#ff0000\" fill-rule=\"evenodd\" fill-opacity=\"1\" stroke=\"#000000\" stroke-opacity=\"1\" stroke-width=\"3.2\"/>\n",
       "<circle clip-path=\"url(#clip172)\" cx=\"800.411\" cy=\"1358.48\" r=\"14\" fill=\"#ff0000\" fill-rule=\"evenodd\" fill-opacity=\"1\" stroke=\"#000000\" stroke-opacity=\"1\" stroke-width=\"3.2\"/>\n",
       "<circle clip-path=\"url(#clip172)\" cx=\"976.366\" cy=\"1126.07\" r=\"14\" fill=\"#ff0000\" fill-rule=\"evenodd\" fill-opacity=\"1\" stroke=\"#000000\" stroke-opacity=\"1\" stroke-width=\"3.2\"/>\n",
       "<circle clip-path=\"url(#clip172)\" cx=\"188.298\" cy=\"961.911\" r=\"14\" fill=\"#ff0000\" fill-rule=\"evenodd\" fill-opacity=\"1\" stroke=\"#000000\" stroke-opacity=\"1\" stroke-width=\"3.2\"/>\n",
       "<circle clip-path=\"url(#clip172)\" cx=\"1214.96\" cy=\"1045.3\" r=\"14\" fill=\"#ff0000\" fill-rule=\"evenodd\" fill-opacity=\"1\" stroke=\"#000000\" stroke-opacity=\"1\" stroke-width=\"3.2\"/>\n",
       "<circle clip-path=\"url(#clip172)\" cx=\"1237.23\" cy=\"919.032\" r=\"14\" fill=\"#ff0000\" fill-rule=\"evenodd\" fill-opacity=\"1\" stroke=\"#000000\" stroke-opacity=\"1\" stroke-width=\"3.2\"/>\n",
       "<circle clip-path=\"url(#clip172)\" cx=\"985.064\" cy=\"1019.95\" r=\"14\" fill=\"#ff0000\" fill-rule=\"evenodd\" fill-opacity=\"1\" stroke=\"#000000\" stroke-opacity=\"1\" stroke-width=\"3.2\"/>\n",
       "<circle clip-path=\"url(#clip172)\" cx=\"1078.32\" cy=\"917.529\" r=\"14\" fill=\"#ff0000\" fill-rule=\"evenodd\" fill-opacity=\"1\" stroke=\"#000000\" stroke-opacity=\"1\" stroke-width=\"3.2\"/>\n",
       "<circle clip-path=\"url(#clip172)\" cx=\"1352.42\" cy=\"892.813\" r=\"14\" fill=\"#ff0000\" fill-rule=\"evenodd\" fill-opacity=\"1\" stroke=\"#000000\" stroke-opacity=\"1\" stroke-width=\"3.2\"/>\n",
       "<circle clip-path=\"url(#clip172)\" cx=\"1035.91\" cy=\"1340.12\" r=\"14\" fill=\"#ff0000\" fill-rule=\"evenodd\" fill-opacity=\"1\" stroke=\"#000000\" stroke-opacity=\"1\" stroke-width=\"3.2\"/>\n",
       "<circle clip-path=\"url(#clip172)\" cx=\"682.799\" cy=\"1096.38\" r=\"14\" fill=\"#ff0000\" fill-rule=\"evenodd\" fill-opacity=\"1\" stroke=\"#000000\" stroke-opacity=\"1\" stroke-width=\"3.2\"/>\n",
       "<circle clip-path=\"url(#clip172)\" cx=\"1125.19\" cy=\"817.914\" r=\"14\" fill=\"#ff0000\" fill-rule=\"evenodd\" fill-opacity=\"1\" stroke=\"#000000\" stroke-opacity=\"1\" stroke-width=\"3.2\"/>\n",
       "<circle clip-path=\"url(#clip172)\" cx=\"484.418\" cy=\"888.233\" r=\"14\" fill=\"#ff0000\" fill-rule=\"evenodd\" fill-opacity=\"1\" stroke=\"#000000\" stroke-opacity=\"1\" stroke-width=\"3.2\"/>\n",
       "<circle clip-path=\"url(#clip172)\" cx=\"1048.05\" cy=\"1075.77\" r=\"14\" fill=\"#ff0000\" fill-rule=\"evenodd\" fill-opacity=\"1\" stroke=\"#000000\" stroke-opacity=\"1\" stroke-width=\"3.2\"/>\n",
       "<circle clip-path=\"url(#clip172)\" cx=\"691.207\" cy=\"901.268\" r=\"14\" fill=\"#ff0000\" fill-rule=\"evenodd\" fill-opacity=\"1\" stroke=\"#000000\" stroke-opacity=\"1\" stroke-width=\"3.2\"/>\n",
       "<circle clip-path=\"url(#clip172)\" cx=\"2289.71\" cy=\"735.498\" r=\"14\" fill=\"#0000ff\" fill-rule=\"evenodd\" fill-opacity=\"1\" stroke=\"#000000\" stroke-opacity=\"1\" stroke-width=\"3.2\"/>\n",
       "<circle clip-path=\"url(#clip172)\" cx=\"1673.88\" cy=\"793.748\" r=\"14\" fill=\"#0000ff\" fill-rule=\"evenodd\" fill-opacity=\"1\" stroke=\"#000000\" stroke-opacity=\"1\" stroke-width=\"3.2\"/>\n",
       "<circle clip-path=\"url(#clip172)\" cx=\"1990.39\" cy=\"443.705\" r=\"14\" fill=\"#0000ff\" fill-rule=\"evenodd\" fill-opacity=\"1\" stroke=\"#000000\" stroke-opacity=\"1\" stroke-width=\"3.2\"/>\n",
       "<circle clip-path=\"url(#clip172)\" cx=\"1801.82\" cy=\"756.663\" r=\"14\" fill=\"#0000ff\" fill-rule=\"evenodd\" fill-opacity=\"1\" stroke=\"#000000\" stroke-opacity=\"1\" stroke-width=\"3.2\"/>\n",
       "<circle clip-path=\"url(#clip172)\" cx=\"1537.58\" cy=\"708.728\" r=\"14\" fill=\"#0000ff\" fill-rule=\"evenodd\" fill-opacity=\"1\" stroke=\"#000000\" stroke-opacity=\"1\" stroke-width=\"3.2\"/>\n",
       "<circle clip-path=\"url(#clip172)\" cx=\"2037.61\" cy=\"680.365\" r=\"14\" fill=\"#0000ff\" fill-rule=\"evenodd\" fill-opacity=\"1\" stroke=\"#000000\" stroke-opacity=\"1\" stroke-width=\"3.2\"/>\n",
       "<circle clip-path=\"url(#clip172)\" cx=\"2231.34\" cy=\"931.223\" r=\"14\" fill=\"#0000ff\" fill-rule=\"evenodd\" fill-opacity=\"1\" stroke=\"#000000\" stroke-opacity=\"1\" stroke-width=\"3.2\"/>\n",
       "<circle clip-path=\"url(#clip172)\" cx=\"1915.88\" cy=\"965.779\" r=\"14\" fill=\"#0000ff\" fill-rule=\"evenodd\" fill-opacity=\"1\" stroke=\"#000000\" stroke-opacity=\"1\" stroke-width=\"3.2\"/>\n",
       "<circle clip-path=\"url(#clip172)\" cx=\"1713.64\" cy=\"407.803\" r=\"14\" fill=\"#0000ff\" fill-rule=\"evenodd\" fill-opacity=\"1\" stroke=\"#000000\" stroke-opacity=\"1\" stroke-width=\"3.2\"/>\n",
       "<circle clip-path=\"url(#clip172)\" cx=\"1396.63\" cy=\"724.571\" r=\"14\" fill=\"#0000ff\" fill-rule=\"evenodd\" fill-opacity=\"1\" stroke=\"#000000\" stroke-opacity=\"1\" stroke-width=\"3.2\"/>\n",
       "<circle clip-path=\"url(#clip172)\" cx=\"1862.47\" cy=\"789.669\" r=\"14\" fill=\"#0000ff\" fill-rule=\"evenodd\" fill-opacity=\"1\" stroke=\"#000000\" stroke-opacity=\"1\" stroke-width=\"3.2\"/>\n",
       "<circle clip-path=\"url(#clip172)\" cx=\"2122.39\" cy=\"1032.3\" r=\"14\" fill=\"#0000ff\" fill-rule=\"evenodd\" fill-opacity=\"1\" stroke=\"#000000\" stroke-opacity=\"1\" stroke-width=\"3.2\"/>\n",
       "<circle clip-path=\"url(#clip172)\" cx=\"1648.33\" cy=\"182.769\" r=\"14\" fill=\"#0000ff\" fill-rule=\"evenodd\" fill-opacity=\"1\" stroke=\"#000000\" stroke-opacity=\"1\" stroke-width=\"3.2\"/>\n",
       "<circle clip-path=\"url(#clip172)\" cx=\"1673.46\" cy=\"683.636\" r=\"14\" fill=\"#0000ff\" fill-rule=\"evenodd\" fill-opacity=\"1\" stroke=\"#000000\" stroke-opacity=\"1\" stroke-width=\"3.2\"/>\n",
       "<circle clip-path=\"url(#clip172)\" cx=\"1611.73\" cy=\"641.302\" r=\"14\" fill=\"#0000ff\" fill-rule=\"evenodd\" fill-opacity=\"1\" stroke=\"#000000\" stroke-opacity=\"1\" stroke-width=\"3.2\"/>\n",
       "<circle clip-path=\"url(#clip172)\" cx=\"2028.01\" cy=\"650.316\" r=\"14\" fill=\"#0000ff\" fill-rule=\"evenodd\" fill-opacity=\"1\" stroke=\"#000000\" stroke-opacity=\"1\" stroke-width=\"3.2\"/>\n",
       "<circle clip-path=\"url(#clip172)\" cx=\"1844.74\" cy=\"1071.43\" r=\"14\" fill=\"#0000ff\" fill-rule=\"evenodd\" fill-opacity=\"1\" stroke=\"#000000\" stroke-opacity=\"1\" stroke-width=\"3.2\"/>\n",
       "<circle clip-path=\"url(#clip172)\" cx=\"1722.36\" cy=\"919.029\" r=\"14\" fill=\"#0000ff\" fill-rule=\"evenodd\" fill-opacity=\"1\" stroke=\"#000000\" stroke-opacity=\"1\" stroke-width=\"3.2\"/>\n",
       "<circle clip-path=\"url(#clip172)\" cx=\"1961.54\" cy=\"917.518\" r=\"14\" fill=\"#0000ff\" fill-rule=\"evenodd\" fill-opacity=\"1\" stroke=\"#000000\" stroke-opacity=\"1\" stroke-width=\"3.2\"/>\n",
       "<circle clip-path=\"url(#clip172)\" cx=\"1546.91\" cy=\"1152.23\" r=\"14\" fill=\"#0000ff\" fill-rule=\"evenodd\" fill-opacity=\"1\" stroke=\"#000000\" stroke-opacity=\"1\" stroke-width=\"3.2\"/>\n",
       "<circle clip-path=\"url(#clip172)\" cx=\"1312.44\" cy=\"681.038\" r=\"14\" fill=\"#0000ff\" fill-rule=\"evenodd\" fill-opacity=\"1\" stroke=\"#000000\" stroke-opacity=\"1\" stroke-width=\"3.2\"/>\n",
       "<circle clip-path=\"url(#clip172)\" cx=\"1785\" cy=\"871.224\" r=\"14\" fill=\"#0000ff\" fill-rule=\"evenodd\" fill-opacity=\"1\" stroke=\"#000000\" stroke-opacity=\"1\" stroke-width=\"3.2\"/>\n",
       "<circle clip-path=\"url(#clip172)\" cx=\"1861.13\" cy=\"839.27\" r=\"14\" fill=\"#0000ff\" fill-rule=\"evenodd\" fill-opacity=\"1\" stroke=\"#000000\" stroke-opacity=\"1\" stroke-width=\"3.2\"/>\n",
       "<circle clip-path=\"url(#clip172)\" cx=\"1797.41\" cy=\"609.777\" r=\"14\" fill=\"#0000ff\" fill-rule=\"evenodd\" fill-opacity=\"1\" stroke=\"#000000\" stroke-opacity=\"1\" stroke-width=\"3.2\"/>\n",
       "<circle clip-path=\"url(#clip172)\" cx=\"1525.38\" cy=\"656.756\" r=\"14\" fill=\"#0000ff\" fill-rule=\"evenodd\" fill-opacity=\"1\" stroke=\"#000000\" stroke-opacity=\"1\" stroke-width=\"3.2\"/>\n",
       "<circle clip-path=\"url(#clip172)\" cx=\"1215.51\" cy=\"717.174\" r=\"14\" fill=\"#0000ff\" fill-rule=\"evenodd\" fill-opacity=\"1\" stroke=\"#000000\" stroke-opacity=\"1\" stroke-width=\"3.2\"/>\n",
       "<circle clip-path=\"url(#clip172)\" cx=\"1724.56\" cy=\"851.445\" r=\"14\" fill=\"#0000ff\" fill-rule=\"evenodd\" fill-opacity=\"1\" stroke=\"#000000\" stroke-opacity=\"1\" stroke-width=\"3.2\"/>\n",
       "<circle clip-path=\"url(#clip172)\" cx=\"1612.43\" cy=\"937.429\" r=\"14\" fill=\"#0000ff\" fill-rule=\"evenodd\" fill-opacity=\"1\" stroke=\"#000000\" stroke-opacity=\"1\" stroke-width=\"3.2\"/>\n",
       "<circle clip-path=\"url(#clip172)\" cx=\"1352.2\" cy=\"1001.88\" r=\"14\" fill=\"#0000ff\" fill-rule=\"evenodd\" fill-opacity=\"1\" stroke=\"#000000\" stroke-opacity=\"1\" stroke-width=\"3.2\"/>\n",
       "<polyline clip-path=\"url(#clip172)\" style=\"stroke:#e26f46; stroke-width:4; stroke-opacity:1; fill:none\" points=\"\n",
       "  932.39,22.5293 1495.67,1593.91 \n",
       "  \"/>\n",
       "<path clip-path=\"url(#clip170)\" d=\"\n",
       "M1262.64 251.724 L2280.76 251.724 L2280.76 130.764 L1262.64 130.764  Z\n",
       "  \" fill=\"#ffffff\" fill-rule=\"evenodd\" fill-opacity=\"1\"/>\n",
       "<polyline clip-path=\"url(#clip170)\" style=\"stroke:#000000; stroke-width:4; stroke-opacity:1; fill:none\" points=\"\n",
       "  1262.64,251.724 2280.76,251.724 2280.76,130.764 1262.64,130.764 1262.64,251.724 \n",
       "  \"/>\n",
       "<polyline clip-path=\"url(#clip170)\" style=\"stroke:#e26f46; stroke-width:4; stroke-opacity:1; fill:none\" points=\"\n",
       "  1286.64,191.244 1430.64,191.244 \n",
       "  \"/>\n",
       "<path clip-path=\"url(#clip170)\" d=\"M 0 0 M1471.02 192.32 Q1472.53 192.83 1473.94 194.496 Q1475.38 196.163 1476.81 199.08 L1481.56 208.524 L1476.53 208.524 L1472.11 199.658 Q1470.4 196.186 1468.78 195.052 Q1467.18 193.918 1464.4 193.918 L1459.31 193.918 L1459.31 208.524 L1454.64 208.524 L1454.64 173.964 L1465.19 173.964 Q1471.12 173.964 1474.03 176.441 Q1476.95 178.918 1476.95 183.918 Q1476.95 187.182 1475.42 189.334 Q1473.92 191.487 1471.02 192.32 M1459.31 177.807 L1459.31 190.075 L1465.19 190.075 Q1468.57 190.075 1470.28 188.524 Q1472.02 186.95 1472.02 183.918 Q1472.02 180.885 1470.28 179.358 Q1468.57 177.807 1465.19 177.807 L1459.31 177.807 Z\" fill=\"#000000\" fill-rule=\"evenodd\" fill-opacity=\"1\" /><path clip-path=\"url(#clip170)\" d=\"M 0 0 M1486.21 173.964 L1490.88 173.964 L1490.88 188.131 L1507.88 188.131 L1507.88 173.964 L1512.55 173.964 L1512.55 208.524 L1507.88 208.524 L1507.88 192.066 L1490.88 192.066 L1490.88 208.524 L1486.21 208.524 L1486.21 173.964 Z\" fill=\"#000000\" fill-rule=\"evenodd\" fill-opacity=\"1\" /><path clip-path=\"url(#clip170)\" d=\"M 0 0 M1537.92 175.098 L1537.92 179.659 Q1535.26 178.385 1532.9 177.76 Q1530.54 177.135 1528.34 177.135 Q1524.52 177.135 1522.44 178.617 Q1520.38 180.098 1520.38 182.83 Q1520.38 185.121 1521.74 186.302 Q1523.13 187.459 1526.97 188.177 L1529.8 188.756 Q1535.03 189.751 1537.51 192.274 Q1540 194.774 1540 198.987 Q1540 204.01 1536.63 206.603 Q1533.27 209.195 1526.76 209.195 Q1524.31 209.195 1521.53 208.64 Q1518.78 208.084 1515.82 206.996 L1515.82 202.182 Q1518.66 203.779 1521.39 204.589 Q1524.13 205.399 1526.76 205.399 Q1530.77 205.399 1532.94 203.825 Q1535.12 202.251 1535.12 199.334 Q1535.12 196.788 1533.55 195.353 Q1532 193.918 1528.43 193.2 L1525.58 192.645 Q1520.35 191.603 1518.01 189.381 Q1515.68 187.158 1515.68 183.2 Q1515.68 178.617 1518.89 175.978 Q1522.13 173.339 1527.81 173.339 Q1530.24 173.339 1532.76 173.779 Q1535.28 174.219 1537.92 175.098 Z\" fill=\"#000000\" fill-rule=\"evenodd\" fill-opacity=\"1\" /><path clip-path=\"url(#clip170)\" d=\"M 0 0 M1560.1 186.996 L1589.77 186.996 L1589.77 190.885 L1560.1 190.885 L1560.1 186.996 M1560.1 196.441 L1589.77 196.441 L1589.77 200.376 L1560.1 200.376 L1560.1 196.441 Z\" fill=\"#000000\" fill-rule=\"evenodd\" fill-opacity=\"1\" /><path clip-path=\"url(#clip170)\" d=\"M 0 0 M1609.96 173.964 L1628.31 173.964 L1628.31 177.899 L1614.24 177.899 L1614.24 186.371 Q1615.26 186.024 1616.28 185.862 Q1617.3 185.677 1618.31 185.677 Q1624.1 185.677 1627.48 188.848 Q1630.86 192.02 1630.86 197.436 Q1630.86 203.015 1627.39 206.117 Q1623.92 209.195 1617.6 209.195 Q1615.42 209.195 1613.15 208.825 Q1610.91 208.455 1608.5 207.714 L1608.5 203.015 Q1610.58 204.149 1612.81 204.705 Q1615.03 205.26 1617.5 205.26 Q1621.51 205.26 1623.85 203.154 Q1626.19 201.047 1626.19 197.436 Q1626.19 193.825 1623.85 191.719 Q1621.51 189.612 1617.5 189.612 Q1615.63 189.612 1613.75 190.029 Q1611.9 190.445 1609.96 191.325 L1609.96 173.964 Z\" fill=\"#000000\" fill-rule=\"evenodd\" fill-opacity=\"1\" /><path clip-path=\"url(#clip170)\" d=\"M 0 0 M1635.93 202.644 L1640.81 202.644 L1640.81 208.524 L1635.93 208.524 L1635.93 202.644 Z\" fill=\"#000000\" fill-rule=\"evenodd\" fill-opacity=\"1\" /><path clip-path=\"url(#clip170)\" d=\"M 0 0 M1655.88 177.043 Q1652.27 177.043 1650.44 180.608 Q1648.64 184.149 1648.64 191.279 Q1648.64 198.385 1650.44 201.95 Q1652.27 205.492 1655.88 205.492 Q1659.52 205.492 1661.32 201.95 Q1663.15 198.385 1663.15 191.279 Q1663.15 184.149 1661.32 180.608 Q1659.52 177.043 1655.88 177.043 M1655.88 173.339 Q1661.69 173.339 1664.75 177.946 Q1667.83 182.529 1667.83 191.279 Q1667.83 200.006 1664.75 204.612 Q1661.69 209.195 1655.88 209.195 Q1650.07 209.195 1647 204.612 Q1643.94 200.006 1643.94 191.279 Q1643.94 182.529 1647 177.946 Q1650.07 173.339 1655.88 173.339 Z\" fill=\"#000000\" fill-rule=\"evenodd\" fill-opacity=\"1\" /><path clip-path=\"url(#clip170)\" d=\"M 0 0 M1673.38 202.644 L1678.27 202.644 L1678.27 206.626 L1674.47 214.033 L1671.49 214.033 L1673.38 206.626 L1673.38 202.644 Z\" fill=\"#000000\" fill-rule=\"evenodd\" fill-opacity=\"1\" /><path clip-path=\"url(#clip170)\" d=\"M 0 0 M1697.81 172.506 L1702.06 172.506 L1702.06 208.524 L1697.81 208.524 L1697.81 172.506 Z\" fill=\"#000000\" fill-rule=\"evenodd\" fill-opacity=\"1\" /><path clip-path=\"url(#clip170)\" d=\"M 0 0 M1716.58 185.584 Q1713.15 185.584 1711.16 188.27 Q1709.17 190.932 1709.17 195.584 Q1709.17 200.237 1711.14 202.922 Q1713.13 205.584 1716.58 205.584 Q1719.98 205.584 1721.97 202.899 Q1723.96 200.214 1723.96 195.584 Q1723.96 190.978 1721.97 188.293 Q1719.98 185.584 1716.58 185.584 M1716.58 181.973 Q1722.13 181.973 1725.3 185.584 Q1728.48 189.195 1728.48 195.584 Q1728.48 201.95 1725.3 205.584 Q1722.13 209.195 1716.58 209.195 Q1711 209.195 1707.83 205.584 Q1704.68 201.95 1704.68 195.584 Q1704.68 189.195 1707.83 185.584 Q1711 181.973 1716.58 181.973 Z\" fill=\"#000000\" fill-rule=\"evenodd\" fill-opacity=\"1\" /><path clip-path=\"url(#clip170)\" d=\"M 0 0 M1749.47 183.362 L1749.47 187.39 Q1747.67 186.464 1745.72 186.001 Q1743.78 185.538 1741.69 185.538 Q1738.52 185.538 1736.93 186.51 Q1735.35 187.483 1735.35 189.427 Q1735.35 190.908 1736.49 191.765 Q1737.62 192.598 1741.05 193.362 L1742.5 193.686 Q1747.04 194.658 1748.94 196.441 Q1750.86 198.2 1750.86 201.371 Q1750.86 204.982 1747.99 207.089 Q1745.14 209.195 1740.14 209.195 Q1738.06 209.195 1735.79 208.779 Q1733.55 208.385 1731.05 207.575 L1731.05 203.177 Q1733.41 204.404 1735.7 205.029 Q1737.99 205.631 1740.24 205.631 Q1743.24 205.631 1744.87 204.612 Q1746.49 203.57 1746.49 201.695 Q1746.49 199.959 1745.3 199.033 Q1744.15 198.107 1740.19 197.251 L1738.71 196.904 Q1734.75 196.07 1732.99 194.358 Q1731.23 192.621 1731.23 189.612 Q1731.23 185.955 1733.82 183.964 Q1736.42 181.973 1741.18 181.973 Q1743.55 181.973 1745.63 182.321 Q1747.71 182.668 1749.47 183.362 Z\" fill=\"#000000\" fill-rule=\"evenodd\" fill-opacity=\"1\" /><path clip-path=\"url(#clip170)\" d=\"M 0 0 M1771.86 183.362 L1771.86 187.39 Q1770.05 186.464 1768.11 186.001 Q1766.16 185.538 1764.08 185.538 Q1760.91 185.538 1759.31 186.51 Q1757.74 187.483 1757.74 189.427 Q1757.74 190.908 1758.87 191.765 Q1760 192.598 1763.43 193.362 L1764.89 193.686 Q1769.43 194.658 1771.32 196.441 Q1773.24 198.2 1773.24 201.371 Q1773.24 204.982 1770.37 207.089 Q1767.53 209.195 1762.53 209.195 Q1760.44 209.195 1758.18 208.779 Q1755.93 208.385 1753.43 207.575 L1753.43 203.177 Q1755.79 204.404 1758.08 205.029 Q1760.37 205.631 1762.62 205.631 Q1765.63 205.631 1767.25 204.612 Q1768.87 203.57 1768.87 201.695 Q1768.87 199.959 1767.69 199.033 Q1766.53 198.107 1762.57 197.251 L1761.09 196.904 Q1757.13 196.07 1755.37 194.358 Q1753.61 192.621 1753.61 189.612 Q1753.61 185.955 1756.21 183.964 Q1758.8 181.973 1763.57 181.973 Q1765.93 181.973 1768.01 182.321 Q1770.1 182.668 1771.86 183.362 Z\" fill=\"#000000\" fill-rule=\"evenodd\" fill-opacity=\"1\" /><path clip-path=\"url(#clip170)\" d=\"M 0 0 M1793.34 186.996 L1823.01 186.996 L1823.01 190.885 L1793.34 190.885 L1793.34 186.996 M1793.34 196.441 L1823.01 196.441 L1823.01 200.376 L1793.34 200.376 L1793.34 196.441 Z\" fill=\"#000000\" fill-rule=\"evenodd\" fill-opacity=\"1\" /><path clip-path=\"url(#clip170)\" d=\"M 0 0 M1843.2 173.964 L1861.55 173.964 L1861.55 177.899 L1847.48 177.899 L1847.48 186.371 Q1848.5 186.024 1849.52 185.862 Q1850.54 185.677 1851.55 185.677 Q1857.34 185.677 1860.72 188.848 Q1864.1 192.02 1864.1 197.436 Q1864.1 203.015 1860.63 206.117 Q1857.16 209.195 1850.84 209.195 Q1848.66 209.195 1846.39 208.825 Q1844.15 208.455 1841.74 207.714 L1841.74 203.015 Q1843.82 204.149 1846.05 204.705 Q1848.27 205.26 1850.74 205.26 Q1854.75 205.26 1857.09 203.154 Q1859.42 201.047 1859.42 197.436 Q1859.42 193.825 1857.09 191.719 Q1854.75 189.612 1850.74 189.612 Q1848.87 189.612 1846.99 190.029 Q1845.14 190.445 1843.2 191.325 L1843.2 173.964 Z\" fill=\"#000000\" fill-rule=\"evenodd\" fill-opacity=\"1\" /><path clip-path=\"url(#clip170)\" d=\"M 0 0 M1869.17 202.644 L1874.05 202.644 L1874.05 208.524 L1869.17 208.524 L1869.17 202.644 Z\" fill=\"#000000\" fill-rule=\"evenodd\" fill-opacity=\"1\" /><path clip-path=\"url(#clip170)\" d=\"M 0 0 M1879.17 173.964 L1897.53 173.964 L1897.53 177.899 L1883.45 177.899 L1883.45 186.371 Q1884.47 186.024 1885.49 185.862 Q1886.51 185.677 1887.53 185.677 Q1893.31 185.677 1896.69 188.848 Q1900.07 192.02 1900.07 197.436 Q1900.07 203.015 1896.6 206.117 Q1893.13 209.195 1886.81 209.195 Q1884.63 209.195 1882.36 208.825 Q1880.12 208.455 1877.71 207.714 L1877.71 203.015 Q1879.79 204.149 1882.02 204.705 Q1884.24 205.26 1886.72 205.26 Q1890.72 205.26 1893.06 203.154 Q1895.4 201.047 1895.4 197.436 Q1895.4 193.825 1893.06 191.719 Q1890.72 189.612 1886.72 189.612 Q1884.84 189.612 1882.97 190.029 Q1881.11 190.445 1879.17 191.325 L1879.17 173.964 Z\" fill=\"#000000\" fill-rule=\"evenodd\" fill-opacity=\"1\" /><path clip-path=\"url(#clip170)\" d=\"M 0 0 M1915.14 192.112 Q1911.81 192.112 1909.89 193.895 Q1907.99 195.677 1907.99 198.802 Q1907.99 201.927 1909.89 203.709 Q1911.81 205.492 1915.14 205.492 Q1918.48 205.492 1920.4 203.709 Q1922.32 201.904 1922.32 198.802 Q1922.32 195.677 1920.4 193.895 Q1918.5 192.112 1915.14 192.112 M1910.47 190.121 Q1907.46 189.381 1905.77 187.321 Q1904.1 185.26 1904.1 182.297 Q1904.1 178.154 1907.04 175.746 Q1910 173.339 1915.14 173.339 Q1920.3 173.339 1923.24 175.746 Q1926.18 178.154 1926.18 182.297 Q1926.18 185.26 1924.49 187.321 Q1922.83 189.381 1919.84 190.121 Q1923.22 190.908 1925.1 193.2 Q1926.99 195.492 1926.99 198.802 Q1926.99 203.825 1923.91 206.51 Q1920.86 209.195 1915.14 209.195 Q1909.42 209.195 1906.35 206.51 Q1903.29 203.825 1903.29 198.802 Q1903.29 195.492 1905.19 193.2 Q1907.09 190.908 1910.47 190.121 M1908.75 182.737 Q1908.75 185.422 1910.42 186.927 Q1912.11 188.432 1915.14 188.432 Q1918.15 188.432 1919.84 186.927 Q1921.55 185.422 1921.55 182.737 Q1921.55 180.052 1919.84 178.547 Q1918.15 177.043 1915.14 177.043 Q1912.11 177.043 1910.42 178.547 Q1908.75 180.052 1908.75 182.737 Z\" fill=\"#000000\" fill-rule=\"evenodd\" fill-opacity=\"1\" /><path clip-path=\"url(#clip170)\" d=\"M 0 0 M1932.55 202.644 L1937.43 202.644 L1937.43 206.626 L1933.64 214.033 L1930.65 214.033 L1932.55 206.626 L1932.55 202.644 Z\" fill=\"#000000\" fill-rule=\"evenodd\" fill-opacity=\"1\" /><path clip-path=\"url(#clip170)\" d=\"M 0 0 M1956.97 172.506 L1961.23 172.506 L1961.23 208.524 L1956.97 208.524 L1956.97 172.506 Z\" fill=\"#000000\" fill-rule=\"evenodd\" fill-opacity=\"1\" /><path clip-path=\"url(#clip170)\" d=\"M 0 0 M1977.48 195.492 Q1972.32 195.492 1970.33 196.672 Q1968.34 197.853 1968.34 200.7 Q1968.34 202.969 1969.82 204.311 Q1971.32 205.631 1973.89 205.631 Q1977.43 205.631 1979.56 203.131 Q1981.72 200.607 1981.72 196.441 L1981.72 195.492 L1977.48 195.492 M1985.97 193.733 L1985.97 208.524 L1981.72 208.524 L1981.72 204.589 Q1980.26 206.95 1978.08 208.084 Q1975.91 209.195 1972.76 209.195 Q1968.78 209.195 1966.41 206.973 Q1964.08 204.728 1964.08 200.978 Q1964.08 196.603 1966.99 194.381 Q1969.93 192.158 1975.74 192.158 L1981.72 192.158 L1981.72 191.742 Q1981.72 188.802 1979.77 187.205 Q1977.85 185.584 1974.35 185.584 Q1972.13 185.584 1970.03 186.117 Q1967.92 186.649 1965.97 187.714 L1965.97 183.779 Q1968.31 182.876 1970.51 182.436 Q1972.71 181.973 1974.79 181.973 Q1980.42 181.973 1983.2 184.89 Q1985.97 187.807 1985.97 193.733 Z\" fill=\"#000000\" fill-rule=\"evenodd\" fill-opacity=\"1\" /><path clip-path=\"url(#clip170)\" d=\"M 0 0 M2010.63 187.575 Q2012.22 184.705 2014.45 183.339 Q2016.67 181.973 2019.68 181.973 Q2023.73 181.973 2025.93 184.821 Q2028.13 187.645 2028.13 192.876 L2028.13 208.524 L2023.84 208.524 L2023.84 193.015 Q2023.84 189.288 2022.53 187.483 Q2021.21 185.677 2018.5 185.677 Q2015.19 185.677 2013.27 187.876 Q2011.35 190.075 2011.35 193.871 L2011.35 208.524 L2007.06 208.524 L2007.06 193.015 Q2007.06 189.265 2005.74 187.483 Q2004.42 185.677 2001.67 185.677 Q1998.41 185.677 1996.48 187.899 Q1994.56 190.098 1994.56 193.871 L1994.56 208.524 L1990.28 208.524 L1990.28 182.598 L1994.56 182.598 L1994.56 186.626 Q1996.02 184.242 1998.06 183.108 Q2000.1 181.973 2002.9 181.973 Q2005.72 181.973 2007.69 183.408 Q2009.68 184.844 2010.63 187.575 Z\" fill=\"#000000\" fill-rule=\"evenodd\" fill-opacity=\"1\" /><path clip-path=\"url(#clip170)\" d=\"M 0 0 M2051.21 195.584 Q2051.21 190.885 2049.26 188.223 Q2047.34 185.538 2043.96 185.538 Q2040.58 185.538 2038.64 188.223 Q2036.72 190.885 2036.72 195.584 Q2036.72 200.283 2038.64 202.969 Q2040.58 205.631 2043.96 205.631 Q2047.34 205.631 2049.26 202.969 Q2051.21 200.283 2051.21 195.584 M2036.72 186.533 Q2038.06 184.219 2040.09 183.108 Q2042.16 181.973 2045 181.973 Q2049.72 181.973 2052.66 185.723 Q2055.63 189.473 2055.63 195.584 Q2055.63 201.695 2052.66 205.445 Q2049.72 209.195 2045 209.195 Q2042.16 209.195 2040.09 208.084 Q2038.06 206.95 2036.72 204.635 L2036.72 208.524 L2032.43 208.524 L2032.43 172.506 L2036.72 172.506 L2036.72 186.533 Z\" fill=\"#000000\" fill-rule=\"evenodd\" fill-opacity=\"1\" /><path clip-path=\"url(#clip170)\" d=\"M 0 0 M2077.15 186.533 L2077.15 172.506 L2081.41 172.506 L2081.41 208.524 L2077.15 208.524 L2077.15 204.635 Q2075.81 206.95 2073.75 208.084 Q2071.72 209.195 2068.84 209.195 Q2064.15 209.195 2061.18 205.445 Q2058.24 201.695 2058.24 195.584 Q2058.24 189.473 2061.18 185.723 Q2064.15 181.973 2068.84 181.973 Q2071.72 181.973 2073.75 183.108 Q2075.81 184.219 2077.15 186.533 M2062.64 195.584 Q2062.64 200.283 2064.56 202.969 Q2066.51 205.631 2069.89 205.631 Q2073.27 205.631 2075.21 202.969 Q2077.15 200.283 2077.15 195.584 Q2077.15 190.885 2075.21 188.223 Q2073.27 185.538 2069.89 185.538 Q2066.51 185.538 2064.56 188.223 Q2062.64 190.885 2062.64 195.584 Z\" fill=\"#000000\" fill-rule=\"evenodd\" fill-opacity=\"1\" /><path clip-path=\"url(#clip170)\" d=\"M 0 0 M2097.66 195.492 Q2092.5 195.492 2090.51 196.672 Q2088.52 197.853 2088.52 200.7 Q2088.52 202.969 2090 204.311 Q2091.51 205.631 2094.08 205.631 Q2097.62 205.631 2099.75 203.131 Q2101.9 200.607 2101.9 196.441 L2101.9 195.492 L2097.66 195.492 M2106.16 193.733 L2106.16 208.524 L2101.9 208.524 L2101.9 204.589 Q2100.44 206.95 2098.27 208.084 Q2096.09 209.195 2092.94 209.195 Q2088.96 209.195 2086.6 206.973 Q2084.26 204.728 2084.26 200.978 Q2084.26 196.603 2087.18 194.381 Q2090.12 192.158 2095.93 192.158 L2101.9 192.158 L2101.9 191.742 Q2101.9 188.802 2099.96 187.205 Q2098.03 185.584 2094.54 185.584 Q2092.32 185.584 2090.21 186.117 Q2088.1 186.649 2086.16 187.714 L2086.16 183.779 Q2088.5 182.876 2090.7 182.436 Q2092.9 181.973 2094.98 181.973 Q2100.6 181.973 2103.38 184.89 Q2106.16 187.807 2106.16 193.733 Z\" fill=\"#000000\" fill-rule=\"evenodd\" fill-opacity=\"1\" /><path clip-path=\"url(#clip170)\" d=\"M 0 0 M2126.25 186.996 L2155.93 186.996 L2155.93 190.885 L2126.25 190.885 L2126.25 186.996 M2126.25 196.441 L2155.93 196.441 L2155.93 200.376 L2126.25 200.376 L2126.25 196.441 Z\" fill=\"#000000\" fill-rule=\"evenodd\" fill-opacity=\"1\" /><path clip-path=\"url(#clip170)\" d=\"M 0 0 M2176.88 204.589 L2184.52 204.589 L2184.52 178.223 L2176.21 179.89 L2176.21 175.631 L2184.47 173.964 L2189.15 173.964 L2189.15 204.589 L2196.78 204.589 L2196.78 208.524 L2176.88 208.524 L2176.88 204.589 Z\" fill=\"#000000\" fill-rule=\"evenodd\" fill-opacity=\"1\" /><path clip-path=\"url(#clip170)\" d=\"M 0 0 M2201.85 202.644 L2206.74 202.644 L2206.74 208.524 L2201.85 208.524 L2201.85 202.644 Z\" fill=\"#000000\" fill-rule=\"evenodd\" fill-opacity=\"1\" /><path clip-path=\"url(#clip170)\" d=\"M 0 0 M2211.85 173.964 L2230.21 173.964 L2230.21 177.899 L2216.14 177.899 L2216.14 186.371 Q2217.15 186.024 2218.17 185.862 Q2219.19 185.677 2220.21 185.677 Q2226 185.677 2229.38 188.848 Q2232.76 192.02 2232.76 197.436 Q2232.76 203.015 2229.28 206.117 Q2225.81 209.195 2219.49 209.195 Q2217.32 209.195 2215.05 208.825 Q2212.8 208.455 2210.39 207.714 L2210.39 203.015 Q2212.48 204.149 2214.7 204.705 Q2216.92 205.26 2219.4 205.26 Q2223.4 205.26 2225.74 203.154 Q2228.08 201.047 2228.08 197.436 Q2228.08 193.825 2225.74 191.719 Q2223.4 189.612 2219.4 189.612 Q2217.52 189.612 2215.65 190.029 Q2213.8 190.445 2211.85 191.325 L2211.85 173.964 Z\" fill=\"#000000\" fill-rule=\"evenodd\" fill-opacity=\"1\" /></svg>\n"
      ]
     },
     "execution_count": 271,
     "metadata": {},
     "output_type": "execute_result"
    }
   ],
   "source": [
    "p = Plots.scatter(X[:,1], X[:,2], color = [yi > 0 ? :red : :blue for yi in y], label = \"\")\n",
    "Plots.yaxis!(p, (-2, 4.5))\n",
    "Plots.plot!(p, [0.0, 2.0], [-bv / wv[2], (-bv - 2wv[1])/wv[2]], label = \"RHS = $(penalty), loss = $(round(loss, digits=2)), lambda = $(round(λ, digits=2))\")"
   ]
  },
  {
   "cell_type": "code",
   "execution_count": 275,
   "metadata": {},
   "outputs": [
    {
     "data": {
      "text/plain": [
       "true"
      ]
     },
     "execution_count": 275,
     "metadata": {},
     "output_type": "execute_result"
    }
   ],
   "source": [
    "wv'wv + bv*bv <= penalty"
   ]
  },
  {
   "cell_type": "code",
   "execution_count": 255,
   "metadata": {},
   "outputs": [
    {
     "ename": "MethodError",
     "evalue": "MethodError: no method matching load_variables(::SCS.Optimizer, ::Int64)\nClosest candidates are:\n  load_variables(!Matched::Union{AbstractModelLike{T}, AbstractOptimizer{T}} where T, ::Any) at C:\\Users\\Pika\\.julia\\packages\\MathOptInterface\\k7UUH\\src\\Utilities\\model.jl:719\n  load_variables(!Matched::MathOptInterface.Utilities.MockOptimizer, ::Any) at C:\\Users\\Pika\\.julia\\packages\\MathOptInterface\\k7UUH\\src\\Utilities\\mockoptimizer.jl:562",
     "output_type": "error",
     "traceback": [
      "MethodError: no method matching load_variables(::SCS.Optimizer, ::Int64)\nClosest candidates are:\n  load_variables(!Matched::Union{AbstractModelLike{T}, AbstractOptimizer{T}} where T, ::Any) at C:\\Users\\Pika\\.julia\\packages\\MathOptInterface\\k7UUH\\src\\Utilities\\model.jl:719\n  load_variables(!Matched::MathOptInterface.Utilities.MockOptimizer, ::Any) at C:\\Users\\Pika\\.julia\\packages\\MathOptInterface\\k7UUH\\src\\Utilities\\mockoptimizer.jl:562",
      "",
      "Stacktrace:",
      " [1] backward_conic!(::Optimizer{MathOptInterface.Bridges.LazyBridgeOptimizer{MathOptInterface.Utilities.CachingOptimizer{SCS.Optimizer,MathOptInterface.Utilities.UniversalFallback{MathOptInterface.Utilities.Model{Float64}}}}}, ::Array{Float64,2}, ::Array{Float64,1}, ::Array{Float64,1}) at C:\\Users\\Pika\\.julia\\packages\\DiffOpt\\Hm6Ld\\src\\MOI_wrapper.jl:546",
      " [2] top-level scope at In[255]:9"
     ]
    }
   ],
   "source": [
    "x = model.primal_optimal\n",
    "s = MOI.get(model, MOI.ConstraintPrimal(), model.con_idx)\n",
    "y = model.dual_optimal;\n",
    "\n",
    "dA = zeros(nobs+nfeat+1, nobs+nfeat+1+1)\n",
    "db = zeros(2*(nobs+nfeat+1) + 1)\n",
    "# db[nobs+1] = 1.0   # only weighing the penalty constraint i.e. √penalty = t \n",
    "dc = zeros(nobs+nfeat+1+1) # 1 for `b` and 1 for extra var `t`\n",
    "\n",
    "dx, dy, ds = backward_conic!(model, dA, db, dc)"
   ]
  },
  {
   "cell_type": "code",
   "execution_count": null,
   "metadata": {},
   "outputs": [],
   "source": []
  }
 ],
 "metadata": {
  "kernelspec": {
   "display_name": "Julia 1.0.5",
   "language": "julia",
   "name": "julia-1.0"
  },
  "language_info": {
   "file_extension": ".jl",
   "mimetype": "application/julia",
   "name": "julia",
   "version": "1.0.5"
  }
 },
 "nbformat": 4,
 "nbformat_minor": 4
}
