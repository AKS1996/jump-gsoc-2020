{
 "cells": [
  {
   "cell_type": "markdown",
   "metadata": {},
   "source": [
    "## solving QP primal"
   ]
  },
  {
   "cell_type": "code",
   "execution_count": null,
   "metadata": {},
   "outputs": [],
   "source": [
    "using Random\n",
    "using MathOptInterface\n",
    "using Dualization\n",
    "using OSQP\n",
    "using LinearAlgebra\n",
    "\n",
    "const MOI = MathOptInterface\n",
    "const MOIU = MathOptInterface.Utilities;"
   ]
  },
  {
   "cell_type": "code",
   "execution_count": null,
   "metadata": {},
   "outputs": [],
   "source": [
    "n = 2 # variable dimension\n",
    "m = 6; # no of inequality constraints"
   ]
  },
  {
   "cell_type": "code",
   "execution_count": null,
   "metadata": {},
   "outputs": [],
   "source": [
    "# using example on https://osqp.org/docs/examples/setup-and-solve.html\n",
    "Q = [4. 1.;1. 2.]\n",
    "q = [1.; 1.]\n",
    "G = [1. 1.;\n",
    "    1. 0.;\n",
    "    0. 1.;\n",
    "    -1. -1.;\n",
    "    -1. 0.;\n",
    "    0. -1.]\n",
    "h = [1.;\n",
    "    0.7;\n",
    "    0.7; \n",
    "    -1.;\n",
    "    0.;\n",
    "    0.];"
   ]
  },
  {
   "cell_type": "code",
   "execution_count": null,
   "metadata": {},
   "outputs": [],
   "source": [
    "model = MOI.instantiate(OSQP.Optimizer, with_bridge_type=Float64)\n",
    "x = MOI.add_variables(model, n);"
   ]
  },
  {
   "cell_type": "code",
   "execution_count": null,
   "metadata": {},
   "outputs": [],
   "source": [
    "# define objective\n",
    "\n",
    "quad_terms = MOI.ScalarQuadraticTerm{Float64}[]\n",
    "for i in 1:n\n",
    "    for j in i:n # indexes (i,j), (j,i) will be mirrored. specify only one kind\n",
    "        push!(quad_terms, MOI.ScalarQuadraticTerm(Q[i,j],x[i],x[j]))\n",
    "    end\n",
    "end\n",
    "\n",
    "objective_function = MOI.ScalarQuadraticFunction(MOI.ScalarAffineTerm.(q, x),quad_terms,0.)\n",
    "MOI.set(model, MOI.ObjectiveFunction{MOI.ScalarQuadraticFunction{Float64}}(), objective_function)\n",
    "MOI.set(model, MOI.ObjectiveSense(), MOI.MIN_SENSE)"
   ]
  },
  {
   "cell_type": "code",
   "execution_count": null,
   "metadata": {},
   "outputs": [],
   "source": [
    "# maintain constrain to index map - will be useful later\n",
    "constraint_map = Dict()\n",
    "\n",
    "# add constraints\n",
    "for i in 1:m\n",
    "    ci = MOI.add_constraint(model,MOI.ScalarAffineFunction(MOI.ScalarAffineTerm.(G[i,:], x), 0.),MOI.LessThan(h[i]))\n",
    "    constraint_map[ci] = i\n",
    "end"
   ]
  },
  {
   "cell_type": "code",
   "execution_count": null,
   "metadata": {
    "scrolled": false
   },
   "outputs": [],
   "source": [
    "MOI.optimize!(model)"
   ]
  },
  {
   "cell_type": "code",
   "execution_count": null,
   "metadata": {},
   "outputs": [],
   "source": [
    "@assert MOI.get(model, MOI.TerminationStatus()) in [MOI.LOCALLY_SOLVED, MOI.OPTIMAL]"
   ]
  },
  {
   "cell_type": "code",
   "execution_count": null,
   "metadata": {},
   "outputs": [],
   "source": [
    "x̄ = MOI.get(model, MOI.VariablePrimal(), x);"
   ]
  },
  {
   "cell_type": "code",
   "execution_count": null,
   "metadata": {},
   "outputs": [],
   "source": [
    "# objective value (predicted vs actual) sanity check\n",
    "@assert norm(x̄ - [0.3; 0.7]) < 1e-3"
   ]
  },
  {
   "cell_type": "markdown",
   "metadata": {},
   "source": [
    "## find and solve dual problem \n",
    "\n",
    "ideally the primal, dual of QP are as follows\n",
    "\n",
    "| primal | dual |\n",
    "|--------|------|\n",
    "$$\\text{min } \\frac{1}{2}x^TQx + q^Tx$$  | $$\\text{max } -\\frac{1}{2}y^TQ^{-1}y - u^Th$$\n",
    "$$\\text{s.t.  }Gx <= h$$ | $$\\text{s.t.  } u \\geq 0, u \\in R^m$$\n",
    "    $$ $$ |    $$y = q + G^Tu$$\n",
    "  \n",
    "- Each primal variable becomes a dual constraint\n",
    "- Each primal constraint becomes a dual variable\n",
    "\n",
    "But refer https://www.juliaopt.org/Dualization.jl/dev/manual/, it involves inverse/psuedoinverse matrices (Q^-1). \n",
    "To avoid that `Dualization.jl` introduces a slack variable `w`. Put `y = Qw`, hence we have\n",
    "\n",
    "| primal | dual |\n",
    "|--------|------|\n",
    "$$\\text{min } \\frac{1}{2}x^TQx + q^Tx$$  | $$\\text{max } -\\frac{1}{2}w^T Q w - u^Th$$\n",
    "$$\\text{s.t.  }Gx <= h$$ | $$\\text{s.t.  } u \\geq 0, u \\in R^m$$\n",
    "   $$ $$  |    $$Qw = q + G^Tu$$"
   ]
  },
  {
   "cell_type": "code",
   "execution_count": null,
   "metadata": {},
   "outputs": [],
   "source": [
    "joint_object    = dualize(model)\n",
    "dual_model_like = joint_object.dual_model # this is MOI.ModelLike, not an MOI.AbstractOptimizer; can't call optimizer on it\n",
    "primal_dual_map = joint_object.primal_dual_map;"
   ]
  },
  {
   "cell_type": "code",
   "execution_count": null,
   "metadata": {},
   "outputs": [],
   "source": [
    "# copy the dual model objective, constraints, and variables to an optimizer\n",
    "dual_model = MOI.instantiate(OSQP.Optimizer, with_bridge_type=Float64)\n",
    "MOI.copy_to(dual_model, dual_model_like)\n",
    "\n",
    "# solve dual\n",
    "MOI.optimize!(dual_model);"
   ]
  },
  {
   "cell_type": "code",
   "execution_count": null,
   "metadata": {},
   "outputs": [],
   "source": [
    "# check if strong duality holds\n",
    "@assert abs(MOI.get(model, MOI.ObjectiveValue()) - MOI.get(dual_model, MOI.ObjectiveValue())) <= 1e-3"
   ]
  },
  {
   "cell_type": "markdown",
   "metadata": {},
   "source": [
    "## derive and verify KKT conditions"
   ]
  },
  {
   "cell_type": "code",
   "execution_count": null,
   "metadata": {},
   "outputs": [],
   "source": [
    "is_equality(set::S) where {S<:MOI.AbstractSet} = false\n",
    "is_equality(set::MOI.EqualTo{T}) where T = true\n",
    "\n",
    "map = primal_dual_map.primal_con_dual_var;"
   ]
  },
  {
   "cell_type": "markdown",
   "metadata": {},
   "source": [
    "**complimentary slackness**: $$\\mu_{i}(G\\bar x -h)_i=0 \\qquad \\text{ where } i=1..m$$"
   ]
  },
  {
   "cell_type": "markdown",
   "metadata": {},
   "source": [
    "**dual feasibility**\n",
    "$$ \\mu_i \\leq 0$$"
   ]
  },
  {
   "cell_type": "code",
   "execution_count": null,
   "metadata": {},
   "outputs": [],
   "source": [
    "for con_index in keys(map)\n",
    "    μ = MOI.get(dual_model, MOI.VariablePrimal(), map[con_index][1])\n",
    "    i = constraint_map[con_index]\n",
    "    \n",
    "    # (Gx - h)[i] = 0\n",
    "    @assert G[i,:]'*x̄ - h[i] < 1e-3\n",
    "\n",
    "    # μ[i] <= 0\n",
    "    @assert μ <= 1e-3\n",
    "end"
   ]
  },
  {
   "cell_type": "markdown",
   "metadata": {},
   "source": [
    "**checking stationarity**\n",
    "$$ Qx + q = A\\mu$$"
   ]
  },
  {
   "cell_type": "code",
   "execution_count": null,
   "metadata": {},
   "outputs": [],
   "source": [
    "for i in 1:n\n",
    "    G_sum = 0\n",
    "    \n",
    "    for con_index in keys(map)\n",
    "        μ = MOI.get(dual_model, MOI.VariablePrimal(), map[con_index][1])\n",
    "        j = constraint_map[con_index]\n",
    "        G_sum += μ*G[j,i]\n",
    "    end\n",
    "    \n",
    "    @assert abs(G_sum - (Q*x̄ + q)[i]) < 1e-2\n",
    "end"
   ]
  },
  {
   "cell_type": "code",
   "execution_count": null,
   "metadata": {},
   "outputs": [],
   "source": []
  }
 ],
 "metadata": {
  "kernelspec": {
   "display_name": "Julia 1.0.5",
   "language": "julia",
   "name": "julia-1.0"
  },
  "language_info": {
   "file_extension": ".jl",
   "mimetype": "application/julia",
   "name": "julia",
   "version": "1.0.5"
  }
 },
 "nbformat": 4,
 "nbformat_minor": 2
}
