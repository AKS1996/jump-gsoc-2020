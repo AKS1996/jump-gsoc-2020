{
 "cells": [
  {
   "cell_type": "code",
   "execution_count": 5,
   "metadata": {},
   "outputs": [],
   "source": [
    "using MathOptInterface\n",
    "using Ipopt\n",
    "using Test\n",
    "using LinearAlgebra\n",
    "using DiffOpt\n",
    "\n",
    "const MOI = MathOptInterface\n",
    "const MOIU = MathOptInterface.Utilities;"
   ]
  },
  {
   "cell_type": "code",
   "execution_count": 6,
   "metadata": {},
   "outputs": [],
   "source": [
    "# non-homogeneous quadratic objective\n",
    "#    minimize 2 x^2 + y^2 + xy + x + y\n",
    "#       s.t.  x, y >= 0\n",
    "#             x + y = 1\n",
    "\n",
    "model = MOI.instantiate(Ipopt.Optimizer, with_bridge_type=Float64)\n",
    "x = MOI.add_variable(model)\n",
    "y = MOI.add_variable(model)\n",
    "\n",
    "c1 = MOI.add_constraint(\n",
    "    model,\n",
    "    MOI.ScalarAffineFunction(MOI.ScalarAffineTerm.([1.0,1.0], [x,y]), 0.0),\n",
    "    MOI.EqualTo(1.0)\n",
    ")\n",
    "\n",
    "vc1 = MOI.add_constraint(\n",
    "    model, \n",
    "    MOI.ScalarAffineFunction(MOI.ScalarAffineTerm.([-1.0,0.0], [x,y]), 0.0), \n",
    "    MOI.LessThan(0.0)\n",
    ")\n",
    "@test vc1.value == x.value\n",
    "\n",
    "vc2 = MOI.add_constraint(\n",
    "    model,\n",
    "    MOI.ScalarAffineFunction(MOI.ScalarAffineTerm.([0.0,-1.0], [x,y]), 0.0), \n",
    "    MOI.LessThan(0.0)\n",
    ")\n",
    "@test vc2.value == y.value\n",
    "\n",
    "\n",
    "MOI.set(model, MOI.ObjectiveSense(), MOI.MIN_SENSE)\n",
    "obj = MOI.ScalarQuadraticFunction(\n",
    "    MOI.ScalarAffineTerm.([1.0, 1.0], [x, y]),\n",
    "    MOI.ScalarQuadraticTerm.([4.0, 2.0, 1.0], [x, y, x], [x, y, y]),\n",
    "    0.0\n",
    ")\n",
    "MOI.set(model, MOI.ObjectiveFunction{MOI.ScalarQuadraticFunction{Float64}}(), obj)"
   ]
  },
  {
   "cell_type": "code",
   "execution_count": 7,
   "metadata": {},
   "outputs": [
    {
     "data": {
      "text/plain": [
       "#1 (generic function with 1 method)"
      ]
     },
     "execution_count": 7,
     "metadata": {},
     "output_type": "execute_result"
    }
   ],
   "source": [
    "dm = diff_model(model)"
   ]
  },
  {
   "cell_type": "code",
   "execution_count": 8,
   "metadata": {},
   "outputs": [
    {
     "name": "stdout",
     "output_type": "stream",
     "text": [
      "This is Ipopt version 3.13.2, running with linear solver mumps.\n",
      "NOTE: Other linear solvers might be more efficient (see Ipopt documentation).\n",
      "\n",
      "Number of nonzeros in equality constraint Jacobian...:        2\n",
      "Number of nonzeros in inequality constraint Jacobian.:        4\n",
      "Number of nonzeros in Lagrangian Hessian.............:        3\n",
      "\n",
      "Total number of variables............................:        2\n",
      "                     variables with only lower bounds:        0\n",
      "                variables with lower and upper bounds:        0\n",
      "                     variables with only upper bounds:        0\n",
      "Total number of equality constraints.................:        1\n",
      "Total number of inequality constraints...............:        2\n",
      "        inequality constraints with only lower bounds:        0\n",
      "   inequality constraints with lower and upper bounds:        0\n",
      "        inequality constraints with only upper bounds:        2\n",
      "\n",
      "iter    objective    inf_pr   inf_du lg(mu)  ||d||  lg(rg) alpha_du alpha_pr  ls\n",
      "   0  0.0000000e+00 1.00e+00 0.00e+00  -1.0 0.00e+00    -  0.00e+00 0.00e+00   0\n",
      "   1  1.9951461e+00 0.00e+00 4.75e+01  -1.7 5.05e-01    -  2.04e-02 1.00e+00h  1\n",
      "   2  1.8750505e+00 0.00e+00 2.00e-07  -1.7 2.40e-01    -  1.00e+00 1.00e+00f  1\n",
      "   3  1.8750003e+00 0.00e+00 3.01e-05  -3.8 4.62e-03    -  9.99e-01 1.00e+00f  1\n",
      "   4  1.8750000e+00 0.00e+00 1.84e-11  -5.7 3.98e-04    -  1.00e+00 1.00e+00f  1\n",
      "   5  1.8750000e+00 0.00e+00 2.51e-14  -8.6 1.87e-06    -  1.00e+00 1.00e+00f  1\n",
      "\n",
      "Number of Iterations....: 5\n",
      "\n",
      "                                   (scaled)                 (unscaled)\n",
      "Objective...............:   1.8750000000000002e+00    1.8750000000000002e+00\n",
      "Dual infeasibility......:   2.5059036063649481e-14    2.5059036063649481e-14\n",
      "Constraint violation....:   0.0000000000000000e+00    0.0000000000000000e+00\n",
      "Complementarity.........:   2.5244521200366932e-09    2.5244521200366932e-09\n",
      "Overall NLP error.......:   2.5244521200366932e-09    2.5244521200366932e-09\n",
      "\n",
      "\n",
      "Number of objective function evaluations             = 6\n",
      "Number of objective gradient evaluations             = 6\n",
      "Number of equality constraint evaluations            = 6\n",
      "Number of inequality constraint evaluations          = 6\n",
      "Number of equality constraint Jacobian evaluations   = 1\n",
      "Number of inequality constraint Jacobian evaluations = 1\n",
      "Number of Lagrangian Hessian evaluations             = 1\n",
      "Total CPU secs in IPOPT (w/o function evaluations)   =      0.006\n",
      "Total CPU secs in NLP function evaluations           =      0.000\n",
      "\n",
      "EXIT: Optimal Solution Found.\n"
     ]
    },
    {
     "data": {
      "text/plain": [
       "([0.25, 0.75], [-1.00978e-8, -3.33506e-9], [2.75])"
      ]
     },
     "execution_count": 8,
     "metadata": {},
     "output_type": "execute_result"
    }
   ],
   "source": [
    "z, λ, ν = dm.forward()"
   ]
  },
  {
   "cell_type": "code",
   "execution_count": 9,
   "metadata": {},
   "outputs": [
    {
     "data": {
      "text/plain": [
       "\u001b[32m\u001b[1mTest Passed\u001b[22m\u001b[39m"
      ]
     },
     "execution_count": 9,
     "metadata": {},
     "output_type": "execute_result"
    }
   ],
   "source": [
    "atol=1e-4 \n",
    "rtol=1e-4\n",
    "\n",
    "@test z ≈ [0.25, 0.75] atol=atol rtol=rtol\n",
    "@test λ ≈ [0.0, 0.0]   atol=atol rtol=rtol\n",
    "@test ν ≈ [11/4]       atol=atol rtol=rtol"
   ]
  },
  {
   "cell_type": "code",
   "execution_count": 10,
   "metadata": {},
   "outputs": [
    {
     "data": {
      "text/plain": [
       "1-element Array{Float64,1}:\n",
       " 1.0"
      ]
     },
     "execution_count": 10,
     "metadata": {},
     "output_type": "execute_result"
    }
   ],
   "source": [
    "nz = 2\n",
    "nineq = 2\n",
    "neq = 1\n",
    "\n",
    "Q = [4. 1.; 1. 2.]\n",
    "q = [1.; 1.]\n",
    "G = [-1. 0.0; 0.0 -1.0]\n",
    "h = [0.0; 0.0]\n",
    "A = [1.0 1.0;]\n",
    "b = [1.0]"
   ]
  },
  {
   "cell_type": "code",
   "execution_count": 11,
   "metadata": {},
   "outputs": [
    {
     "data": {
      "text/plain": [
       "5×5 Array{Float64,2}:\n",
       "  4.0   1.0   1.00978e-8  -0.0         1.0\n",
       "  1.0   2.0  -0.0          3.33506e-9  1.0\n",
       " -1.0   0.0  -0.25         0.0         0.0\n",
       "  0.0  -1.0   0.0         -0.75        0.0\n",
       "  1.0   1.0   0.0          0.0         0.0"
      ]
     },
     "execution_count": 11,
     "metadata": {},
     "output_type": "execute_result"
    }
   ],
   "source": [
    "# lhs = DiffOpt.create_LHS_matrix(z, λ, Q, G, h)\n",
    "lhs = [Q    G'*Diagonal(λ)         A';\n",
    "       G    Diagonal((G * z) - h)  zeros(nineq, neq);\n",
    "       A    zeros(neq, nineq)      zeros(neq, neq)]"
   ]
  },
  {
   "cell_type": "code",
   "execution_count": 12,
   "metadata": {},
   "outputs": [
    {
     "data": {
      "text/plain": [
       "5×1 Array{Float64,2}:\n",
       " 1.3\n",
       " 0.5\n",
       " 0.0\n",
       " 0.0\n",
       " 0.0"
      ]
     },
     "execution_count": 12,
     "metadata": {},
     "output_type": "execute_result"
    }
   ],
   "source": [
    "rhs = [[1.3; 0.5];\n",
    "        zeros(neq+nineq,1)]"
   ]
  },
  {
   "cell_type": "code",
   "execution_count": 13,
   "metadata": {},
   "outputs": [
    {
     "data": {
      "text/plain": [
       "5×1 Array{Float64,2}:\n",
       " -0.2000000022418942 \n",
       "  0.20000000224189418\n",
       "  0.8000000035574014 \n",
       " -0.2666666702569895 \n",
       " -0.7000000013525438 "
      ]
     },
     "execution_count": 13,
     "metadata": {},
     "output_type": "execute_result"
    }
   ],
   "source": [
    "sol = -(lhs \\ rhs)"
   ]
  },
  {
   "cell_type": "code",
   "execution_count": 14,
   "metadata": {},
   "outputs": [
    {
     "data": {
      "text/plain": [
       "-0.7000000013525438"
      ]
     },
     "execution_count": 14,
     "metadata": {},
     "output_type": "execute_result"
    }
   ],
   "source": [
    "dz = sol[1:2]\n",
    "dλ = sol[3:4]\n",
    "dν = sol[5]"
   ]
  },
  {
   "cell_type": "code",
   "execution_count": 15,
   "metadata": {},
   "outputs": [
    {
     "data": {
      "text/plain": [
       "2×2 Array{Float64,2}:\n",
       " -0.05  -0.05\n",
       " -0.05   0.15"
      ]
     },
     "execution_count": 15,
     "metadata": {},
     "output_type": "execute_result"
    }
   ],
   "source": [
    "dl_dQ = 0.5*(dz*z' + z*dz')"
   ]
  },
  {
   "cell_type": "code",
   "execution_count": 16,
   "metadata": {},
   "outputs": [
    {
     "data": {
      "text/plain": [
       "2-element Array{Float64,1}:\n",
       " -0.2000000022418942 \n",
       "  0.20000000224189418"
      ]
     },
     "execution_count": 16,
     "metadata": {},
     "output_type": "execute_result"
    }
   ],
   "source": [
    "dl_dq = dz"
   ]
  },
  {
   "cell_type": "code",
   "execution_count": 17,
   "metadata": {},
   "outputs": [
    {
     "data": {
      "text/plain": [
       "2×2 Array{Float64,2}:\n",
       " -4.03911e-9   -4.03911e-9\n",
       " -4.44675e-10   1.33403e-9"
      ]
     },
     "execution_count": 17,
     "metadata": {},
     "output_type": "execute_result"
    }
   ],
   "source": [
    "dl_dG = Diagonal(λ)*dλ*z' - λ*dz' "
   ]
  },
  {
   "cell_type": "code",
   "execution_count": 18,
   "metadata": {},
   "outputs": [
    {
     "data": {
      "text/plain": [
       "2-element Array{Float64,1}:\n",
       "  8.078226395049665e-9 \n",
       " -8.893504039565539e-10"
      ]
     },
     "execution_count": 18,
     "metadata": {},
     "output_type": "execute_result"
    }
   ],
   "source": [
    "dl_dh = -Diagonal(λ) * dλ"
   ]
  },
  {
   "cell_type": "code",
   "execution_count": 19,
   "metadata": {},
   "outputs": [
    {
     "data": {
      "text/plain": [
       "1×2 Array{Float64,2}:\n",
       " 0.375  -1.075"
      ]
     },
     "execution_count": 19,
     "metadata": {},
     "output_type": "execute_result"
    }
   ],
   "source": [
    "dl_dA = dν*z' - ν*dz'"
   ]
  },
  {
   "cell_type": "code",
   "execution_count": 20,
   "metadata": {},
   "outputs": [
    {
     "data": {
      "text/plain": [
       "0.7000000013525438"
      ]
     },
     "execution_count": 20,
     "metadata": {},
     "output_type": "execute_result"
    }
   ],
   "source": [
    "dl_db = -dν"
   ]
  },
  {
   "cell_type": "code",
   "execution_count": null,
   "metadata": {},
   "outputs": [],
   "source": []
  }
 ],
 "metadata": {
  "kernelspec": {
   "display_name": "Julia 1.0.5",
   "language": "julia",
   "name": "julia-1.0"
  },
  "language_info": {
   "file_extension": ".jl",
   "mimetype": "application/julia",
   "name": "julia",
   "version": "1.0.5"
  }
 },
 "nbformat": 4,
 "nbformat_minor": 2
}
