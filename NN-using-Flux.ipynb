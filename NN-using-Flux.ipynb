{
 "cells": [
  {
   "cell_type": "code",
   "execution_count": 1,
   "metadata": {},
   "outputs": [
    {
     "name": "stderr",
     "output_type": "stream",
     "text": [
      "┌ Warning: CuArrays.jl found cuda, but did not find libcudnn. Some functionality will not be available.\n",
      "└ @ Flux /home/akshay/.julia/packages/Flux/NpkMm/src/Flux.jl:48\n"
     ]
    }
   ],
   "source": [
    "using JuMP\n",
    "using Flux\n",
    "using Flux: logitcrossentropy, normalise, onecold, onehotbatch, glorot_uniform, @functor\n",
    "using Statistics: mean\n",
    "using Zygote"
   ]
  },
  {
   "cell_type": "code",
   "execution_count": 8,
   "metadata": {},
   "outputs": [
    {
     "data": {
      "text/plain": [
       "accuracy (generic function with 1 method)"
      ]
     },
     "execution_count": 8,
     "metadata": {},
     "output_type": "execute_result"
    }
   ],
   "source": [
    "# Initialize hyperparameter arguments\n",
    "struct Args\n",
    "    lr::Float64\n",
    "    repeat::Int\n",
    "    \n",
    "    Args() = new(0.5, 110)\n",
    "end\n",
    "\n",
    "function get_processed_data(args)\n",
    "    labels = Flux.Data.Iris.labels()\n",
    "    features = Flux.Data.Iris.features()\n",
    "\n",
    "    # Subract mean, divide by std dev for normed mean of 0 and std dev of 1.\n",
    "    normed_features = normalise(features, dims=2)\n",
    "\n",
    "    klasses = sort(unique(labels))\n",
    "    onehot_labels = onehotbatch(labels, klasses)\n",
    "\n",
    "    # Split into training and test sets, 2/3 for training, 1/3 for test.\n",
    "    train_indices = [1:3:150 ; 2:3:150]\n",
    "\n",
    "    X_train = normed_features[:, train_indices]\n",
    "    y_train = onehot_labels[:, train_indices]\n",
    "\n",
    "    X_test = normed_features[:, 3:3:150]\n",
    "    y_test = onehot_labels[:, 3:3:150]\n",
    "\n",
    "    #repeat the data `args.repeat` times\n",
    "    train_data = Iterators.repeated((X_train, y_train), args.repeat)\n",
    "    test_data = (X_test,y_test)\n",
    "\n",
    "    return train_data, test_data\n",
    "end\n",
    "\n",
    "# Accuracy Function\n",
    "accuracy(x, y, model) = mean(onecold(model(x)) .== onecold(y))"
   ]
  },
  {
   "cell_type": "code",
   "execution_count": 20,
   "metadata": {},
   "outputs": [
    {
     "name": "stdout",
     "output_type": "stream",
     "text": [
      "Starting training.\n",
      "Accuracy: 0.94\n"
     ]
    }
   ],
   "source": [
    "function train()\n",
    "    args = Args()\n",
    "    \n",
    "    #Loading processed data\n",
    "    train_data, test_data = get_processed_data(args)\n",
    "\n",
    "    model = Chain(Dense(4, 3), QPLayer(3,3))\n",
    "\n",
    "#         # defining softmax as an optimization problem\n",
    "#         _x = cp.Parameter(3)\n",
    "#         _y = cp.Variable(3)\n",
    "#         obj = cp.Minimize(-_x.T*_y - cp.sum(cp.entr(_y)))\n",
    "#         cons = [np.ones(3, dtype=np.float32).T*_y == 1.]\n",
    "#         prob = cp.Problem(obj, cons)\n",
    "#         self.softmax = CvxpyLayer(prob, parameters=[_x], variables=[_y])\n",
    "\n",
    "    # Defining loss function to be used in training\n",
    "    # For numerical stability, we use here logitcrossentropy\n",
    "    loss(x, y) = logitcrossentropy(model(x), y)\n",
    "\n",
    "    # Training\n",
    "    # Gradient descent optimiser with learning rate `args.lr`\n",
    "    optimiser = Descent(args.lr)\n",
    "\n",
    "    println(\"Starting training.\")\n",
    "    Flux.train!(loss, params(model), train_data, optimiser)\n",
    "\n",
    "    return model, test_data\n",
    "end\n",
    "\n",
    "function test(model, test)\n",
    "    # Testing model performance on test data \n",
    "    X_test, y_test = test\n",
    "    accuracy_score = accuracy(X_test, y_test, model)\n",
    "\n",
    "    println(\"Accuracy: $accuracy_score\")\n",
    "end\n",
    "\n",
    "model, test_data = train()\n",
    "test(model, test_data)"
   ]
  },
  {
   "cell_type": "code",
   "execution_count": 12,
   "metadata": {},
   "outputs": [
    {
     "data": {
      "text/plain": [
       "QPLayer"
      ]
     },
     "execution_count": 12,
     "metadata": {},
     "output_type": "execute_result"
    }
   ],
   "source": [
    "struct QPLayer\n",
    "    W::Array{Float64}\n",
    "    b::Array{Float64}\n",
    "end\n",
    "\n",
    "function QPLayer(in::Integer, out::Integer)\n",
    "  return QPLayer(glorot_uniform(out, in), zeros(out))\n",
    "end"
   ]
  },
  {
   "cell_type": "code",
   "execution_count": 3,
   "metadata": {},
   "outputs": [],
   "source": [
    "# turn it into a callable\n",
    "@functor QPLayer\n",
    "\n",
    "function (a::QPLayer)(x::AbstractArray)\n",
    "    W, b = a.W, a.b\n",
    "    (W*x .+ b)\n",
    "end"
   ]
  },
  {
   "cell_type": "code",
   "execution_count": 17,
   "metadata": {},
   "outputs": [],
   "source": [
    "Zygote.@adjoint QPLayer(a, b) = QPLayer(a, b), qp -> throw(Error(qp.W, qp.b))"
   ]
  },
  {
   "cell_type": "code",
   "execution_count": 18,
   "metadata": {},
   "outputs": [
    {
     "data": {
      "text/plain": [
       "(QPLayer([-0.69671 -0.737907; 0.463331 0.425518; 0.782222 0.35619], [0.0, 0.0, 0.0]), getfield(Zygote, Symbol(\"##38#39\")){getfield(Main, Symbol(\"##101#back#20\")){getfield(Main, Symbol(\"##18#19\"))}}(getfield(Main, Symbol(\"##101#back#20\")){getfield(Main, Symbol(\"##18#19\"))}(getfield(Main, Symbol(\"##18#19\"))())))"
      ]
     },
     "execution_count": 18,
     "metadata": {},
     "output_type": "execute_result"
    }
   ],
   "source": [
    "val, back = Zygote.pullback(QPLayer,2,3)"
   ]
  },
  {
   "cell_type": "code",
   "execution_count": 19,
   "metadata": {},
   "outputs": [
    {
     "ename": "UndefVarError",
     "evalue": "UndefVarError: Error not defined",
     "output_type": "error",
     "traceback": [
      "UndefVarError: Error not defined",
      "",
      "Stacktrace:",
      " [1] (::getfield(Main, Symbol(\"##18#19\")))(::QPLayer) at ./In[17]:1",
      " [2] (::getfield(Main, Symbol(\"##101#back#20\")){getfield(Main, Symbol(\"##18#19\"))})(::QPLayer) at /home/akshay/.julia/packages/ZygoteRules/6nssF/src/adjoint.jl:49",
      " [3] (::getfield(Zygote, Symbol(\"##38#39\")){getfield(Main, Symbol(\"##101#back#20\")){getfield(Main, Symbol(\"##18#19\"))}})(::QPLayer) at /home/akshay/.julia/packages/Zygote/YeCEW/src/compiler/interface.jl:46",
      " [4] top-level scope at In[19]:1"
     ]
    }
   ],
   "source": [
    "back(QPLayer(3,2))"
   ]
  },
  {
   "cell_type": "code",
   "execution_count": 48,
   "metadata": {},
   "outputs": [],
   "source": [
    "Zygote.refresh()"
   ]
  },
  {
   "cell_type": "code",
   "execution_count": null,
   "metadata": {},
   "outputs": [],
   "source": []
  }
 ],
 "metadata": {
  "kernelspec": {
   "display_name": "Julia 1.0.5",
   "language": "julia",
   "name": "julia-1.0"
  },
  "language_info": {
   "file_extension": ".jl",
   "mimetype": "application/julia",
   "name": "julia",
   "version": "1.0.5"
  }
 },
 "nbformat": 4,
 "nbformat_minor": 2
}
