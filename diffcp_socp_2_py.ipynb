{
 "cells": [
  {
   "cell_type": "code",
   "execution_count": null,
   "metadata": {},
   "outputs": [],
   "source": [
    "import numpy as np\n",
    "import cvxpy as cp\n",
    "from scipy import sparse\n",
    "import diffcp"
   ]
  },
  {
   "cell_type": "code",
   "execution_count": null,
   "metadata": {},
   "outputs": [],
   "source": [
    "A = sparse.csc_matrix((5,4), dtype=np.float64)\n",
    "A[2, 0]  =  -1.0\n",
    "A[0, 1]  =  1.0\n",
    "A[1, 1]  =  -1.0\n",
    "A[0, 2]  =  -1.0\n",
    "A[3, 2]  =  -1.41421\n",
    "A[4, 3]  =  -1.0"
   ]
  },
  {
   "cell_type": "code",
   "execution_count": null,
   "metadata": {
    "scrolled": false
   },
   "outputs": [],
   "source": [
    "# equivalent to https://github.com/jump-dev/MathOptInterface.jl/blob/master/src/Test/contconic.jl#L2417\n",
    "\n",
    "cone_dict = {\n",
    "    diffcp.PSD: [2],\n",
    "    diffcp.ZERO: 2\n",
    "}\n",
    "\n",
    "b = np.array([0.0, -1.0, 0.0, 0.0, 0.0])\n",
    "c = np.array([1.0, 0.0, 0.0, 1.0])\n",
    "\n",
    "x, y, s, D, DT = diffcp.solve_and_derivative(A, b, c, cone_dict)\n",
    "print(x) # MOI.VariablePrimal\n",
    "print(s) # MOI.ConstraintPrimal\n",
    "print(y) # MOI.ConstraintDual\n",
    "\n",
    "\n",
    "dx, dy, ds = D(sparse.csc_matrix(np.eye(5,4)), np.ones(5), np.ones(4))\n",
    "print(dx)\n",
    "print(ds)\n",
    "print(dy)"
   ]
  },
  {
   "cell_type": "code",
   "execution_count": null,
   "metadata": {},
   "outputs": [],
   "source": []
  }
 ],
 "metadata": {
  "kernelspec": {
   "display_name": "Python 3.6.9 64-bit ('procol': venv)",
   "language": "python",
   "name": "python36964bitprocolvenv3d5a78e847ac487da652a96deb972468"
  },
  "language_info": {
   "codemirror_mode": {
    "name": "ipython",
    "version": 3
   },
   "file_extension": ".py",
   "mimetype": "text/x-python",
   "name": "python",
   "nbconvert_exporter": "python",
   "pygments_lexer": "ipython3",
   "version": "3.6.9"
  }
 },
 "nbformat": 4,
 "nbformat_minor": 2
}
