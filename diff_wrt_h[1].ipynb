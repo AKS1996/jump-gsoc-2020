{
 "cells": [
  {
   "cell_type": "markdown",
   "metadata": {},
   "source": [
    "# differentiating a QP wrt a single variable\n",
    "\n",
    "consider the QP\n",
    "\n",
    "| minimize | $$ \\frac{1}{2} x^T Q x + q^T x$$ |\n",
    "| -------- | -------------------------------- |\n",
    "| s.t.     | $$ G x \\leq h, x \\in R^2, h \\in R$$ |\n",
    "\n",
    "where `Q`, `q`, `G` are fixed and `h` is the single parameter.\n",
    "\n",
    "here i've tried to differentiate the QP wrt `h` and compared the Julia result (can be solved by hand even!) with\n",
    "- https://github.com/cvxgrp/cvxpylayers#tensorflow-2\n",
    "- eqn (6) of https://arxiv.org/pdf/1703.00443.pdf \n",
    "\n",
    "Assuming \n",
    "```\n",
    "Q = [[4, 1], [1, 2]]\n",
    "q = [1, 1]\n",
    "G = [1, 1]\n",
    "```\n",
    "and begining with a starting value of `h=-1`"
   ]
  },
  {
   "cell_type": "markdown",
   "metadata": {},
   "source": [
    "few values just for reference\n",
    "\n",
    "| variable | optimal value | note |\n",
    "| -- | ---- | --- |\n",
    "| x* | [-0.25; -0.75] | primal optimal | \n",
    "| 𝜆∗ | -0.75 | dual optimal | \n"
   ]
  },
  {
   "cell_type": "markdown",
   "metadata": {},
   "source": [
    "## 1) solving it in cvxlayers"
   ]
  },
  {
   "cell_type": "code",
   "execution_count": null,
   "metadata": {},
   "outputs": [],
   "source": [
    "import cvxpy as cp\n",
    "import tensorflow as tf\n",
    "from cvxpylayers.tensorflow import CvxpyLayer\n",
    "\n",
    "n, m = 2, 1\n",
    "x = cp.Variable(n)\n",
    "Q = np.array([[4, 1], [1, 2]])\n",
    "q = np.array([1, 1])\n",
    "G = np.array([1, 1])\n",
    "h = cp.Parameter(m)\n",
    "constraints = [G@x <= h]\n",
    "objective = cp.Minimize(0.5*cp.quad_form(x, Q) + q.T @ x)\n",
    "problem = cp.Problem(objective, constraints)\n",
    "assert problem.is_dpp()\n",
    "\n",
    "cvxpylayer = CvxpyLayer(problem, parameters=[h], variables=[x])\n",
    "h_tf = tf.Variable([-1.0])  # set a starting value\n",
    "\n",
    "with tf.GradientTape() as tape:\n",
    "  # solve the problem, setting the values of h to h_tf\n",
    "  solution, = cvxpylayer(h_tf)\n",
    "\n",
    "  summed_solution = tf.math.reduce_sum(solution)\n",
    "  \n",
    "# note - solution is [-0.25, -0.75]\n",
    "#        summed_solution is (-0.25) + (-0.75)\n",
    "\n",
    "# cvxpylayers allows gradient of the summed solution only, with respect to h\n",
    "gradh = tape.gradient(summed_solution, [h_tf])"
   ]
  },
  {
   "cell_type": "markdown",
   "metadata": {},
   "source": [
    "## 2) deriving result using matrix inversion\n",
    "refer eqn (6) of https://arxiv.org/pdf/1703.00443.pdf"
   ]
  },
  {
   "cell_type": "markdown",
   "metadata": {},
   "source": [
    "if we assume `h` as the only parameter and `Q`,`q`,`G` as fixed problem data - also note that our QP doesn't involves `Ax=b` constraint - then eqn (6) reduces to \n",
    "$$ \n",
    "\\begin{gather}\n",
    " \\begin{bmatrix} \n",
    "     Q & g^T \\\\\n",
    "     \\lambda^* g & g z^* - h\n",
    " \\end{bmatrix}\n",
    " \\begin{bmatrix} \n",
    "     dz \\\\\n",
    "     d \\lambda\n",
    " \\end{bmatrix}\n",
    " =\n",
    "  \\begin{bmatrix}\n",
    "   0 \\\\\n",
    "   \\lambda^* dh\n",
    "   \\end{bmatrix}\n",
    "\\end{gather}\n",
    "$$\n",
    "\n",
    "now to find the jacobians $$ \\frac{\\partial z}{\\partial h}, \\frac{\\partial \\lambda}{\\partial h}$$\n",
    "we substitute `dh = I = [1]` (and plug in other values) to get\n",
    "$$ \n",
    "\\begin{gather}\n",
    " \\begin{bmatrix} \n",
    "     4 & 1 & 1 \\\\\n",
    "     1 & 2 & 1 \\\\\n",
    "     -0.75 & -0.75 & 0\n",
    " \\end{bmatrix}\n",
    " \\begin{bmatrix} \n",
    "     \\frac{\\partial z_1}{\\partial h} \\\\\n",
    "     \\frac{\\partial z_2}{\\partial h} \\\\\n",
    "     \\frac{\\partial \\lambda}{\\partial h}\n",
    " \\end{bmatrix}\n",
    " =\n",
    "  \\begin{bmatrix}\n",
    "   0 \\\\\n",
    "   0 \\\\\n",
    "   -0.75\n",
    "   \\end{bmatrix}\n",
    "\\end{gather}\n",
    "$$\n",
    "\n",
    "the solution is\n",
    "$$ \\frac{\\partial z_1}{\\partial h} = 0.25, \\frac{\\partial z_2}{\\partial h} = 0.75, \\frac{\\partial \\lambda}{\\partial h} = -1.75 $$"
   ]
  },
  {
   "cell_type": "markdown",
   "metadata": {},
   "source": [
    "## 3) solving using MOI, Dualization.jl, LinearAlgebra"
   ]
  },
  {
   "cell_type": "code",
   "execution_count": 21,
   "metadata": {},
   "outputs": [],
   "source": [
    "using Random\n",
    "using MathOptInterface\n",
    "using Dualization\n",
    "using OSQP\n",
    "using LinearAlgebra\n",
    "\n",
    "const MOI = MathOptInterface\n",
    "const MOIU = MathOptInterface.Utilities;\n",
    "\n",
    "n = 2 # variable dimension\n",
    "m = 1; # no of inequality constraints\n",
    "\n",
    "Q = [4. 1.;1. 2.]\n",
    "q = [1.; 1.]\n",
    "G = [1. 1.;]\n",
    "h = [-1.;]   # initial values set\n",
    "\n",
    "\n",
    "# create the optimizer\n",
    "model = MOI.instantiate(OSQP.Optimizer, with_bridge_type=Float64)\n",
    "x = MOI.add_variables(model, n);"
   ]
  },
  {
   "cell_type": "code",
   "execution_count": 25,
   "metadata": {},
   "outputs": [],
   "source": [
    "# define objective\n",
    "\n",
    "quad_terms = MOI.ScalarQuadraticTerm{Float64}[]\n",
    "for i in 1:n\n",
    "    for j in i:n # indexes (i,j), (j,i) will be mirrored. specify only one kind\n",
    "        push!(quad_terms, MOI.ScalarQuadraticTerm(Q[i,j],x[i],x[j]))\n",
    "    end\n",
    "end\n",
    "\n",
    "objective_function = MOI.ScalarQuadraticFunction(MOI.ScalarAffineTerm.(q, x),quad_terms,0.)\n",
    "MOI.set(model, MOI.ObjectiveFunction{MOI.ScalarQuadraticFunction{Float64}}(), objective_function)\n",
    "MOI.set(model, MOI.ObjectiveSense(), MOI.MIN_SENSE)"
   ]
  },
  {
   "cell_type": "code",
   "execution_count": 26,
   "metadata": {},
   "outputs": [],
   "source": [
    "# add constraint\n",
    "MOI.add_constraint(\n",
    "    model,\n",
    "    MOI.ScalarAffineFunction(MOI.ScalarAffineTerm.(G[1,:], x), 0.),\n",
    "    MOI.LessThan(h[1])\n",
    ")"
   ]
  },
  {
   "cell_type": "code",
   "execution_count": 27,
   "metadata": {
    "scrolled": false
   },
   "outputs": [
    {
     "name": "stdout",
     "output_type": "stream",
     "text": [
      "-----------------------------------------------------------------\n",
      "           OSQP v0.6.0  -  Operator Splitting QP Solver\n",
      "              (c) Bartolomeo Stellato,  Goran Banjac\n",
      "        University of Oxford  -  Stanford University 2019\n",
      "-----------------------------------------------------------------\n",
      "problem:  variables n = 2, constraints m = 1\n",
      "          nnz(P) + nnz(A) = 5\n",
      "settings: linear system solver = qdldl,\n",
      "          eps_abs = 1.0e-03, eps_rel = 1.0e-03,\n",
      "          eps_prim_inf = 1.0e-04, eps_dual_inf = 1.0e-04,\n",
      "          rho = 1.00e-01 (adaptive),\n",
      "          sigma = 1.00e-06, alpha = 1.60, max_iter = 4000\n",
      "          check_termination: on (interval 25),\n",
      "          scaling: on, scaled_termination: off\n",
      "          warm start: on, polish: off, time_limit: off\n",
      "\n",
      "iter   objective    pri res    dua res    rho        time\n",
      "   1  -2.3138e-01   1.79e-01   4.00e-01   1.00e-01   4.89e-05s\n",
      "  50  -1.2500e-01   3.05e-13   5.59e-12   7.14e+00   8.11e-05s\n",
      "\n",
      "status:               solved\n",
      "number of iterations: 50\n",
      "optimal objective:    -0.1250\n",
      "run time:             8.80e-05s\n",
      "optimal rho estimate: 3.88e-01\n",
      "\n"
     ]
    }
   ],
   "source": [
    "MOI.optimize!(model)"
   ]
  },
  {
   "cell_type": "code",
   "execution_count": 28,
   "metadata": {},
   "outputs": [],
   "source": [
    "@assert MOI.get(model, MOI.TerminationStatus()) in [MOI.LOCALLY_SOLVED, MOI.OPTIMAL]"
   ]
  },
  {
   "cell_type": "code",
   "execution_count": 29,
   "metadata": {},
   "outputs": [
    {
     "data": {
      "text/plain": [
       "2-element Array{Float64,1}:\n",
       " -0.2499999999999395\n",
       " -0.7499999999997555"
      ]
     },
     "execution_count": 29,
     "metadata": {},
     "output_type": "execute_result"
    }
   ],
   "source": [
    "x̄ = MOI.get(model, MOI.VariablePrimal(), x)"
   ]
  },
  {
   "cell_type": "markdown",
   "metadata": {},
   "source": [
    "## obtaining lambda*"
   ]
  },
  {
   "cell_type": "code",
   "execution_count": 31,
   "metadata": {},
   "outputs": [],
   "source": [
    "joint_object    = dualize(model)\n",
    "dual_model_like = joint_object.dual_model # this is MOI.ModelLike, not an MOI.AbstractOptimizer; can't call optimizer on it\n",
    "primal_dual_map = joint_object.primal_dual_map;"
   ]
  },
  {
   "cell_type": "code",
   "execution_count": 32,
   "metadata": {},
   "outputs": [
    {
     "name": "stdout",
     "output_type": "stream",
     "text": [
      "-----------------------------------------------------------------\n",
      "           OSQP v0.6.0  -  Operator Splitting QP Solver\n",
      "              (c) Bartolomeo Stellato,  Goran Banjac\n",
      "        University of Oxford  -  Stanford University 2019\n",
      "-----------------------------------------------------------------\n",
      "problem:  variables n = 3, constraints m = 3\n",
      "          nnz(P) + nnz(A) = 10\n",
      "settings: linear system solver = qdldl,\n",
      "          eps_abs = 1.0e-03, eps_rel = 1.0e-03,\n",
      "          eps_prim_inf = 1.0e-04, eps_dual_inf = 1.0e-04,\n",
      "          rho = 1.00e-01 (adaptive),\n",
      "          sigma = 1.00e-06, alpha = 1.60, max_iter = 4000\n",
      "          check_termination: on (interval 25),\n",
      "          scaling: on, scaled_termination: off\n",
      "          warm start: on, polish: off, time_limit: off\n",
      "\n",
      "iter   objective    pri res    dua res    rho        time\n",
      "   1  -7.8022e-01   1.02e+00   1.50e+02   1.00e-01   5.35e-05s\n",
      "  25   1.2474e-01   2.70e-04   7.11e-04   1.00e-01   7.56e-05s\n",
      "\n",
      "status:               solved\n",
      "number of iterations: 25\n",
      "optimal objective:    0.1247\n",
      "run time:             8.14e-05s\n",
      "optimal rho estimate: 8.45e-02\n",
      "\n"
     ]
    }
   ],
   "source": [
    "# copy the dual model objective, constraints, and variables to an optimizer\n",
    "dual_model = MOI.instantiate(OSQP.Optimizer, with_bridge_type=Float64)\n",
    "MOI.copy_to(dual_model, dual_model_like)\n",
    "\n",
    "# solve dual\n",
    "MOI.optimize!(dual_model);"
   ]
  },
  {
   "cell_type": "code",
   "execution_count": 34,
   "metadata": {},
   "outputs": [
    {
     "name": "stdout",
     "output_type": "stream",
     "text": [
      "-0.7500438286088407\n"
     ]
    }
   ],
   "source": [
    "map = primal_dual_map.primal_con_dual_var\n",
    "\n",
    "for con_index in keys(map)\n",
    "    λ = MOI.get(dual_model, MOI.VariablePrimal(), map[con_index][1])\n",
    "    println(λ)\n",
    "end"
   ]
  },
  {
   "cell_type": "code",
   "execution_count": 36,
   "metadata": {},
   "outputs": [
    {
     "data": {
      "text/plain": [
       "3×3 Array{Int64,2}:\n",
       " 4  1  1\n",
       " 1  2  1\n",
       " 1  1  0"
      ]
     },
     "execution_count": 36,
     "metadata": {},
     "output_type": "execute_result"
    }
   ],
   "source": [
    "LHS = [4 1 1; 1 2 1; 1 1 0]  # of eqn (6)"
   ]
  },
  {
   "cell_type": "code",
   "execution_count": 37,
   "metadata": {},
   "outputs": [
    {
     "data": {
      "text/plain": [
       "3-element Array{Int64,1}:\n",
       " 0\n",
       " 0\n",
       " 1"
      ]
     },
     "execution_count": 37,
     "metadata": {},
     "output_type": "execute_result"
    }
   ],
   "source": [
    "RHS = [0; 0; 1]  # of eqn (6)"
   ]
  },
  {
   "cell_type": "code",
   "execution_count": 38,
   "metadata": {},
   "outputs": [
    {
     "data": {
      "text/plain": [
       "3-element Array{Float64,1}:\n",
       "  0.25\n",
       "  0.75\n",
       " -1.75"
      ]
     },
     "execution_count": 38,
     "metadata": {},
     "output_type": "execute_result"
    }
   ],
   "source": [
    "pp \\ qq  # voila"
   ]
  }
 ],
 "metadata": {
  "kernelspec": {
   "display_name": "Julia 1.0.5",
   "language": "julia",
   "name": "julia-1.0"
  },
  "language_info": {
   "file_extension": ".jl",
   "mimetype": "application/julia",
   "name": "julia",
   "version": "1.0.5"
  }
 },
 "nbformat": 4,
 "nbformat_minor": 2
}
