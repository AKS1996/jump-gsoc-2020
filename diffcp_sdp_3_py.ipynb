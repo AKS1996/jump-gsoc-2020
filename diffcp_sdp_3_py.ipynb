{
 "cells": [
  {
   "cell_type": "code",
   "execution_count": 1,
   "metadata": {},
   "outputs": [],
   "source": [
    "import numpy as np\n",
    "import cvxpy as cp\n",
    "from scipy import sparse\n",
    "import diffcp"
   ]
  },
  {
   "cell_type": "code",
   "execution_count": 2,
   "metadata": {},
   "outputs": [
    {
     "name": "stderr",
     "output_type": "stream",
     "text": [
      "/home/akshay/.pyenv/versions/procol/lib/python3.6/site-packages/scipy/sparse/_index.py:84: SparseEfficiencyWarning: Changing the sparsity structure of a csc_matrix is expensive. lil_matrix is more efficient.\n",
      "  self._set_intXint(row, col, x.flat[0])\n"
     ]
    }
   ],
   "source": [
    "A = sparse.csc_matrix((11+1,7+1), dtype=np.float64)\n",
    "A[2 , 1]  =  1.0\n",
    "A[3 , 1]  =  -1.0\n",
    "A[9 , 1]  =  -0.45\n",
    "A[10, 1]  =  0.45\n",
    "A[11, 1]  =  -0.45\n",
    "A[2 , 2]  =  1.0\n",
    "A[4 , 2]  =  -1.0\n",
    "A[9 , 2]  =  -0.8\n",
    "A[10, 2]  =  0.318198\n",
    "A[11, 2]  =  -0.1\n",
    "A[2 , 3]  =  1.0\n",
    "A[5 , 3]  =  -1.0\n",
    "A[9 , 3]  =  -0.9\n",
    "A[2 , 4]  =  1.0\n",
    "A[6 , 4]  =  -1.0\n",
    "A[9 , 4]  =  -0.225\n",
    "A[2 , 5]  =  1.0\n",
    "A[7 , 5]  =  -1.0\n",
    "A[9 , 5]  =  -0.1125\n",
    "A[10, 5]  =  0.1125\n",
    "A[11, 5]  =  -0.1125\n",
    "A[2 , 6]  =  1.0\n",
    "A[8 , 6]  =  -1.0\n",
    "A[11, 6]  =  -0.225\n",
    "A[9 , 7]  =  1.0\n",
    "A[11, 7]  =  1.0\n",
    "\n",
    "A = A[1:, 1:]"
   ]
  },
  {
   "cell_type": "code",
   "execution_count": 8,
   "metadata": {
    "scrolled": false
   },
   "outputs": [
    {
     "name": "stdout",
     "output_type": "stream",
     "text": [
      "[ 6.66666667e+00 -3.88359992e-11  3.33333333e+00 -6.85488543e-12\n",
      "  6.02940183e-11 -6.21696364e-11  1.90192379e+00]\n",
      "[ 0.00000000e+00  4.29630707e-17  6.66666667e+00  1.04824515e-16\n",
      "  3.33333333e+00  6.63144880e-17  3.31758339e-17  9.56373889e-18\n",
      "  4.09807621e+00 -3.00000000e+00  1.09807621e+00]\n",
      "[0.         0.19019238 0.         0.12597667 0.         0.14264428\n",
      " 0.14264428 0.01274047 0.21132487 0.57735027 0.78867513]\n",
      "[-42.240497    10.90192379 -12.26912194  10.90192379  10.90192379\n",
      "  10.90192379 -23.89209324]\n",
      "[-0.00000000e+00 -2.49212720e-16 -5.31424208e+01 -6.08047847e-16\n",
      " -2.31710457e+01 -3.84665567e-16 -1.92440616e-16 -5.54756759e-17\n",
      " -4.65932563e+00  3.41086309e+00 -1.24846254e+00]\n",
      "[-0.         -3.79855654 -0.         -0.40206065 -0.         -0.45525613\n",
      " -0.45525613 -0.04066184 -0.67445353 -1.84264131 -2.51709484]\n"
     ]
    }
   ],
   "source": [
    "# equivalent to: https://github.com/jump-dev/MathOptInterface.jl/blob/master/src/Test/contconic.jl#L2575\n",
    "\n",
    "cone_dict = {\n",
    "    diffcp.POS: 7,\n",
    "    diffcp.PSD: [2],\n",
    "    diffcp.ZERO: 1\n",
    "}\n",
    "\n",
    "b = np.array([0.0, 10.0, -0.0, -0.0, -0.0, -0.0, -0.0, -0.0, 0.0, 0.0, 0.0])\n",
    "c = np.array([-0.0, -0.0, -0.0, -0.0, -0.0, -0.0, -1.0])\n",
    "\n",
    "x, y, s, D, DT = diffcp.solve_and_derivative(A, b, c, cone_dict)\n",
    "print(x) # MOI.VariablePrimal\n",
    "print(s) # MOI.ConstraintPrimal\n",
    "print(y) # MOI.ConstraintDual\n",
    "\n",
    "\n",
    "dx, dy, ds = D(sparse.csc_matrix(np.ones((11,7))), np.ones(11), np.ones(7))\n",
    "print(dx)\n",
    "print(ds)\n",
    "print(dy)"
   ]
  },
  {
   "cell_type": "code",
   "execution_count": null,
   "metadata": {},
   "outputs": [],
   "source": []
  }
 ],
 "metadata": {
  "kernelspec": {
   "display_name": "Python 3.6.9 64-bit ('procol': venv)",
   "language": "python",
   "name": "python36964bitprocolvenv3d5a78e847ac487da652a96deb972468"
  },
  "language_info": {
   "codemirror_mode": {
    "name": "ipython",
    "version": 3
   },
   "file_extension": ".py",
   "mimetype": "text/x-python",
   "name": "python",
   "nbconvert_exporter": "python",
   "pygments_lexer": "ipython3",
   "version": "3.6.9"
  }
 },
 "nbformat": 4,
 "nbformat_minor": 2
}
