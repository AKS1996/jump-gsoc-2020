{
 "cells": [
  {
   "cell_type": "code",
   "execution_count": 10,
   "metadata": {},
   "outputs": [
    {
     "data": {
      "text/plain": [
       "MathOptInterface.FileFormats"
      ]
     },
     "execution_count": 10,
     "metadata": {},
     "output_type": "execute_result"
    }
   ],
   "source": [
    "using MathOptInterface\n",
    "using LinearAlgebra\n",
    "\n",
    "const MOI = MathOptInterface\n",
    "const FF = MOI.FileFormats"
   ]
  },
  {
   "cell_type": "code",
   "execution_count": 29,
   "metadata": {},
   "outputs": [
    {
     "ename": "ErrorException",
     "evalue": "read! is not implemented for LP files.",
     "output_type": "error",
     "traceback": [
      "read! is not implemented for LP files.",
      "",
      "Stacktrace:",
      " [1] error(::String) at ./error.jl:33",
      " [2] read!(::IOStream, ::MathOptInterface.FileFormats.LP.Model{Float64}) at /home/akshay/.julia/packages/MathOptInterface/RmalA/src/FileFormats/LP/LP.jl:260",
      " [3] (::getfield(MathOptInterface.FileFormats, Symbol(\"##9#10\")){MathOptInterface.FileFormats.LP.Model{Float64}})(::IOStream) at /home/akshay/.julia/packages/MathOptInterface/RmalA/src/FileFormats/FileFormats.jl:106",
      " [4] #open#296(::Base.Iterators.Pairs{Union{},Union{},Tuple{},NamedTuple{(),Tuple{}}}, ::Function, ::getfield(MathOptInterface.FileFormats, Symbol(\"##9#10\")){MathOptInterface.FileFormats.LP.Model{Float64}}, ::String, ::Vararg{String,N} where N) at ./iostream.jl:369",
      " [5] open(::Function, ::String, ::String) at ./iostream.jl:367",
      " [6] compressed_open(::Function, ::String, ::String, ::MathOptInterface.FileFormats.NoCompression) at /home/akshay/.julia/packages/MathOptInterface/RmalA/src/FileFormats/utils.jl:161",
      " [7] compressed_open(::Function, ::String, ::String, ::MathOptInterface.FileFormats.AutomaticCompression) at /home/akshay/.julia/packages/MathOptInterface/RmalA/src/FileFormats/utils.jl:200",
      " [8] read_from_file(::MathOptInterface.FileFormats.LP.Model{Float64}, ::String) at /home/akshay/.julia/packages/MathOptInterface/RmalA/src/FileFormats/FileFormats.jl:105",
      " [9] top-level scope at In[29]:4"
     ]
    }
   ],
   "source": [
    "model = FF.MPS.Model()\n",
    "MOI.read_from_file(model, \"QPLIB_8938.lp\")"
   ]
  },
  {
   "cell_type": "code",
   "execution_count": 24,
   "metadata": {},
   "outputs": [
    {
     "data": {
      "text/plain": [
       "A .LP-file model"
      ]
     },
     "execution_count": 24,
     "metadata": {},
     "output_type": "execute_result"
    }
   ],
   "source": [
    "model = FF.Model(filename=\"QPLIB_8938.lp\")"
   ]
  },
  {
   "cell_type": "code",
   "execution_count": 26,
   "metadata": {},
   "outputs": [
    {
     "data": {
      "text/latex": [
       "\\begin{verbatim}\n",
       "read_from_file(model::ModelLike, filename::String)\n",
       "\\end{verbatim}\n",
       "Read the file \\texttt{filename} into the model \\texttt{model}. If \\texttt{model} is non-empty, this may throw an error.\n",
       "\n",
       "Supported file types depend on the model type.\n",
       "\n",
       "\\subsubsection{Note}\n",
       "Once the contents of the file are loaded into the model, users can query the variables via \\texttt{get(model, ListOfVariableIndices())}. However, some filetypes, such as LP files, do not maintain an explicit ordering of the variables. Therefore, the returned list may be in an arbitrary order. To avoid depending on the order of the indices, users should look up each variable index by name: \\texttt{get(model, VariableIndex, \"name\")}.\n",
       "\n"
      ],
      "text/markdown": [
       "```\n",
       "read_from_file(model::ModelLike, filename::String)\n",
       "```\n",
       "\n",
       "Read the file `filename` into the model `model`. If `model` is non-empty, this may throw an error.\n",
       "\n",
       "Supported file types depend on the model type.\n",
       "\n",
       "### Note\n",
       "\n",
       "Once the contents of the file are loaded into the model, users can query the variables via `get(model, ListOfVariableIndices())`. However, some filetypes, such as LP files, do not maintain an explicit ordering of the variables. Therefore, the returned list may be in an arbitrary order. To avoid depending on the order of the indices, users should look up each variable index by name: `get(model, VariableIndex, \"name\")`.\n"
      ],
      "text/plain": [
       "\u001b[36m  read_from_file(model::ModelLike, filename::String)\u001b[39m\n",
       "\n",
       "  Read the file \u001b[36mfilename\u001b[39m into the model \u001b[36mmodel\u001b[39m. If \u001b[36mmodel\u001b[39m is non-empty, this may\n",
       "  throw an error.\n",
       "\n",
       "  Supported file types depend on the model type.\n",
       "\n",
       "\u001b[1m  Note\u001b[22m\n",
       "\u001b[1m  ––––––\u001b[22m\n",
       "\n",
       "  Once the contents of the file are loaded into the model, users can query the\n",
       "  variables via \u001b[36mget(model, ListOfVariableIndices())\u001b[39m. However, some filetypes,\n",
       "  such as LP files, do not maintain an explicit ordering of the variables.\n",
       "  Therefore, the returned list may be in an arbitrary order. To avoid\n",
       "  depending on the order of the indices, users should look up each variable\n",
       "  index by name: \u001b[36mget(model, VariableIndex, \"name\")\u001b[39m."
      ]
     },
     "execution_count": 26,
     "metadata": {},
     "output_type": "execute_result"
    }
   ],
   "source": [
    "?MOI.read_from_file"
   ]
  },
  {
   "cell_type": "code",
   "execution_count": 37,
   "metadata": {},
   "outputs": [],
   "source": [
    "using NPZ"
   ]
  },
  {
   "cell_type": "code",
   "execution_count": 40,
   "metadata": {},
   "outputs": [
    {
     "ename": "ErrorException",
     "evalue": "parsing header failed: unsupported type O",
     "output_type": "error",
     "traceback": [
      "parsing header failed: unsupported type O",
      "",
      "Stacktrace:",
      " [1] error(::String) at ./error.jl:33",
      " [2] parsedtype at /home/akshay/.julia/packages/NPZ/OBINJ/src/NPZ.jl:157 [inlined]",
      " [3] parseheader(::SubString{String}) at /home/akshay/.julia/packages/NPZ/OBINJ/src/NPZ.jl:179",
      " [4] npzreadarray(::IOStream) at /home/akshay/.julia/packages/NPZ/OBINJ/src/NPZ.jl:219",
      " [5] npzread(::String) at /home/akshay/.julia/packages/NPZ/OBINJ/src/NPZ.jl:251",
      " [6] top-level scope at In[40]:1"
     ]
    }
   ],
   "source": [
    "npzread(\"./test-QP1.npy\")"
   ]
  },
  {
   "cell_type": "code",
   "execution_count": null,
   "metadata": {},
   "outputs": [],
   "source": []
  }
 ],
 "metadata": {
  "kernelspec": {
   "display_name": "Julia 1.0.5",
   "language": "julia",
   "name": "julia-1.0"
  },
  "language_info": {
   "file_extension": ".jl",
   "mimetype": "application/julia",
   "name": "julia",
   "version": "1.0.5"
  }
 },
 "nbformat": 4,
 "nbformat_minor": 2
}
