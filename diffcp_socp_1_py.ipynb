{
 "cells": [
  {
   "cell_type": "code",
   "execution_count": 2,
   "metadata": {},
   "outputs": [],
   "source": [
    "import numpy as np\n",
    "import cvxpy as cp\n",
    "from scipy import sparse\n",
    "import diffcp"
   ]
  },
  {
   "cell_type": "code",
   "execution_count": 41,
   "metadata": {},
   "outputs": [
    {
     "name": "stdout",
     "output_type": "stream",
     "text": [
      "[ 0.99850225 -0.707       0.707     ] [-1.  0.  1.] [-1.57439035e-17  1.49775337e-03 -1.34350038e-16]\n"
     ]
    }
   ],
   "source": [
    "cone_dict = {\n",
    "    diffcp.POS: 1,\n",
    "    diffcp.ZERO: 1,\n",
    "    diffcp.SOC: [1],\n",
    "}\n",
    "\n",
    "# x <- (t,x,y)\n",
    "# min x\n",
    "# s.t.  -1/√2 + y ∈ R₊\n",
    "#        1 - t ∈ {0}\n",
    "#      (t,x,y) ∈ SOC₃\n",
    "# slack/s = b-Ax\n",
    "\n",
    "A = sparse.csc_matrix(np.array([\n",
    "    [0., 0., -1.],\n",
    "    [1., 0., 0.],\n",
    "    [0., -1., -1.]\n",
    "]))\n",
    "b = np.array([\n",
    "    -0.707,\n",
    "    1., \n",
    "    0.\n",
    "])\n",
    "c = np.array([0., 1., 0.])\n",
    "\n",
    "x, y, s, D, DT = diffcp.solve_and_derivative(A, b, c, cone_dict)\n",
    "print(x,y,s)\n",
    "\n",
    "\n",
    "# dx, dy, ds = D(np.eye(3), np.zeros(3), np.zeros(3))\n",
    "dx, dy, ds = D(np.zeros(3,3), np.eye(3), np.zeros(3))"
   ]
  },
  {
   "cell_type": "code",
   "execution_count": null,
   "metadata": {},
   "outputs": [],
   "source": []
  }
 ],
 "metadata": {
  "kernelspec": {
   "display_name": "Python 3.6.9 64-bit ('procol': venv)",
   "language": "python",
   "name": "python36964bitprocolvenv3d5a78e847ac487da652a96deb972468"
  },
  "language_info": {
   "codemirror_mode": {
    "name": "ipython",
    "version": 3
   },
   "file_extension": ".py",
   "mimetype": "text/x-python",
   "name": "python",
   "nbconvert_exporter": "python",
   "pygments_lexer": "ipython3",
   "version": "3.6.9"
  }
 },
 "nbformat": 4,
 "nbformat_minor": 2
}
