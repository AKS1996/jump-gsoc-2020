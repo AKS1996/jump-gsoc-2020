{
 "cells": [
  {
   "cell_type": "code",
   "execution_count": 1,
   "metadata": {},
   "outputs": [],
   "source": [
    "import numpy as np\n",
    "import cvxpy as cp\n",
    "from scipy import sparse\n",
    "import diffcp"
   ]
  },
  {
   "cell_type": "code",
   "execution_count": 2,
   "metadata": {},
   "outputs": [
    {
     "name": "stdout",
     "output_type": "stream",
     "text": [
      "[-0.70710656  0.707107    1.        ]\n",
      "[-3.03619403e-17 -9.15154367e-17  9.99999999e-01 -7.07106562e-01\n",
      "  7.07107000e-01]\n",
      "[ 1.414214    1.00000062  1.414214    1.         -1.00000062]\n",
      "[1.12132144 0.707107   0.70710656]\n",
      "[-4.82529416e-17 -1.45441595e-16 -2.92893438e-01  1.12132144e+00\n",
      "  7.07106999e-01]\n",
      "[ 2.4142175   5.00000557  3.8284315   1.414214   -4.00000495]\n"
     ]
    }
   ],
   "source": [
    "# equivalent to https://github.com/jump-dev/MathOptInterface.jl/blob/master/src/Test/contconic.jl#L789\n",
    "\n",
    "cone_dict = {\n",
    "    diffcp.POS: 1,\n",
    "    diffcp.ZERO: 1,\n",
    "    diffcp.SOC: [3],\n",
    "}\n",
    "\n",
    "# x <- (t,x,y)\n",
    "# min x\n",
    "# s.t.  -1/√2 + y ∈ R₊\n",
    "#        1 - t ∈ {0}\n",
    "#      (t,x,y) ∈ SOC₃\n",
    "# slack/s = b-Ax\n",
    "\n",
    "A = sparse.csc_matrix(np.array([\n",
    "  [0.0,   0.0  , 1.0],\n",
    "  [0.0,  -1.0 ,  0.0],\n",
    "  [0.0,   0.0 , -1.0],\n",
    "  [-1.0,   0.0,   0.0],\n",
    "  [0.0,  -1.0,   0.0]\n",
    "]))\n",
    "b = np.array([1.0, -0.707107, 0.0, 0.0, 0.0])\n",
    "c = np.array([1., 0., 0.])\n",
    "\n",
    "x, y, s, D, DT = diffcp.solve_and_derivative(A, b, c, cone_dict)\n",
    "print(x) # MOI.VariablePrimal\n",
    "print(s) # MOI.ConstraintPrimal\n",
    "print(y) # MOI.ConstraintDual\n",
    "\n",
    "\n",
    "dx, dy, ds = D(sparse.csc_matrix(np.eye(5,3)), np.zeros(5), np.zeros(3))\n",
    "print(dx)\n",
    "print(ds)\n",
    "print(dy)"
   ]
  },
  {
   "cell_type": "code",
   "execution_count": null,
   "metadata": {},
   "outputs": [],
   "source": []
  }
 ],
 "metadata": {
  "kernelspec": {
   "display_name": "Python 3.6.9 64-bit ('procol': venv)",
   "language": "python",
   "name": "python36964bitprocolvenv3d5a78e847ac487da652a96deb972468"
  },
  "language_info": {
   "codemirror_mode": {
    "name": "ipython",
    "version": 3
   },
   "file_extension": ".py",
   "mimetype": "text/x-python",
   "name": "python",
   "nbconvert_exporter": "python",
   "pygments_lexer": "ipython3",
   "version": "3.6.9"
  }
 },
 "nbformat": 4,
 "nbformat_minor": 2
}
