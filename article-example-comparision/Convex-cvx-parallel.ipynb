{
 "cells": [
  {
   "cell_type": "markdown",
   "metadata": {},
   "source": [
    "## Define the problem"
   ]
  },
  {
   "cell_type": "code",
   "execution_count": 173,
   "metadata": {},
   "outputs": [],
   "source": [
    "using Convex;\n",
    "using MathOptInterface;\n",
    "const MOI = MathOptInterface;"
   ]
  },
  {
   "cell_type": "code",
   "execution_count": 146,
   "metadata": {},
   "outputs": [
    {
     "data": {
      "text/plain": [
       "Variable\n",
       "size: (4, 1)\n",
       "sign: real\n",
       "vexity: affine\n",
       "id: 709…285"
      ]
     },
     "execution_count": 146,
     "metadata": {},
     "output_type": "execute_result"
    }
   ],
   "source": [
    "m, n = 3, 4\n",
    "x = Variable((n , 1) )"
   ]
  },
  {
   "cell_type": "code",
   "execution_count": 147,
   "metadata": {},
   "outputs": [
    {
     "data": {
      "text/plain": [
       "Variable\n",
       "size: (1, 1)\n",
       "sign: positive\n",
       "vexity: constant\n",
       "id: 165…355\n",
       "value: [10.0]"
      ]
     },
     "execution_count": 147,
     "metadata": {},
     "output_type": "execute_result"
    }
   ],
   "source": [
    "# defining params in julia\n",
    "\n",
    "F = Variable((m, n))\n",
    "g = Variable((m, 1))\n",
    "lambd = Variable((1, 1), Positive())\n",
    "\n",
    "F.value = 10*ones(m, n)\n",
    "g.value = 10*ones(m, 1)\n",
    "lambd.value = 10*ones(1, 1)\n",
    "\n",
    "fix!(F)\n",
    "fix!(g)\n",
    "fix!(lambd)"
   ]
  },
  {
   "cell_type": "code",
   "execution_count": 148,
   "metadata": {
    "scrolled": true
   },
   "outputs": [
    {
     "data": {
      "text/plain": [
       "minimize\n",
       "└─ + (convex; positive)\n",
       "   ├─ norm2 (convex; positive)\n",
       "   │  └─ + (affine; real)\n",
       "   │     ├─ …\n",
       "   │     └─ …\n",
       "   └─ * (convex; positive)\n",
       "      ├─ positive variable (fixed) (id: 165…355)\n",
       "      └─ norm2 (convex; positive)\n",
       "         └─ …\n",
       "subject to\n",
       "└─ >= constraint (affine)\n",
       "   ├─ 4-element real variable (id: 709…285)\n",
       "   └─ 0\n",
       "\n",
       "status: `solve!` not called yet"
      ]
     },
     "execution_count": 148,
     "metadata": {},
     "output_type": "execute_result"
    }
   ],
   "source": [
    "objective_fn = norm(F * x - g) + lambd*norm(x)\n",
    "constraints = [x >= 0]\n",
    "problem = minimize(objective_fn, constraints)"
   ]
  },
  {
   "cell_type": "markdown",
   "metadata": {},
   "source": [
    "## Get cone problem data"
   ]
  },
  {
   "cell_type": "code",
   "execution_count": 165,
   "metadata": {},
   "outputs": [
    {
     "data": {
      "text/plain": [
       ">= constraint (affine)\n",
       "├─ 4-element real variable (id: 709…285)\n",
       "└─ 0"
      ]
     },
     "execution_count": 165,
     "metadata": {},
     "output_type": "execute_result"
    }
   ],
   "source": [
    "problem.constraints[1]"
   ]
  },
  {
   "cell_type": "code",
   "execution_count": 162,
   "metadata": {},
   "outputs": [
    {
     "data": {
      "text/plain": [
       "(Convex.ConicObj(OrderedCollections.OrderedDict{UInt64,Tuple{Union{Number, AbstractArray},Union{Number, AbstractArray}}}(0xcbe08e9204143a16=>(\n",
       "  [1, 1]  =  1.0, 1×1 SparseMatrixCSC{Float64,Int64} with 0 stored entries),0xda59128f4ac0b6bc=>(1×1 SparseMatrixCSC{Float64,Int64} with 0 stored entries, 1×1 SparseMatrixCSC{Float64,Int64} with 0 stored entries))), 0xcbe08e9204143a16)"
      ]
     },
     "execution_count": 162,
     "metadata": {},
     "output_type": "execute_result"
    }
   ],
   "source": [
    "unique_conic_forms = Convex.UniqueConicForms()\n",
    "objective, objective_var_id = Convex.conic_form!(problem, unique_conic_forms)"
   ]
  },
  {
   "cell_type": "code",
   "execution_count": 157,
   "metadata": {},
   "outputs": [
    {
     "data": {
      "text/plain": [
       "Convex.ConicObj(OrderedCollections.OrderedDict{UInt64,Tuple{Union{Number, AbstractArray},Union{Number, AbstractArray}}}(0x1fca946963694d45=>(\n",
       "  [1, 1]  =  1.0, 1×1 SparseMatrixCSC{Float64,Int64} with 0 stored entries),0xda59128f4ac0b6bc=>(1×1 SparseMatrixCSC{Float64,Int64} with 0 stored entries, 1×1 SparseMatrixCSC{Float64,Int64} with 0 stored entries)))"
      ]
     },
     "execution_count": 157,
     "metadata": {},
     "output_type": "execute_result"
    }
   ],
   "source": [
    "objective"
   ]
  },
  {
   "cell_type": "code",
   "execution_count": 170,
   "metadata": {},
   "outputs": [
    {
     "name": "stdout",
     "output_type": "stream",
     "text": [
      "[1.0]\n",
      "[0.0]\n",
      "[10.0 10.0 10.0 10.0; 10.0 10.0 10.0 10.0; 10.0 10.0 10.0 10.0]\n",
      "[-10.0; -10.0; -10.0]\n",
      "\n",
      "[1.0]\n",
      "[0.0]\n",
      "[1.0 0.0 0.0 0.0; 0.0 1.0 0.0 0.0; 0.0 0.0 1.0 0.0; 0.0 0.0 0.0 1.0]\n",
      "[0.0; 0.0; 0.0; 0.0]\n",
      "\n",
      "[1.0]\n",
      "[0.0]\n",
      "[10.0]\n",
      "[-1.0]\n",
      "\n",
      "[1.0 0.0 0.0 0.0; 0.0 1.0 0.0 0.0; 0.0 0.0 1.0 0.0; 0.0 0.0 0.0 1.0]\n",
      "[0.0; 0.0; 0.0; 0.0]\n",
      "\n"
     ]
    }
   ],
   "source": [
    "for con in unique_conic_forms.constr_list\n",
    "    for obj in con.objs\n",
    "        for (k,v) in obj.mapping\n",
    "            print(Array(v[1]))\n",
    "            print('\\n')\n",
    "        end\n",
    "    end\n",
    "    print('\\n')\n",
    "end"
   ]
  },
  {
   "cell_type": "code",
   "execution_count": 176,
   "metadata": {},
   "outputs": [
    {
     "ename": "UndefVarError",
     "evalue": "UndefVarError: var_to_indices not defined",
     "output_type": "error",
     "traceback": [
      "UndefVarError: var_to_indices not defined",
      "",
      "Stacktrace:",
      " [1] top-level scope at ./In[176]:8"
     ]
    }
   ],
   "source": [
    "conic_constraints = unique_conic_forms.constr_list\n",
    "conic_constr_to_constr = unique_conic_forms.conic_constr_to_constr\n",
    "id_to_variables = unique_conic_forms.id_to_variables\n",
    "\n",
    "MOI_constr_fn = Union{MOI.VectorAffineFunction{Float64},MOI.SingleVariable}[]\n",
    "MOI_sets = Any[]\n",
    "for conic_constr in conic_constraints\n",
    "    set, constr_fn = Convex.make_MOI_constr(conic_constr, var_to_indices, id_to_variables, Float64)\n",
    "    push!(MOI_sets, set)\n",
    "    push!(MOI_constr_fn, constr_fn)\n",
    "end"
   ]
  },
  {
   "cell_type": "code",
   "execution_count": null,
   "metadata": {},
   "outputs": [],
   "source": []
  }
 ],
 "metadata": {
  "kernelspec": {
   "display_name": "Julia 1.0.5",
   "language": "julia",
   "name": "julia-1.0"
  },
  "language_info": {
   "file_extension": ".jl",
   "mimetype": "application/julia",
   "name": "julia",
   "version": "1.0.5"
  }
 },
 "nbformat": 4,
 "nbformat_minor": 2
}
