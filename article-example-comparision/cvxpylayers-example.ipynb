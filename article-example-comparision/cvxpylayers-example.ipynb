{
 "cells": [
  {
   "cell_type": "code",
   "execution_count": 1,
   "metadata": {},
   "outputs": [],
   "source": [
    "import cvxpy as cp\n",
    "import torch\n",
    "from cvxpylayers.torch import CvxpyLayer"
   ]
  },
  {
   "cell_type": "code",
   "execution_count": 2,
   "metadata": {},
   "outputs": [],
   "source": [
    "m , n = 3 , 4\n",
    "x = cp. Variable ((n , 1) )\n",
    "F = cp. Parameter (( m , n ) )\n",
    "g = cp. Parameter (( m , 1) )\n",
    "lambd = cp.Parameter(1 , 1) , nonneg = True )"
   ]
  },
  {
   "cell_type": "code",
   "execution_count": 3,
   "metadata": {},
   "outputs": [],
   "source": [
    "objective_fn = cp.norm(F @ x - g) + lambd*cp.norm(x)\n",
    "constraints = [x >= 0]\n",
    "problem = cp.Problem(cp.Minimize(objective_fn), constraints)"
   ]
  },
  {
   "cell_type": "code",
   "execution_count": 4,
   "metadata": {},
   "outputs": [
    {
     "data": {
      "text/plain": [
       "True"
      ]
     },
     "execution_count": 4,
     "metadata": {},
     "output_type": "execute_result"
    }
   ],
   "source": [
    "problem.is_dcp()"
   ]
  },
  {
   "cell_type": "code",
   "execution_count": 5,
   "metadata": {},
   "outputs": [
    {
     "data": {
      "text/plain": [
       "True"
      ]
     },
     "execution_count": 5,
     "metadata": {},
     "output_type": "execute_result"
    }
   ],
   "source": [
    "problem.is_dpp()"
   ]
  },
  {
   "cell_type": "markdown",
   "metadata": {},
   "source": [
    "## Get cone problem data"
   ]
  },
  {
   "cell_type": "code",
   "execution_count": 6,
   "metadata": {},
   "outputs": [],
   "source": [
    "# converts problem into a cone program\n",
    "data, _, _ = problem.get_problem_data(solver=cp.SCS)"
   ]
  },
  {
   "cell_type": "code",
   "execution_count": 7,
   "metadata": {},
   "outputs": [],
   "source": [
    "A = data['A']\n",
    "b = data['b']\n",
    "c = data['c']"
   ]
  },
  {
   "cell_type": "code",
   "execution_count": 8,
   "metadata": {},
   "outputs": [
    {
     "data": {
      "text/plain": [
       "matrix([[ 0.,  0., -1.,  0.,  0.,  0.],\n",
       "        [ 0.,  0.,  0., -1.,  0.,  0.],\n",
       "        [ 0.,  0.,  0.,  0., -1.,  0.],\n",
       "        [ 0.,  0.,  0.,  0.,  0., -1.],\n",
       "        [-1.,  0.,  0.,  0.,  0.,  0.],\n",
       "        [ 0.,  0., nan, nan, nan, nan],\n",
       "        [ 0.,  0., nan, nan, nan, nan],\n",
       "        [ 0.,  0., nan, nan, nan, nan],\n",
       "        [ 0., -1.,  0.,  0.,  0.,  0.],\n",
       "        [ 0.,  0., -1.,  0.,  0.,  0.],\n",
       "        [ 0.,  0.,  0., -1.,  0.,  0.],\n",
       "        [ 0.,  0.,  0.,  0., -1.,  0.],\n",
       "        [ 0.,  0.,  0.,  0.,  0., -1.]])"
      ]
     },
     "execution_count": 8,
     "metadata": {},
     "output_type": "execute_result"
    }
   ],
   "source": [
    "A.todense()"
   ]
  },
  {
   "cell_type": "code",
   "execution_count": 9,
   "metadata": {},
   "outputs": [
    {
     "data": {
      "text/plain": [
       "array([ 0.,  0.,  0.,  0.,  0., nan, nan, nan,  0.,  0.,  0.,  0.,  0.])"
      ]
     },
     "execution_count": 9,
     "metadata": {},
     "output_type": "execute_result"
    }
   ],
   "source": [
    "b"
   ]
  },
  {
   "cell_type": "code",
   "execution_count": 10,
   "metadata": {},
   "outputs": [
    {
     "data": {
      "text/plain": [
       "array([ 1., nan,  0.,  0.,  0.,  0.])"
      ]
     },
     "execution_count": 10,
     "metadata": {},
     "output_type": "execute_result"
    }
   ],
   "source": [
    "c"
   ]
  },
  {
   "cell_type": "code",
   "execution_count": null,
   "metadata": {},
   "outputs": [],
   "source": []
  },
  {
   "cell_type": "markdown",
   "metadata": {},
   "source": [
    "## Adding layers"
   ]
  },
  {
   "cell_type": "code",
   "execution_count": 84,
   "metadata": {},
   "outputs": [],
   "source": [
    "F_t = torch . randn (m , n , requires_grad = True )\n",
    "g_t = torch . randn (m , 1 , requires_grad = True )\n",
    "lambd_t = torch.rand (1 , 1 , requires_grad = True )"
   ]
  },
  {
   "cell_type": "code",
   "execution_count": 85,
   "metadata": {},
   "outputs": [],
   "source": [
    "# canonicalizes problem to extract C and R\n",
    "layer = CvxpyLayer(problem, parameters=[F,g,lambd], variables=[x])"
   ]
  },
  {
   "cell_type": "code",
   "execution_count": 96,
   "metadata": {},
   "outputs": [
    {
     "data": {
      "text/plain": [
       "{'training': True,\n",
       " '_parameters': OrderedDict(),\n",
       " '_buffers': OrderedDict(),\n",
       " '_backward_hooks': OrderedDict(),\n",
       " '_forward_hooks': OrderedDict(),\n",
       " '_forward_pre_hooks': OrderedDict(),\n",
       " '_state_dict_hooks': OrderedDict(),\n",
       " '_load_state_dict_pre_hooks': OrderedDict(),\n",
       " '_modules': OrderedDict(),\n",
       " 'param_order': [Parameter((20, 10)),\n",
       "  Parameter((20, 1)),\n",
       "  Parameter((1, 1), nonneg=True)],\n",
       " 'param_ids': [247, 248, 250],\n",
       " 'variables': [Variable((10, 1))],\n",
       " 'var_dict': {246},\n",
       " 'compiler': <cvxpy.reductions.dcp2cone.cone_matrix_stuffing.ParamConeProg at 0x7fc0071e99e8>,\n",
       " 'cone_dims': {'f': 0, 'l': 10, 'q': [21, 11], 'ep': 0, 's': []},\n",
       " 'info': {'canon_time': 0.005506992340087891,\n",
       "  'solve_time': 0.003384828567504883}}"
      ]
     },
     "execution_count": 96,
     "metadata": {},
     "output_type": "execute_result"
    }
   ],
   "source": [
    "layer.__dict__"
   ]
  },
  {
   "cell_type": "code",
   "execution_count": 87,
   "metadata": {},
   "outputs": [],
   "source": [
    "# apply map R ◦ s ◦ C, return a solution to the problem\n",
    "x_star, = layer(F_t,g_t,lambd_t)"
   ]
  },
  {
   "cell_type": "code",
   "execution_count": 72,
   "metadata": {},
   "outputs": [],
   "source": [
    "# compute the gradient of summing x_star w.r.t  F_t, g_t, lambd_t\n",
    "x_star.sum().backward()"
   ]
  }
 ],
 "metadata": {
  "kernelspec": {
   "display_name": "Python 3",
   "language": "python",
   "name": "python3"
  },
  "language_info": {
   "codemirror_mode": {
    "name": "ipython",
    "version": 3
   },
   "file_extension": ".py",
   "mimetype": "text/x-python",
   "name": "python",
   "nbconvert_exporter": "python",
   "pygments_lexer": "ipython3",
   "version": "3.6.9"
  }
 },
 "nbformat": 4,
 "nbformat_minor": 2
}
