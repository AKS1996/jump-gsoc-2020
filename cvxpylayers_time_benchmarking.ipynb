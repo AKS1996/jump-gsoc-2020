{
 "cells": [
  {
   "cell_type": "code",
   "execution_count": 93,
   "metadata": {},
   "outputs": [],
   "source": [
    "import cvxpy as cp\n",
    "import torch \n",
    "from cvxpylayers.torch import CvxpyLayer\n",
    "from numpy.random import rand\n",
    "import numpy as np\n",
    "import cProfile\n",
    "from memory_profiler import profile"
   ]
  },
  {
   "cell_type": "code",
   "execution_count": 87,
   "metadata": {},
   "outputs": [],
   "source": [
    "# starting w/ a simple LP\n",
    "\n",
    "D = 50  # variable dimension\n",
    "M = 50  # no of equality constraints\n",
    "N = 60; # no of inequality constraints\n",
    "\n",
    "x̂ = rand(D) # solution\n",
    "\n",
    "_c = rand(D) # objective coeffs\n",
    "\n",
    "_A = rand(M, D) # equality part\n",
    "_b = np.matmul(_A, x̂)\n",
    "\n",
    "_G = rand(N, D) # inequality part\n",
    "_h = np.matmul(_G, x̂) + rand(N);"
   ]
  },
  {
   "cell_type": "code",
   "execution_count": 88,
   "metadata": {},
   "outputs": [
    {
     "name": "stderr",
     "output_type": "stream",
     "text": [
      "/home/akshay/.pyenv/versions/procol/lib/python3.6/site-packages/cvxpy/expressions/expression.py:503: UserWarning: \n",
      "This use of ``*`` has resulted in matrix multiplication.\n",
      "Using ``*`` for matrix multiplication has been deprecated since CVXPY 1.1.\n",
      "    Use ``*`` for matrix-scalar and vector-scalar multiplication.\n",
      "    Use ``@`` for matrix-matrix and matrix-vector multiplication.\n",
      "    Use ``multiply`` for elementwise multiplication.\n",
      "\n",
      "  warnings.warn(__STAR_MATMUL_WARNING__, UserWarning)\n",
      "/home/akshay/.pyenv/versions/procol/lib/python3.6/site-packages/cvxpy/expressions/expression.py:503: UserWarning: \n",
      "This use of ``*`` has resulted in matrix multiplication.\n",
      "Using ``*`` for matrix multiplication has been deprecated since CVXPY 1.1.\n",
      "    Use ``*`` for matrix-scalar and vector-scalar multiplication.\n",
      "    Use ``@`` for matrix-matrix and matrix-vector multiplication.\n",
      "    Use ``multiply`` for elementwise multiplication.\n",
      "\n",
      "  warnings.warn(__STAR_MATMUL_WARNING__, UserWarning)\n"
     ]
    }
   ],
   "source": [
    "x = cp.Variable(D)\n",
    "c = cp.Parameter(D)\n",
    "A = cp.Parameter((M, D))\n",
    "b = cp.Parameter(M)\n",
    "G = cp.Parameter((N, D))\n",
    "h = cp.Parameter(N)\n",
    "constraints = [A*x == b, G*x <= h]\n",
    "objective = cp.Minimize(c @ x)\n",
    "problem = cp.Problem(objective, constraints)\n",
    "assert problem.is_dpp()"
   ]
  },
  {
   "cell_type": "code",
   "execution_count": 89,
   "metadata": {},
   "outputs": [
    {
     "name": "stderr",
     "output_type": "stream",
     "text": [
      "/home/akshay/.pyenv/versions/procol/lib/python3.6/site-packages/diffcp/cone_program.py:263: UserWarning: Solved/Inaccurate.\n",
      "  warnings.warn(\"Solved/Inaccurate.\")\n"
     ]
    }
   ],
   "source": [
    "cvxpylayer = CvxpyLayer(problem, parameters=[c,A,b,G,h], variables=[x])\n",
    "c_t = torch.Tensor(_c)\n",
    "A_t = torch.Tensor(_A)\n",
    "b_t = torch.Tensor(_b)\n",
    "G_t = torch.Tensor(_G)\n",
    "h_t = torch.Tensor(_h)\n",
    "\n",
    "c_t.requires_grad=True\n",
    "A_t.requires_grad=True\n",
    "b_t.requires_grad=True\n",
    "G_t.requires_grad=True\n",
    "h_t.requires_grad=True\n",
    "\n",
    "# solve the problem\n",
    "solution, = cvxpylayer(c_t, A_t, b_t, G_t, h_t)"
   ]
  },
  {
   "cell_type": "code",
   "execution_count": 90,
   "metadata": {},
   "outputs": [
    {
     "name": "stdout",
     "output_type": "stream",
     "text": [
      "         14 function calls in 0.030 seconds\n",
      "\n",
      "   Ordered by: standard name\n",
      "\n",
      "   ncalls  tottime  percall  cumtime  percall filename:lineno(function)\n",
      "        1    0.000    0.000    0.030    0.030 <string>:1(<module>)\n",
      "        1    0.000    0.000    0.000    0.000 __init__.py:20(_make_grads)\n",
      "        1    0.000    0.000    0.029    0.029 __init__.py:44(backward)\n",
      "        1    0.000    0.000    0.029    0.029 tensor.py:167(backward)\n",
      "        1    0.000    0.000    0.030    0.030 {built-in method builtins.exec}\n",
      "        2    0.000    0.000    0.000    0.000 {built-in method builtins.isinstance}\n",
      "        1    0.000    0.000    0.000    0.000 {built-in method builtins.len}\n",
      "        1    0.000    0.000    0.000    0.000 {built-in method ones_like}\n",
      "        1    0.000    0.000    0.000    0.000 {method 'append' of 'list' objects}\n",
      "        1    0.000    0.000    0.000    0.000 {method 'disable' of '_lsprof.Profiler' objects}\n",
      "        1    0.000    0.000    0.000    0.000 {method 'numel' of 'torch._C._TensorBase' objects}\n",
      "        1    0.029    0.029    0.029    0.029 {method 'run_backward' of 'torch._C._EngineBase' objects}\n",
      "        1    0.001    0.001    0.001    0.001 {method 'sum' of 'torch._C._TensorBase' objects}\n",
      "\n",
      "\n"
     ]
    }
   ],
   "source": [
    "# compute the gradient of the sum of the solution with respect to A, b\n",
    "cProfile.run('solution.sum().backward()')"
   ]
  },
  {
   "cell_type": "code",
   "execution_count": 105,
   "metadata": {},
   "outputs": [],
   "source": [
    "@profile \n",
    "def myGrad(solution):\n",
    "    solution.sum().backward()"
   ]
  },
  {
   "cell_type": "code",
   "execution_count": 106,
   "metadata": {},
   "outputs": [
    {
     "name": "stdout",
     "output_type": "stream",
     "text": [
      "ERROR: Could not find file <ipython-input-105-975679b00c61>\n",
      "NOTE: %mprun can only be used on functions defined in physical files, and not in the IPython environment.\n"
     ]
    }
   ],
   "source": [
    "myGrad(solution)"
   ]
  },
  {
   "cell_type": "code",
   "execution_count": null,
   "metadata": {},
   "outputs": [],
   "source": []
  },
  {
   "cell_type": "code",
   "execution_count": null,
   "metadata": {},
   "outputs": [],
   "source": []
  }
 ],
 "metadata": {
  "kernelspec": {
   "display_name": "Python 3",
   "language": "python",
   "name": "python3"
  },
  "language_info": {
   "codemirror_mode": {
    "name": "ipython",
    "version": 3
   },
   "file_extension": ".py",
   "mimetype": "text/x-python",
   "name": "python",
   "nbconvert_exporter": "python",
   "pygments_lexer": "ipython3",
   "version": "3.6.9"
  }
 },
 "nbformat": 4,
 "nbformat_minor": 2
}
