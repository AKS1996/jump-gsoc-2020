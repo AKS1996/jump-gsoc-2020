{
 "cells": [
  {
   "cell_type": "code",
   "execution_count": 14,
   "metadata": {},
   "outputs": [
    {
     "name": "stderr",
     "output_type": "stream",
     "text": [
      "┌ Info: Precompiling Dualization [191a621a-6537-11e9-281d-650236a99e60]\n",
      "└ @ Base loading.jl:1260\n"
     ]
    }
   ],
   "source": [
    "using SCS\n",
    "using DiffOpt\n",
    "using Dualization\n",
    "using MathOptInterface\n",
    "using MatrixOptInterface\n",
    "# using MathOptSetDistances\n",
    "# using LinearAlgebra\n",
    "using Test\n",
    "# using SparseArrays\n",
    "\n",
    "const MOI = MathOptInterface\n",
    "const MOIT = MathOptInterface.Test\n",
    "const MOIU = MathOptInterface.Utilities\n",
    "# const MOSD = MathOptSetDistances\n",
    "const MatOI = MatrixOptInterface;"
   ]
  },
  {
   "cell_type": "code",
   "execution_count": 15,
   "metadata": {
    "scrolled": false
   },
   "outputs": [
    {
     "name": "stdout",
     "output_type": "stream",
     "text": [
      "----------------------------------------------------------------------------\n",
      "\tSCS v2.1.1 - Splitting Conic Solver\n",
      "\t(c) Brendan O'Donoghue, Stanford University, 2012\n",
      "----------------------------------------------------------------------------\n",
      "Lin-sys: sparse-indirect, nnz in A = 21, CG tol ~ 1/iter^(2.00)\n",
      "eps = 1.00e-05, alpha = 1.50, max_iters = 5000, normalize = 1, scale = 1.00\n",
      "acceleration_lookback = 10, rho_x = 1.00e-03\n",
      "Variables n = 9, constraints m = 11\n",
      "Cones:\tprimal zero / dual free vars: 2\n",
      "\tsoc vars: 3, soc blks: 1\n",
      "\tsd vars: 6, sd blks: 1\n",
      "Setup time: 1.57e-04s\n",
      "----------------------------------------------------------------------------\n",
      " Iter | pri res | dua res | rel gap | pri obj | dua obj | kap/tau | time (s)\n",
      "----------------------------------------------------------------------------\n",
      "     0| 1.04e+00  6.01e+00  7.35e-01  2.11e+00  1.65e+01  0.00e+00  1.37e-04 \n",
      "    60| 6.47e-10  7.11e-10  1.70e-09  7.06e-01  7.06e-01  3.93e-16  1.07e-03 \n",
      "----------------------------------------------------------------------------\n",
      "Status: Solved\n",
      "Timing: Solve time: 1.07e-03s\n",
      "\tLin-sys: avg # CG iterations: 1.75, avg solve time: 1.15e-06s\n",
      "\tCones: avg projection time: 8.72e-06s\n",
      "\tAcceleration: avg step time: 5.85e-06s\n",
      "----------------------------------------------------------------------------\n",
      "Error metrics:\n",
      "dist(s, K) = 1.2699e-09, dist(y, K*) = 1.8317e-09, s'y/|s||y| = -3.3769e-11\n",
      "primal res: |Ax + s - b|_2 / (1 + |b|_2) = 6.4731e-10\n",
      "dual res:   |A'y + c|_2 / (1 + |c|_2) = 7.1149e-10\n",
      "rel gap:    |c'x + b'y| / (1 + |c'x| + |b'y|) = 1.7050e-09\n",
      "----------------------------------------------------------------------------\n",
      "c'x = 0.7057, -b'y = 0.7057\n",
      "============================================================================\n"
     ]
    },
    {
     "data": {
      "text/plain": [
       "SCS.MOISolution(1, \"Solved\", [0.217251238770051, -0.2599704147186366, 0.31108967252616243, 0.2172512383948794, -0.25997041471863536, 0.21725123877005162, 0.25440785083602735, 0.17989351643122645, 0.17989351643122645], [0.5447582105062065, 0.3219045549528856, 0.45524178943652027, -0.3219045563900619, -0.3219045563900619, 1.133337233849821, 0.9589717750123417, -0.4552417892860504, 1.1333372326447106, 0.958971775012335, 1.1333372338498173], [-5.8304524274385224e-18, 1.672022895212547e-17, 0.25440785071939953, 0.17989351643078233, 0.17989351643078233, 0.21725123843399946, -0.36765368641915924, 0.30723964791089897, 0.31108967225522005, -0.3676536864191592, 0.2172512384339987], 0.7057104920940137, 0.7057104879826493, 0.0, 0.001225041, 60)"
      ]
     },
     "execution_count": 15,
     "metadata": {},
     "output_type": "execute_result"
    }
   ],
   "source": [
    "model = diff_optimizer(SCS.Optimizer)\n",
    "\n",
    "δ = √(1 + (3*√2+2)*√(-116*√2+166) / 14) / 2\n",
    "ε = √((1 - 2*(√2-1)*δ^2) / (2-√2))\n",
    "y2 = 1 - ε*δ\n",
    "y1 = 1 - √2*y2\n",
    "obj = y1 + y2/2\n",
    "k = -2*δ/ε\n",
    "x2 = ((3-2obj)*(2+k^2)-4) / (4*(2+k^2)-4*√2)\n",
    "α = √(3-2obj-4x2)/2\n",
    "β = k*α\n",
    "\n",
    "X = MOI.add_variables(model, 6)\n",
    "x = MOI.add_variables(model, 3)\n",
    "\n",
    "vov = MOI.VectorOfVariables(X)\n",
    "cX = MOI.add_constraint(model, MOI.VectorAffineFunction{Float64}(vov), MOI.PositiveSemidefiniteConeTriangle(3))\n",
    "cx = MOI.add_constraint(model, MOI.VectorAffineFunction{Float64}(MOI.VectorOfVariables(x)), MOI.SecondOrderCone(3))\n",
    "\n",
    "c1 = MOI.add_constraint(\n",
    "    model, \n",
    "    MOI.VectorAffineFunction(\n",
    "        MOI.VectorAffineTerm.(1:1, MOI.ScalarAffineTerm.([1., 1., 1., 1.], [X[1], X[3], X[end], x[1]])), \n",
    "        [-1.0]\n",
    "    ), \n",
    "    MOI.Zeros(1)\n",
    ")\n",
    "c2 = MOI.add_constraint(\n",
    "    model, \n",
    "    MOI.VectorAffineFunction(\n",
    "        MOI.VectorAffineTerm.(1:1, MOI.ScalarAffineTerm.([1., 2, 1, 2, 2, 1, 1, 1], [X; x[2]; x[3]])), \n",
    "        [-0.5]\n",
    "    ), \n",
    "    MOI.Zeros(1)\n",
    ")\n",
    "\n",
    "objXidx = [1:3; 5:6]\n",
    "objXcoefs = 2*ones(5)\n",
    "MOI.set(model, MOI.ObjectiveFunction{MOI.ScalarAffineFunction{Float64}}(),\n",
    "MOI.ScalarAffineFunction(MOI.ScalarAffineTerm.([objXcoefs; 1.0], [X[objXidx]; x[1]]), 0.0))\n",
    "MOI.set(model, MOI.ObjectiveSense(), MOI.MIN_SENSE)\n",
    "\n",
    "sol = MOI.optimize!(model)"
   ]
  },
  {
   "cell_type": "code",
   "execution_count": 9,
   "metadata": {
    "scrolled": true
   },
   "outputs": [
    {
     "data": {
      "text/plain": [
       "9-element Array{Float64,1}:\n",
       "  0.217251238770051\n",
       " -0.2599704147186366\n",
       "  0.31108967252616243\n",
       "  0.2172512383948794\n",
       " -0.25997041471863536\n",
       "  0.21725123877005162\n",
       "  0.25440785083602735\n",
       "  0.17989351643122645\n",
       "  0.17989351643122645"
      ]
     },
     "execution_count": 9,
     "metadata": {},
     "output_type": "execute_result"
    }
   ],
   "source": [
    "MOI.get(model, MOI.VariablePrimal(), model.var_idx)"
   ]
  },
  {
   "cell_type": "code",
   "execution_count": 11,
   "metadata": {},
   "outputs": [
    {
     "data": {
      "text/plain": [
       "4-element Array{Union{Float64, Array{Float64,1}},1}:\n",
       " [1.133337233849821, 0.6780954450777269, 1.1333372326447106, -0.3219045562836636, 0.6780954450777222, 1.1333372338498173]\n",
       " [0.45524178943652027, -0.3219045563900619, -0.3219045563900619]\n",
       " [0.5447582105062065]\n",
       " [0.3219045549528856]"
      ]
     },
     "execution_count": 11,
     "metadata": {},
     "output_type": "execute_result"
    }
   ],
   "source": [
    "model.dual_optimal"
   ]
  },
  {
   "cell_type": "code",
   "execution_count": 18,
   "metadata": {},
   "outputs": [
    {
     "name": "stdout",
     "output_type": "stream",
     "text": [
      "----------------------------------------------------------------------------\n",
      "\tSCS v2.1.1 - Splitting Conic Solver\n",
      "\t(c) Brendan O'Donoghue, Stanford University, 2012\n",
      "----------------------------------------------------------------------------\n",
      "Lin-sys: sparse-indirect, nnz in A = 30, CG tol ~ 1/iter^(2.00)\n",
      "eps = 1.00e-05, alpha = 1.50, max_iters = 5000, normalize = 1, scale = 1.00\n",
      "acceleration_lookback = 10, rho_x = 1.00e-03\n",
      "Variables n = 11, constraints m = 18\n",
      "Cones:\tprimal zero / dual free vars: 9\n",
      "\tsoc vars: 3, soc blks: 1\n",
      "\tsd vars: 6, sd blks: 1\n",
      "Setup time: 5.15e-05s\n",
      "----------------------------------------------------------------------------\n",
      " Iter | pri res | dua res | rel gap | pri obj | dua obj | kap/tau | time (s)\n",
      "----------------------------------------------------------------------------\n",
      "     0| 5.57e+00  4.55e+00  2.39e-01 -1.94e+01 -1.17e+01  0.00e+00  5.77e-05 \n",
      "    40| 1.18e-08  9.41e-09  1.76e-09 -7.06e-01 -7.06e-01  2.46e-16  5.65e-04 \n",
      "----------------------------------------------------------------------------\n",
      "Status: Solved\n",
      "Timing: Solve time: 5.67e-04s\n",
      "\tLin-sys: avg # CG iterations: 2.49, avg solve time: 1.19e-06s\n",
      "\tCones: avg projection time: 5.44e-06s\n",
      "\tAcceleration: avg step time: 5.76e-06s\n",
      "----------------------------------------------------------------------------\n",
      "Error metrics:\n",
      "dist(s, K) = 2.4305e-16, dist(y, K*) = 1.9304e-09, s'y/|s||y| = 7.8829e-12\n",
      "primal res: |Ax + s - b|_2 / (1 + |b|_2) = 1.1806e-08\n",
      "dual res:   |A'y + c|_2 / (1 + |c|_2) = 9.4140e-09\n",
      "rel gap:    |c'x + b'y| / (1 + |c'x| + |b'y|) = 1.7565e-09\n",
      "----------------------------------------------------------------------------\n",
      "c'x = -0.7057, -b'y = -0.7057\n",
      "============================================================================\n"
     ]
    },
    {
     "ename": "UndefVarError",
     "evalue": "UndefVarError: con_index not defined",
     "output_type": "error",
     "traceback": [
      "UndefVarError: con_index not defined",
      "",
      "Stacktrace:",
      " [1] top-level scope at In[18]:13"
     ]
    }
   ],
   "source": [
    "joint_object    = dualize(model)\n",
    "dual_model_like = joint_object.dual_model # this is MOI.ModelLike, not an MOI.AbstractOptimizer; can't call optimizer on it\n",
    "primal_dual_map = joint_object.primal_dual_map;\n",
    "\n",
    "# copy the dual model objective, constraints, and variables to an optimizer\n",
    "dual_model = MOI.instantiate(SCS.Optimizer, with_bridge_type=Float64)\n",
    "MOI.copy_to(dual_model, dual_model_like)\n",
    "\n",
    "# solve dual\n",
    "MOI.optimize!(dual_model);\n",
    "\n",
    "map = primal_dual_map.primal_con_dual_var;\n",
    "\n",
    "μ   = MOI.get(dual_model, MOI.VariablePrimal(), map[con_index][1])"
   ]
  },
  {
   "cell_type": "code",
   "execution_count": 51,
   "metadata": {},
   "outputs": [
    {
     "data": {
      "text/plain": [
       "_set_type (generic function with 1 method)"
      ]
     },
     "execution_count": 51,
     "metadata": {},
     "output_type": "execute_result"
    }
   ],
   "source": [
    "_set_type(::MOI.ConstraintIndex{F,S}) where {F,S} = S"
   ]
  },
  {
   "cell_type": "code",
   "execution_count": 53,
   "metadata": {},
   "outputs": [
    {
     "data": {
      "text/plain": [
       "4-element Array{MathOptInterface.ConstraintIndex,1}:\n",
       " MathOptInterface.ConstraintIndex{MathOptInterface.VectorAffineFunction{Float64},MathOptInterface.Zeros}(3)\n",
       " MathOptInterface.ConstraintIndex{MathOptInterface.VectorAffineFunction{Float64},MathOptInterface.Zeros}(4)\n",
       " MathOptInterface.ConstraintIndex{MathOptInterface.VectorAffineFunction{Float64},MathOptInterface.SecondOrderCone}(2)\n",
       " MathOptInterface.ConstraintIndex{MathOptInterface.VectorAffineFunction{Float64},MathOptInterface.PositiveSemidefiniteConeTriangle}(1)"
      ]
     },
     "execution_count": 53,
     "metadata": {},
     "output_type": "execute_result"
    }
   ],
   "source": [
    "cis = sort(\n",
    "    model.con_idx, \n",
    "    by = x->CONES[_set_type(x)]\n",
    ")"
   ]
  },
  {
   "cell_type": "code",
   "execution_count": 55,
   "metadata": {},
   "outputs": [
    {
     "data": {
      "text/plain": [
       "4-element Array{DataType,1}:\n",
       " MathOptInterface.Zeros\n",
       " MathOptInterface.Zeros\n",
       " MathOptInterface.SecondOrderCone\n",
       " MathOptInterface.PositiveSemidefiniteConeTriangle"
      ]
     },
     "execution_count": 55,
     "metadata": {},
     "output_type": "execute_result"
    }
   ],
   "source": [
    "cones = _set_type.(cis)"
   ]
  },
  {
   "cell_type": "code",
   "execution_count": 58,
   "metadata": {},
   "outputs": [
    {
     "data": {
      "text/plain": [
       "3-element Array{DataType,1}:\n",
       " MathOptInterface.Zeros\n",
       " MathOptInterface.SecondOrderCone\n",
       " MathOptInterface.PositiveSemidefiniteConeTriangle"
      ]
     },
     "execution_count": 58,
     "metadata": {},
     "output_type": "execute_result"
    }
   ],
   "source": [
    "unique!(cones)"
   ]
  },
  {
   "cell_type": "code",
   "execution_count": 59,
   "metadata": {},
   "outputs": [
    {
     "data": {
      "text/plain": [
       "3-element Array{DataType,1}:\n",
       " MathOptInterface.Zeros\n",
       " MathOptInterface.SecondOrderCone\n",
       " MathOptInterface.PositiveSemidefiniteConeTriangle"
      ]
     },
     "execution_count": 59,
     "metadata": {},
     "output_type": "execute_result"
    }
   ],
   "source": [
    "cones"
   ]
  },
  {
   "cell_type": "code",
   "execution_count": null,
   "metadata": {},
   "outputs": [],
   "source": []
  }
 ],
 "metadata": {
  "kernelspec": {
   "display_name": "Julia 1.4.2",
   "language": "julia",
   "name": "julia-1.4"
  },
  "language_info": {
   "file_extension": ".jl",
   "mimetype": "application/julia",
   "name": "julia",
   "version": "1.4.2"
  }
 },
 "nbformat": 4,
 "nbformat_minor": 2
}
