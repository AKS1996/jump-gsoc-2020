{
 "cells": [
  {
   "cell_type": "code",
   "execution_count": 1,
   "metadata": {},
   "outputs": [],
   "source": [
    "import numpy as np\n",
    "import cvxpy as cp\n",
    "from scipy import sparse\n",
    "import diffcp"
   ]
  },
  {
   "cell_type": "code",
   "execution_count": 2,
   "metadata": {},
   "outputs": [
    {
     "name": "stderr",
     "output_type": "stream",
     "text": [
      "/home/akshay/.pyenv/versions/procol/lib/python3.6/site-packages/scipy/sparse/_index.py:84: SparseEfficiencyWarning: Changing the sparsity structure of a csc_matrix is expensive. lil_matrix is more efficient.\n",
      "  self._set_intXint(row, col, x.flat[0])\n"
     ]
    }
   ],
   "source": [
    "A = sparse.csc_matrix((6+1,1+1), dtype=np.float64)\n",
    "A[1, 1]  =  -1.0\n",
    "A[4, 1]  =  -1.0\n",
    "A[6, 1]  =  -1.0\n",
    "\n",
    "A = A[1:, 1:]"
   ]
  },
  {
   "cell_type": "code",
   "execution_count": 4,
   "metadata": {
    "scrolled": false
   },
   "outputs": [
    {
     "name": "stdout",
     "output_type": "stream",
     "text": [
      "[1.]\n",
      "[1.         1.41421356 1.41421356 1.         1.41421356 1.        ]\n",
      "[ 0.33333333 -0.23570226 -0.23570226  0.33333333 -0.23570226  0.33333333]\n",
      "[-1.33920652e-15]\n",
      "[ 1.21963481e-11 -8.37180325e-12 -8.83114415e-12  3.20313220e-13\n",
      "  7.96326893e-12  6.45629383e-13]\n",
      "[ 0.43096441 -0.30473785 -0.30473785  0.43096441 -0.30473785  0.43096441]\n"
     ]
    }
   ],
   "source": [
    "# equivalent to: https://github.com/jump-dev/MathOptInterface.jl/blob/master/src/Test/contconic.jl#L2575\n",
    "\n",
    "cone_dict = {\n",
    "    diffcp.PSD: [3],\n",
    "}\n",
    "\n",
    "b = np.array([0.0, 1.4142135623730951, 1.4142135623730951, 0.0, 1.4142135623730951, 0.0])\n",
    "c = np.array([1.0])\n",
    "\n",
    "x, y, s, D, DT = diffcp.solve_and_derivative(A, b, c, cone_dict)\n",
    "print(x) # MOI.VariablePrimal\n",
    "print(s) # MOI.ConstraintPrimal\n",
    "print(y) # MOI.ConstraintDual\n",
    "\n",
    "\n",
    "dx, dy, ds = D(sparse.csc_matrix(np.ones((6,1))), np.ones(6), np.ones(1))\n",
    "print(dx)\n",
    "print(ds)\n",
    "print(dy)"
   ]
  },
  {
   "cell_type": "code",
   "execution_count": null,
   "metadata": {},
   "outputs": [],
   "source": []
  }
 ],
 "metadata": {
  "kernelspec": {
   "display_name": "Python 3.6.9 64-bit ('procol': venv)",
   "language": "python",
   "name": "python36964bitprocolvenv3d5a78e847ac487da652a96deb972468"
  },
  "language_info": {
   "codemirror_mode": {
    "name": "ipython",
    "version": 3
   },
   "file_extension": ".py",
   "mimetype": "text/x-python",
   "name": "python",
   "nbconvert_exporter": "python",
   "pygments_lexer": "ipython3",
   "version": "3.6.9"
  }
 },
 "nbformat": 4,
 "nbformat_minor": 2
}
