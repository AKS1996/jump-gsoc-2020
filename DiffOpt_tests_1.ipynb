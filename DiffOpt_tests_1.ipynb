{
 "cells": [
  {
   "cell_type": "code",
   "execution_count": 33,
   "metadata": {},
   "outputs": [],
   "source": [
    "using MathOptInterface\n",
    "using OSQP\n",
    "using Test\n",
    "using LinearAlgebra\n",
    "using DiffOpt\n",
    "\n",
    "const MOI = MathOptInterface\n",
    "const MOIU = MathOptInterface.Utilities;"
   ]
  },
  {
   "cell_type": "code",
   "execution_count": 34,
   "metadata": {},
   "outputs": [
    {
     "data": {
      "text/plain": [
       "MathOptInterface.ScalarQuadraticFunction{Float64}(MathOptInterface.ScalarAffineTerm{Float64}[], MathOptInterface.ScalarQuadraticTerm{Float64}[ScalarQuadraticTerm{Float64}(2.0, VariableIndex(1), VariableIndex(1)), ScalarQuadraticTerm{Float64}(1.0, VariableIndex(1), VariableIndex(2)), ScalarQuadraticTerm{Float64}(2.0, VariableIndex(2), VariableIndex(2)), ScalarQuadraticTerm{Float64}(1.0, VariableIndex(2), VariableIndex(3)), ScalarQuadraticTerm{Float64}(2.0, VariableIndex(3), VariableIndex(3))], 0.0)"
      ]
     },
     "execution_count": 34,
     "metadata": {},
     "output_type": "execute_result"
    }
   ],
   "source": [
    "# homogeneous quadratic objective\n",
    "# Min x^2 + xy + y^2 + yz + z^2\n",
    "# st  x + 2y + 3z >= 4 (c1)\n",
    "#     x +  y      >= 1 (c2)\n",
    "#     x, y, z \\in R\n",
    "\n",
    "model = MOI.instantiate(OSQP.Optimizer, with_bridge_type=Float64)\n",
    "v = MOI.add_variables(model, 3)\n",
    "@test MOI.get(model, MOI.NumberOfVariables()) == 3\n",
    "\n",
    "c1 = MOI.add_constraint(\n",
    "    model,\n",
    "    MOI.ScalarAffineFunction(MOI.ScalarAffineTerm.([-1.0, -2.0, -3.0], v), 0.0),\n",
    "    MOI.LessThan(-4.0)\n",
    ")\n",
    "c2 = MOI.add_constraint(\n",
    "    model, \n",
    "    MOI.ScalarAffineFunction(MOI.ScalarAffineTerm.([-1.0, -1.0, 0.0], v), 0.0),\n",
    "    MOI.LessThan(-1.0)\n",
    ")\n",
    "\n",
    "MOI.set(model, MOI.ObjectiveSense(), MOI.MIN_SENSE)\n",
    "@test MOI.get(model, MOI.ObjectiveSense()) == MOI.MIN_SENSE\n",
    "obj = MOI.ScalarQuadraticFunction(MOI.ScalarAffineTerm{Float64}[], MOI.ScalarQuadraticTerm.([2.0, 1.0, 2.0, 1.0, 2.0], v[[1,1,2,2,3]], v[[1,2,2,3,3]]), 0.0)\n",
    "MOI.set(model, MOI.ObjectiveFunction{MOI.ScalarQuadraticFunction{Float64}}(), obj)"
   ]
  },
  {
   "cell_type": "code",
   "execution_count": 35,
   "metadata": {},
   "outputs": [
    {
     "data": {
      "text/plain": [
       "#1 (generic function with 1 method)"
      ]
     },
     "execution_count": 35,
     "metadata": {},
     "output_type": "execute_result"
    }
   ],
   "source": [
    "dm = diff_model(model)"
   ]
  },
  {
   "cell_type": "code",
   "execution_count": 36,
   "metadata": {},
   "outputs": [
    {
     "name": "stdout",
     "output_type": "stream",
     "text": [
      "-----------------------------------------------------------------\n",
      "           OSQP v0.6.0  -  Operator Splitting QP Solver\n",
      "              (c) Bartolomeo Stellato,  Goran Banjac\n",
      "        University of Oxford  -  Stanford University 2019\n",
      "-----------------------------------------------------------------\n",
      "problem:  variables n = 3, constraints m = 2\n",
      "          nnz(P) + nnz(A) = 11\n",
      "settings: linear system solver = qdldl,\n",
      "          eps_abs = 1.0e-03, eps_rel = 1.0e-03,\n",
      "          eps_prim_inf = 1.0e-04, eps_dual_inf = 1.0e-04,\n",
      "          rho = 1.00e-01 (adaptive),\n",
      "          sigma = 1.00e-06, alpha = 1.60, max_iter = 4000\n",
      "          check_termination: on (interval 25),\n",
      "          scaling: on, scaled_termination: off\n",
      "          warm start: on, polish: off, time_limit: off\n",
      "\n",
      "iter   objective    pri res    dua res    rho        time\n",
      "   1   0.0000e+00   4.00e+00   4.66e-01   1.00e-01   9.99e-05s\n",
      "  50   1.8571e+00   1.08e-11   6.31e-12   3.96e+00   1.29e-04s\n",
      "\n",
      "status:               solved\n",
      "number of iterations: 50\n",
      "optimal objective:    1.8571\n",
      "run time:             1.34e-04s\n",
      "optimal rho estimate: 6.41e-01\n",
      "\n"
     ]
    },
    {
     "data": {
      "text/plain": [
       "([0.571429, 0.428571, 0.857143], [-0.714286, -0.857143], Float64[])"
      ]
     },
     "execution_count": 36,
     "metadata": {},
     "output_type": "execute_result"
    }
   ],
   "source": [
    "z, λ, ν = dm.forward()"
   ]
  },
  {
   "cell_type": "code",
   "execution_count": 37,
   "metadata": {},
   "outputs": [
    {
     "data": {
      "text/plain": [
       "\u001b[32m\u001b[1mTest Passed\u001b[22m\u001b[39m"
      ]
     },
     "execution_count": 37,
     "metadata": {},
     "output_type": "execute_result"
    }
   ],
   "source": [
    "@test z ≈ [4/7, 3/7, 6/7] atol=1e-4 rtol=1e-4"
   ]
  },
  {
   "cell_type": "code",
   "execution_count": null,
   "metadata": {},
   "outputs": [],
   "source": [
    "# @test dz_dQ ≈ [-0.12244895  0.01530609  -0.11224488;\n",
    "#                0.01530609   0.09183674   0.07653058;\n",
    "#                -0.11224488  0.07653058  -0.06122449] atol=1e-4 rtol=1e-4"
   ]
  },
  {
   "cell_type": "code",
   "execution_count": 38,
   "metadata": {},
   "outputs": [
    {
     "data": {
      "text/plain": [
       "2-element Array{Float64,1}:\n",
       " -4.0\n",
       " -1.0"
      ]
     },
     "execution_count": 38,
     "metadata": {},
     "output_type": "execute_result"
    }
   ],
   "source": [
    "nz = 3\n",
    "nineq = 2\n",
    "\n",
    "Q = [2. 1. 0.; 1. 2. 1.; 0. 1. 2.]\n",
    "q = [0.; 0.; 0]\n",
    "G = [-1. -2. -3.; -1. -1. 0.]\n",
    "h = [-4.; -1.]"
   ]
  },
  {
   "cell_type": "code",
   "execution_count": 39,
   "metadata": {},
   "outputs": [
    {
     "data": {
      "text/plain": [
       "5×5 Array{Float64,2}:\n",
       "  2.0   1.0   0.0   0.714286      0.857143   \n",
       "  1.0   2.0   1.0   1.42857       0.857143   \n",
       "  0.0   1.0   2.0   2.14286       0.0        \n",
       " -1.0  -2.0  -3.0  -1.07967e-11   0.0        \n",
       " -1.0  -1.0   0.0   0.0          -3.18412e-12"
      ]
     },
     "execution_count": 39,
     "metadata": {},
     "output_type": "execute_result"
    }
   ],
   "source": [
    "# lhs = DiffOpt.create_LHS_matrix(z, λ, Q, G, h)\n",
    "lhs = [Q    G'*Diagonal(λ);\n",
    "       G    Diagonal((G * z) - h)]\n",
    "lhs = Matrix(lhs)"
   ]
  },
  {
   "cell_type": "code",
   "execution_count": 54,
   "metadata": {},
   "outputs": [
    {
     "data": {
      "text/plain": [
       "5×1 Array{Float64,2}:\n",
       " 1.0\n",
       " 1.0\n",
       " 1.0\n",
       " 0.0\n",
       " 0.0"
      ]
     },
     "execution_count": 54,
     "metadata": {},
     "output_type": "execute_result"
    }
   ],
   "source": [
    "# rhs = [[1.1; 0.9; 0.8];\n",
    "#         zeros(2,1)]\n",
    "\n",
    "\n",
    "rhs = [ones(3,1);  # setting dl/dz = [1, 1, ...]\n",
    "        zeros(2,1)]"
   ]
  },
  {
   "cell_type": "code",
   "execution_count": 55,
   "metadata": {},
   "outputs": [
    {
     "data": {
      "text/plain": [
       "5×1 Array{Float64,2}:\n",
       " -0.21428571428487383\n",
       "  0.21428571428646592\n",
       " -0.07142857142755321\n",
       " -0.5000000000012236 \n",
       " -0.5000000000016235 "
      ]
     },
     "execution_count": 55,
     "metadata": {},
     "output_type": "execute_result"
    }
   ],
   "source": [
    "sol = -(lhs \\ rhs)"
   ]
  },
  {
   "cell_type": "code",
   "execution_count": 56,
   "metadata": {},
   "outputs": [
    {
     "data": {
      "text/plain": [
       "2-element Array{Float64,1}:\n",
       " -0.5000000000012236\n",
       " -0.5000000000016235"
      ]
     },
     "execution_count": 56,
     "metadata": {},
     "output_type": "execute_result"
    }
   ],
   "source": [
    "dz = sol[1:3]\n",
    "dλ = sol[4:5]"
   ]
  },
  {
   "cell_type": "code",
   "execution_count": 57,
   "metadata": {},
   "outputs": [
    {
     "data": {
      "text/plain": [
       "3×3 Array{Float64,2}:\n",
       " -0.122449   0.0153061  -0.112245 \n",
       "  0.0153061  0.0918367   0.0765306\n",
       " -0.112245   0.0765306  -0.0612245"
      ]
     },
     "execution_count": 57,
     "metadata": {},
     "output_type": "execute_result"
    }
   ],
   "source": [
    "dl_dQ = 0.5*(dz*z' + z*dz')"
   ]
  },
  {
   "cell_type": "code",
   "execution_count": 58,
   "metadata": {},
   "outputs": [
    {
     "data": {
      "text/plain": [
       "3-element Array{Float64,1}:\n",
       " -0.21428571428487383\n",
       "  0.21428571428646592\n",
       " -0.07142857142755321"
      ]
     },
     "execution_count": 58,
     "metadata": {},
     "output_type": "execute_result"
    }
   ],
   "source": [
    "dl_dq = dz"
   ]
  },
  {
   "cell_type": "code",
   "execution_count": 59,
   "metadata": {},
   "outputs": [
    {
     "data": {
      "text/plain": [
       "2×3 Array{Float64,2}:\n",
       " 0.0510204  0.306122  0.255102\n",
       " 0.0612245  0.367347  0.306122"
      ]
     },
     "execution_count": 59,
     "metadata": {},
     "output_type": "execute_result"
    }
   ],
   "source": [
    "dl_dG = Diagonal(λ)*dλ*z' - λ*dz' "
   ]
  },
  {
   "cell_type": "code",
   "execution_count": 60,
   "metadata": {},
   "outputs": [
    {
     "data": {
      "text/plain": [
       "2-element Array{Float64,1}:\n",
       " -0.3571428571437865 \n",
       " -0.42857142857293173"
      ]
     },
     "execution_count": 60,
     "metadata": {},
     "output_type": "execute_result"
    }
   ],
   "source": [
    "dl_dh = -Diagonal(λ) * dλ"
   ]
  },
  {
   "cell_type": "code",
   "execution_count": null,
   "metadata": {},
   "outputs": [],
   "source": []
  }
 ],
 "metadata": {
  "kernelspec": {
   "display_name": "Julia 1.0.5",
   "language": "julia",
   "name": "julia-1.0"
  },
  "language_info": {
   "file_extension": ".jl",
   "mimetype": "application/julia",
   "name": "julia",
   "version": "1.0.5"
  }
 },
 "nbformat": 4,
 "nbformat_minor": 2
}
