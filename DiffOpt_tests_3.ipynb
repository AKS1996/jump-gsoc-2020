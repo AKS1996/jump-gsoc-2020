{
 "cells": [
  {
   "cell_type": "code",
   "execution_count": 60,
   "metadata": {},
   "outputs": [
    {
     "data": {
      "text/plain": [
       "MathOptInterface"
      ]
     },
     "execution_count": 60,
     "metadata": {},
     "output_type": "execute_result"
    }
   ],
   "source": [
    "using MathOptInterface\n",
    "using Ipopt\n",
    "using Test\n",
    "using LinearAlgebra\n",
    "using DiffOpt\n",
    "using DelimitedFiles\n",
    "\n",
    "const MOI = MathOptInterface"
   ]
  },
  {
   "cell_type": "code",
   "execution_count": 61,
   "metadata": {},
   "outputs": [
    {
     "data": {
      "text/plain": [
       "10"
      ]
     },
     "execution_count": 61,
     "metadata": {},
     "output_type": "execute_result"
    }
   ],
   "source": [
    "nz = 10\n",
    "nineq = 25\n",
    "neq = 10"
   ]
  },
  {
   "cell_type": "code",
   "execution_count": 62,
   "metadata": {},
   "outputs": [],
   "source": [
    "# read matrices from files\n",
    "names = [\"Q\", \"q\", \"G\", \"h\", \"A\", \"b\"]\n",
    "matrices = []\n",
    "\n",
    "for name in names\n",
    "    push!(matrices, readdlm(name*\".txt\", ' ', Float64, '\\n'))\n",
    "end\n",
    "    \n",
    "Q, q, G, h, A, b = matrices\n",
    "q = vec(q)\n",
    "h = vec(h)\n",
    "b = vec(b);"
   ]
  },
  {
   "cell_type": "code",
   "execution_count": 63,
   "metadata": {},
   "outputs": [],
   "source": [
    "optimizer = MOI.instantiate(Ipopt.Optimizer, with_bridge_type=Float64)\n",
    "\n",
    "x = MOI.add_variables(optimizer, nz)\n",
    "\n",
    "# define objective\n",
    "quadratic_terms = MOI.ScalarQuadraticTerm{Float64}[]\n",
    "for i in 1:nz\n",
    "    for j in i:nz # indexes (i,j), (j,i) will be mirrored. specify only one kind\n",
    "        push!(quadratic_terms, MOI.ScalarQuadraticTerm(Q[i,j],x[i],x[j]))\n",
    "    end\n",
    "end\n",
    "\n",
    "objective_function = MOI.ScalarQuadraticFunction(MOI.ScalarAffineTerm.(q, x), quadratic_terms, 0.0)\n",
    "MOI.set(optimizer, MOI.ObjectiveFunction{MOI.ScalarQuadraticFunction{Float64}}(), objective_function)\n",
    "MOI.set(optimizer, MOI.ObjectiveSense(), MOI.MIN_SENSE)\n",
    "\n",
    "# set constraints\n",
    "for i in 1:nineq\n",
    "    MOI.add_constraint(\n",
    "        optimizer,\n",
    "        MOI.ScalarAffineFunction(MOI.ScalarAffineTerm.(G[i,:], x), 0.),MOI.LessThan(h[i])\n",
    "    )\n",
    "end\n",
    "\n",
    "for i in 1:neq\n",
    "    MOI.add_constraint(\n",
    "        optimizer,\n",
    "        MOI.ScalarAffineFunction(MOI.ScalarAffineTerm.(A[i,:], x), 0.),MOI.EqualTo(b[i])\n",
    "    )\n",
    "end"
   ]
  },
  {
   "cell_type": "code",
   "execution_count": 64,
   "metadata": {},
   "outputs": [
    {
     "data": {
      "text/plain": [
       "#1 (generic function with 1 method)"
      ]
     },
     "execution_count": 64,
     "metadata": {},
     "output_type": "execute_result"
    }
   ],
   "source": [
    "dm = diff_model(optimizer)"
   ]
  },
  {
   "cell_type": "code",
   "execution_count": 65,
   "metadata": {},
   "outputs": [
    {
     "name": "stdout",
     "output_type": "stream",
     "text": [
      "This is Ipopt version 3.13.2, running with linear solver mumps.\n",
      "NOTE: Other linear solvers might be more efficient (see Ipopt documentation).\n",
      "\n",
      "Number of nonzeros in equality constraint Jacobian...:      100\n",
      "Number of nonzeros in inequality constraint Jacobian.:      250\n",
      "Number of nonzeros in Lagrangian Hessian.............:       55\n",
      "\n",
      "Total number of variables............................:       10\n",
      "                     variables with only lower bounds:        0\n",
      "                variables with lower and upper bounds:        0\n",
      "                     variables with only upper bounds:        0\n",
      "Total number of equality constraints.................:       10\n",
      "Total number of inequality constraints...............:       25\n",
      "        inequality constraints with only lower bounds:        0\n",
      "   inequality constraints with lower and upper bounds:        0\n",
      "        inequality constraints with only upper bounds:       25\n",
      "\n",
      "iter    objective    inf_pr   inf_du lg(mu)  ||d||  lg(rg) alpha_du alpha_pr  ls\n",
      "   0  0.0000000e+00 4.63e+00 2.54e+00  -1.0 0.00e+00    -  0.00e+00 0.00e+00   0\n",
      "   1 -2.5643312e+00 4.44e-16 7.07e+01  -1.0 6.65e+00    -  1.38e-02 1.00e+00f  1\n",
      "\n",
      "Number of Iterations....: 1\n",
      "\n",
      "                                   (scaled)                 (unscaled)\n",
      "Objective...............:  -2.5643312287400155e+00   -2.5643312287400155e+00\n",
      "Dual infeasibility......:   4.5944524911841125e-14    4.5944524911841125e-14\n",
      "Constraint violation....:   4.4408920985006262e-16    4.4408920985006262e-16\n",
      "Complementarity.........:   0.0000000000000000e+00    0.0000000000000000e+00\n",
      "Overall NLP error.......:   4.4408920985006262e-16    4.5944524911841125e-14\n",
      "\n",
      "\n",
      "Number of objective function evaluations             = 2\n",
      "Number of objective gradient evaluations             = 2\n",
      "Number of equality constraint evaluations            = 2\n",
      "Number of inequality constraint evaluations          = 2\n",
      "Number of equality constraint Jacobian evaluations   = 1\n",
      "Number of inequality constraint Jacobian evaluations = 1\n",
      "Number of Lagrangian Hessian evaluations             = 1\n",
      "Total CPU secs in IPOPT (w/o function evaluations)   =      0.004\n",
      "Total CPU secs in NLP function evaluations           =      0.000\n",
      "\n",
      "EXIT: Optimal Solution Found.\n"
     ]
    },
    {
     "data": {
      "text/plain": [
       "([-1.50146, -1.40531, 0.597702, -0.233848, 0.87574, -0.141102, 0.0414033, -0.995577, 0.738403, 0.588709], [-2.63697e-14, -4.59445e-14, 1.22901e-14, -1.97106e-15, 2.06348e-14, 2.37439e-15, 1.38352e-14, 8.92055e-15, 1.89919e-14, -1.58258e-15  …  9.60755e-15, -3.51949e-14, 3.80686e-14, 2.17293e-14, 7.96443e-15, 3.43789e-14, 1.95445e-14, 2.32037e-15, 1.45256e-15, 1.58126e-14], [-6.67454, 1.7444, 11.3345, 6.85921, -23.7225, -27.3077, 14.8993, -3.26951, -14.0398, -19.5364])"
      ]
     },
     "execution_count": 65,
     "metadata": {},
     "output_type": "execute_result"
    }
   ],
   "source": [
    "z, λ, ν = dm.forward()"
   ]
  },
  {
   "cell_type": "code",
   "execution_count": 67,
   "metadata": {},
   "outputs": [
    {
     "data": {
      "text/plain": [
       "6-element Array{Any,1}:\n",
       " [-9.72469e-16 -2.17547e-16 … 1.15257e-16 1.82403e-17; -2.17547e-16 4.44671e-16 … -2.32758e-16 -2.54507e-16; … ; 1.15257e-16 -2.32758e-16 … 1.21833e-16 1.33355e-16; 1.82403e-17 -2.54507e-16 … 1.33355e-16 1.35198e-16]                                                               \n",
       " [6.4768e-16, -3.16422e-16, 7.24946e-17, 3.25893e-16, 3.64878e-16, -4.82649e-16, 2.61385e-16, 1.58521e-16, 1.64996e-16, 2.29652e-16]                                                                                                                                                   \n",
       " [-3.1051e-29 -5.33918e-29 … 2.80207e-29 2.49272e-29; -2.2629e-28 -2.54188e-28 … 1.33502e-28 1.10945e-28; … ; -2.73367e-30 -1.21844e-30 … 6.42049e-31 3.69385e-31; -3.50912e-29 -1.82548e-29 … 9.61177e-30 6.1119e-30]                                                                 \n",
       " [-3.20555e-29, -1.70532e-28, -6.34275e-29, 1.07289e-29, -4.3116e-29, 2.3768e-30, -2.18848e-29, -1.38529e-28, -1.69436e-29, -4.30571e-31  …  -1.83007e-29, -7.69459e-28, -8.94424e-29, -1.15757e-28, -3.2488e-30, -1.16584e-28, -6.51963e-30, -3.97443e-31, -1.19408e-30, -1.65503e-29]\n",
       " [1.9225 1.79938 … -0.945463 -0.753793; -0.237507 -0.222297 … 0.116803 0.0931243; … ; 4.40887 4.12652 … -2.16823 -1.72868; 8.36218 7.82666 … -4.11242 -3.27873]                                                                                                                        \n",
       " [1.28042, -0.158184, -2.99976, -2.2264, 4.91926, 7.00811, -4.39251, 0.750769, 2.93638, 5.56935]                                                                                                                                                                                       "
      ]
     },
     "execution_count": 67,
     "metadata": {},
     "output_type": "execute_result"
    }
   ],
   "source": [
    "# obtain gradients\n",
    "grads = dm.backward(names, ones(1,nz));  # using dl_dz=[1,1,1,1,1,....]"
   ]
  },
  {
   "cell_type": "code",
   "execution_count": 73,
   "metadata": {},
   "outputs": [],
   "source": [
    "# read gradients from files\n",
    "names = [\"dQ\", \"dq\", \"dG\", \"dh\", \"dA\", \"db\"]\n",
    "grads_actual = []\n",
    "\n",
    "for name in names\n",
    "    push!(grads_actual, readdlm(name*\".txt\", ' ', Float64, '\\n'))\n",
    "end\n",
    "\n",
    "grads_actual[2] = vec(grads_actual[2])\n",
    "grads_actual[4] = vec(grads_actual[4])\n",
    "grads_actual[6] = vec(grads_actual[6]);"
   ]
  },
  {
   "cell_type": "code",
   "execution_count": 79,
   "metadata": {},
   "outputs": [],
   "source": [
    "# testing differences\n",
    "atol=1e-2\n",
    "rtol=1e-2\n",
    "\n",
    "for i in 1:size(grads)[1]\n",
    "    @test grads[i] ≈  grads_actual[i] atol=ATOL rtol=RTOL\n",
    "end"
   ]
  },
  {
   "cell_type": "code",
   "execution_count": null,
   "metadata": {},
   "outputs": [],
   "source": []
  }
 ],
 "metadata": {
  "kernelspec": {
   "display_name": "Julia 1.0.5",
   "language": "julia",
   "name": "julia-1.0"
  },
  "language_info": {
   "file_extension": ".jl",
   "mimetype": "application/julia",
   "name": "julia",
   "version": "1.0.5"
  }
 },
 "nbformat": 4,
 "nbformat_minor": 2
}
