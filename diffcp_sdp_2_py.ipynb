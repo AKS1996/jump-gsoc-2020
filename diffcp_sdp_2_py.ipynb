{
 "cells": [
  {
   "cell_type": "code",
   "execution_count": 1,
   "metadata": {},
   "outputs": [],
   "source": [
    "import numpy as np\n",
    "import cvxpy as cp\n",
    "from scipy import sparse\n",
    "import diffcp"
   ]
  },
  {
   "cell_type": "code",
   "execution_count": 2,
   "metadata": {},
   "outputs": [
    {
     "name": "stderr",
     "output_type": "stream",
     "text": [
      "/home/akshay/.pyenv/versions/procol/lib/python3.6/site-packages/scipy/sparse/_index.py:84: SparseEfficiencyWarning: Changing the sparsity structure of a csc_matrix is expensive. lil_matrix is more efficient.\n",
      "  self._set_intXint(row, col, x.flat[0])\n"
     ]
    }
   ],
   "source": [
    "A = sparse.csc_matrix((11,9), dtype=np.float64)\n",
    "A[0 , 0]  =  -1.0\n",
    "A[1 , 0]  =  -1.0\n",
    "A[5 , 0]  =  -1.0\n",
    "A[1 , 1]  =  -2.0\n",
    "A[6 , 1]  =  -1.41421\n",
    "A[0 , 2]  =  -1.0\n",
    "A[1 , 2]  =  -1.0\n",
    "A[8 , 2]  =  -1.0\n",
    "A[1 , 3]  =  -2.0\n",
    "A[7 , 3]  =  -1.41421\n",
    "A[1 , 4]  =  -2.0\n",
    "A[9 , 4]  =  -1.41421\n",
    "A[0 , 5]  =  -1.0\n",
    "A[1 , 5]  =  -1.0\n",
    "A[10, 5]  =  -1.0\n",
    "A[0 , 6]  =  -1.0\n",
    "A[2 , 6]  =  -1.0\n",
    "A[1 , 7]  =  -1.0\n",
    "A[3 , 7]  =  -1.0\n",
    "A[1 , 8]  =  -1.0\n",
    "A[4 , 8]  =  -1.0"
   ]
  },
  {
   "cell_type": "code",
   "execution_count": 3,
   "metadata": {
    "scrolled": false
   },
   "outputs": [
    {
     "name": "stdout",
     "output_type": "stream",
     "text": [
      "[ 0.21725121 -0.25996907  0.31108582  0.21725009 -0.25996907  0.21725121\n",
      "  0.2544097   0.17989425  0.17989425]\n",
      "[ 3.62815765e-18  9.13225075e-18  2.54409397e-01  1.79894610e-01\n",
      "  1.79894610e-01  2.17250333e-01 -3.67650666e-01  3.07238368e-01\n",
      "  3.11085856e-01 -3.67650666e-01  2.17250333e-01]\n",
      "[ 0.54475556  0.32190866  0.45524724 -0.32190841 -0.32190841  1.13333458\n",
      "  0.95896711 -0.45524826  1.13333631  0.95896711  1.13333458]\n",
      "[ 1.61704223 -0.5569146  -0.7471691   1.60033013 -0.5569146   1.61704223\n",
      " -2.42981306 -1.7014106  -1.7014106 ]\n",
      "[-9.14062996e-18 -2.30074139e-17 -2.48690962e+00 -1.75851065e+00\n",
      " -1.75851065e+00  1.55994869e+00 -8.44690838e-01  2.20610060e+00\n",
      " -8.04264939e-01 -8.44690838e-01  1.55994869e+00]\n",
      "[ 2.05946425  9.70955435  4.48131535 -3.16876847 -3.16876847 -5.22822899\n",
      " -9.10636942 -9.10637304 -5.22823314 -9.10636942 -5.22822899]\n"
     ]
    }
   ],
   "source": [
    "# equivalent to https://github.com/jump-dev/MathOptInterface.jl/blob/master/src/Test/contconic.jl#L2417\n",
    "\n",
    "cone_dict = {\n",
    "    diffcp.PSD: [3],\n",
    "    diffcp.SOC: [3],\n",
    "    diffcp.ZERO: 2\n",
    "}\n",
    "\n",
    "b = np.array([-1.0, -0.5, 0.0, 0.0, 0.0, 0.0, 0.0, 0.0, 0.0, 0.0, 0.0])\n",
    "c = np.array([2.0, 2.0, 2.0, 0.0, 2.0, 2.0, 1.0, 0.0, 0.0])\n",
    "\n",
    "x, y, s, D, DT = diffcp.solve_and_derivative(A, b, c, cone_dict)\n",
    "print(x) # MOI.VariablePrimal\n",
    "print(s) # MOI.ConstraintPrimal\n",
    "print(y) # MOI.ConstraintDual\n",
    "\n",
    "\n",
    "dx, dy, ds = D(sparse.csc_matrix(np.ones((11,9))), np.ones(11), np.ones(9))\n",
    "print(dx)\n",
    "print(ds)\n",
    "print(dy)"
   ]
  }
 ],
 "metadata": {
  "kernelspec": {
   "display_name": "Python 3.6.9 64-bit ('procol': venv)",
   "language": "python",
   "name": "python36964bitprocolvenv3d5a78e847ac487da652a96deb972468"
  },
  "language_info": {
   "codemirror_mode": {
    "name": "ipython",
    "version": 3
   },
   "file_extension": ".py",
   "mimetype": "text/x-python",
   "name": "python",
   "nbconvert_exporter": "python",
   "pygments_lexer": "ipython3",
   "version": "3.6.9"
  }
 },
 "nbformat": 4,
 "nbformat_minor": 2
}
